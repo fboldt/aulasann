{
  "nbformat": 4,
  "nbformat_minor": 0,
  "metadata": {
    "colab": {
      "provenance": [],
      "authorship_tag": "ABX9TyMB6UQm/+HcZ87pELF+zXJb",
      "include_colab_link": true
    },
    "kernelspec": {
      "name": "python3",
      "display_name": "Python 3"
    },
    "language_info": {
      "name": "python"
    }
  },
  "cells": [
    {
      "cell_type": "markdown",
      "metadata": {
        "id": "view-in-github",
        "colab_type": "text"
      },
      "source": [
        "<a href=\"https://colab.research.google.com/github/fboldt/aulasann/blob/main/aula05e_real_world_dataset.ipynb\" target=\"_parent\"><img src=\"https://colab.research.google.com/assets/colab-badge.svg\" alt=\"Open In Colab\"/></a>"
      ]
    },
    {
      "cell_type": "code",
      "execution_count": 170,
      "metadata": {
        "id": "31W7rB0HbWp1"
      },
      "outputs": [],
      "source": [
        "from sklearn.datasets import load_digits\n",
        "from sklearn.model_selection import train_test_split\n",
        "\n",
        "X, y = load_digits(return_X_y=True)\n",
        "X_train, X_test, y_train, y_test = train_test_split(X, y, test_size=0.2)"
      ]
    },
    {
      "cell_type": "code",
      "source": [
        "import numpy as np\n",
        "\n",
        "def include_bias(X):\n",
        "  bias = np.ones((X.shape[0],1))\n",
        "  Xb = np.concatenate((bias, X), axis=1)\n",
        "  return Xb\n",
        "\n",
        "class Backpropagation():\n",
        "  def __init__(self, n_hidden=[2], max_iter=1000, learning_rate=0.01):\n",
        "    self.n_hidden = n_hidden\n",
        "    self.max_iter = max_iter\n",
        "    self.learning_rate = learning_rate\n",
        "\n",
        "  def foward(self, X):\n",
        "    self.A = []\n",
        "    self.Z = []\n",
        "    AUX = X.copy()\n",
        "    for W in self.Ws:\n",
        "      self.A.append(include_bias(AUX))\n",
        "      self.Z.append(self.A[-1] @ W)\n",
        "      AUX = np.tanh(self.Z[-1])\n",
        "    return AUX\n",
        "\n",
        "  def backward(self, y, ypred):\n",
        "    grads = []\n",
        "    output_delta = y - ypred\n",
        "    grads.insert(0, self.A[-1].T @ output_delta)\n",
        "    for i in range(len(self.Ws)-1, 0, -1):\n",
        "      tanh_grad = (1 - np.tanh(self.Z[i-1])**2)\n",
        "      input_delta = (output_delta @ self.Ws[i][1:, :].T) * tanh_grad\n",
        "      grads.insert(0, self.A[i-1].T @ input_delta)\n",
        "      output_delta = input_delta.copy()\n",
        "    for i in range(len(self.Ws)-1, -1, -1):\n",
        "      self.Ws[i] += grads[i] * self.learning_rate\n",
        "\n",
        "  def get_ws(self, X, y):\n",
        "    self.Ws = []\n",
        "    previous_output = X.shape[1]\n",
        "    for n in self.n_hidden:\n",
        "      self.Ws.append(np.random.uniform(-1, 1, size=(previous_output+1, n)))\n",
        "      previous_output = n\n",
        "    self.Ws.append(np.random.uniform(-1, 1, size=(previous_output+1, y.shape[1])))\n",
        "    for _ in range(self.max_iter):\n",
        "      ypred = self.foward(X)\n",
        "      self.backward(y, ypred)\n",
        "    return self.Ws"
      ],
      "metadata": {
        "id": "BBh1aR6wzDZ4"
      },
      "execution_count": 171,
      "outputs": []
    },
    {
      "cell_type": "code",
      "source": [
        "from sklearn.base import BaseEstimator, ClassifierMixin\n",
        "from sklearn.metrics import accuracy_score\n",
        "from sklearn.preprocessing import LabelBinarizer\n",
        "\n",
        "def sign(x):\n",
        "  return np.sign(x)\n",
        "\n",
        "class MLP(BaseEstimator, ClassifierMixin):\n",
        "  def __init__(self, training_algorithm=Backpropagation()):\n",
        "    self.training_algorithm = training_algorithm\n",
        "\n",
        "  def fit(self, X, y):\n",
        "    self.lb = LabelBinarizer()\n",
        "    y = self.lb.fit_transform(y)\n",
        "    y = y * 2 - 1\n",
        "    self.w = self.training_algorithm.get_ws(X, y)\n",
        "    return self\n",
        "\n",
        "  def predict(self, X):\n",
        "    ypred = self.training_algorithm.foward(X)\n",
        "    return self.lb.inverse_transform(ypred)\n",
        "\n",
        "model = MLP(Backpropagation([], max_iter=5000, learning_rate=0.0001))\n",
        "model.fit(X_train, y_train)\n",
        "ypred = model.predict(X_test)\n",
        "print(accuracy_score(y_test, ypred))"
      ],
      "metadata": {
        "colab": {
          "base_uri": "https://localhost:8080/"
        },
        "id": "vm0snsgkip2O",
        "outputId": "2d1c927d-6c23-4a84-cc4f-7fe967df1348"
      },
      "execution_count": 179,
      "outputs": [
        {
          "output_type": "stream",
          "name": "stdout",
          "text": [
            "0.9444444444444444\n"
          ]
        }
      ]
    },
    {
      "cell_type": "code",
      "source": [
        "from sklearn.model_selection import cross_validate\n",
        "\n",
        "scores = cross_validate(model, X, y, cv=5, scoring='accuracy')\n",
        "print(scores['test_score'])\n",
        "print(np.mean(scores['test_score']))"
      ],
      "metadata": {
        "colab": {
          "base_uri": "https://localhost:8080/"
        },
        "id": "NAalm4X441_0",
        "outputId": "4a2887c7-49c8-4473-da33-16f59bd97b7d"
      },
      "execution_count": 180,
      "outputs": [
        {
          "output_type": "stream",
          "name": "stdout",
          "text": [
            "[0.90833333 0.86388889 0.90807799 0.93314763 0.86629526]\n",
            "0.8959486227174249\n"
          ]
        }
      ]
    }
  ]
}