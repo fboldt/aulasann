{
  "nbformat": 4,
  "nbformat_minor": 0,
  "metadata": {
    "colab": {
      "provenance": [],
      "authorship_tag": "ABX9TyOQ1I8Iu/T4P6qynBHe/GXP",
      "include_colab_link": true
    },
    "kernelspec": {
      "name": "python3",
      "display_name": "Python 3"
    },
    "language_info": {
      "name": "python"
    }
  },
  "cells": [
    {
      "cell_type": "markdown",
      "metadata": {
        "id": "view-in-github",
        "colab_type": "text"
      },
      "source": [
        "<a href=\"https://colab.research.google.com/github/fboldt/aulasann/blob/main/aula07a_mlp_regularization.ipynb\" target=\"_parent\"><img src=\"https://colab.research.google.com/assets/colab-badge.svg\" alt=\"Open In Colab\"/></a>"
      ]
    },
    {
      "cell_type": "code",
      "source": [
        "from sklearn.datasets import fetch_olivetti_faces\n",
        "from sklearn.model_selection import train_test_split\n",
        "\n",
        "X, y = fetch_olivetti_faces(return_X_y=True)\n",
        "\n",
        "X_train, X_test, y_train, y_test = train_test_split(X, y, test_size=0.2)"
      ],
      "metadata": {
        "id": "vFtlMKet8KzV",
        "colab": {
          "base_uri": "https://localhost:8080/"
        },
        "outputId": "0428bf29-3fbc-43af-a981-9c18ad916fcd"
      },
      "execution_count": 1,
      "outputs": [
        {
          "output_type": "stream",
          "name": "stdout",
          "text": [
            "downloading Olivetti faces from https://ndownloader.figshare.com/files/5976027 to /root/scikit_learn_data\n"
          ]
        }
      ]
    },
    {
      "cell_type": "code",
      "source": [
        "def sign(a):\n",
        "  return (a>=0)*2-1"
      ],
      "metadata": {
        "id": "hQMXYwK_vI9W"
      },
      "execution_count": 2,
      "outputs": []
    },
    {
      "cell_type": "code",
      "source": [
        "from sklearn.base import BaseEstimator, ClassifierMixin\n",
        "from sklearn.metrics import accuracy_score"
      ],
      "metadata": {
        "id": "EEDVPkNjURDk"
      },
      "execution_count": 3,
      "outputs": []
    },
    {
      "cell_type": "code",
      "source": [
        "import numpy as np\n",
        "include_bias = lambda X: np.c_[np.ones(X.shape[0]), X]"
      ],
      "metadata": {
        "id": "8DboYK5onhpw"
      },
      "execution_count": 4,
      "outputs": []
    },
    {
      "cell_type": "code",
      "source": [
        "from scipy.special import expit\n",
        "\n",
        "def tanh(a):\n",
        "  return expit(a)*2-1"
      ],
      "metadata": {
        "id": "-wuTx7bKs6QA"
      },
      "execution_count": 5,
      "outputs": []
    },
    {
      "cell_type": "code",
      "source": [
        "class BackPropagation():\n",
        "  def __init__(self, max_iter=1000, learning_rate=0.01, n_hidden=[2]):\n",
        "    self.max_iter = max_iter\n",
        "    self.learning_rate = learning_rate\n",
        "    self.n_hidden = n_hidden\n",
        "\n",
        "  def foward(self, X):\n",
        "    self.A = []\n",
        "    self.Z = []\n",
        "    AUX = X.copy()\n",
        "    for W in self.Ws:\n",
        "      self.A.append(include_bias(AUX))\n",
        "      self.Z.append(self.A[-1] @ W)\n",
        "      AUX = tanh(self.Z[-1])\n",
        "    return AUX\n",
        "\n",
        "  def backward(self, Xb, y, ypred):\n",
        "    grads = []\n",
        "    output_delta = y - ypred\n",
        "    grads.insert(0, self.A[-1].T @ output_delta)\n",
        "    for i in range(len(self.Ws)-1, 0, -1):\n",
        "      tanh_grad = (1 - np.square(tanh(self.Z[i-1])))\n",
        "      input_delta = (output_delta @ self.Ws[i][1:, :].T) * tanh_grad\n",
        "      grads.insert(0, self.A[i-1].T @ input_delta)\n",
        "      output_delta = input_delta.copy()\n",
        "    for i in range(len(self.Ws)-1, -1, -1):\n",
        "      self.Ws[i] += grads[i] * self.learning_rate\n",
        "\n",
        "  def getWs(self, X, y):\n",
        "    self.Ws = []\n",
        "    previous_output = X.shape[1]\n",
        "    for layer_size in self.n_hidden:\n",
        "      self.Ws.append(np.random.uniform(-1, 1, size=(previous_output+1, layer_size)))\n",
        "      previous_output = layer_size\n",
        "    if len(y.shape) == 1:\n",
        "      y = y.reshape(-1, 1)\n",
        "    self.Ws.append(np.random.uniform(-1, 1, size=(previous_output+1, y.shape[1])))\n",
        "    for _ in range(self.max_iter):\n",
        "      ypred = self.foward(X)\n",
        "      self.backward(X, y, ypred)\n",
        "    return self.Ws\n",
        "\n"
      ],
      "metadata": {
        "id": "Oc3SbFkd2Nsf"
      },
      "execution_count": 6,
      "outputs": []
    },
    {
      "cell_type": "code",
      "source": [
        "from sklearn.preprocessing import LabelBinarizer\n",
        "\n",
        "class MLP(BaseEstimator, ClassifierMixin):\n",
        "  def __init__(self, trainingAlgorithm=BackPropagation()):\n",
        "    self.trainingAlgorithm = trainingAlgorithm\n",
        "\n",
        "  def fit(self, X, y):\n",
        "    self.labelBinarizer = LabelBinarizer()\n",
        "    y = self.labelBinarizer.fit_transform(y)\n",
        "    y = y * 2 - 1\n",
        "    self.w = self.trainingAlgorithm.getWs(X, y)\n",
        "    return self\n",
        "\n",
        "  def predict(self, X):\n",
        "    ypred = self.trainingAlgorithm.foward(X)\n",
        "    if ypred.shape[1] == 1:\n",
        "      ypred = sign(ypred)\n",
        "    else:\n",
        "      tmp = np.zeros(ypred.shape)\n",
        "      idx = np.argmax(ypred, axis=1)\n",
        "      tmp[np.arange(ypred.shape[0]), idx] = 1\n",
        "      ypred = tmp\n",
        "    ypred = self.labelBinarizer.inverse_transform(ypred)\n",
        "    return ypred\n",
        "\n"
      ],
      "metadata": {
        "id": "kn8EAk_4uOLM"
      },
      "execution_count": 7,
      "outputs": []
    },
    {
      "cell_type": "code",
      "source": [
        "model = MLP(trainingAlgorithm=BackPropagation(max_iter=1000, learning_rate=0.0001, n_hidden=[]))\n",
        "model.fit(X_train, y_train)\n",
        "ypred = model.predict(X_train)\n",
        "print(accuracy_score(y_train, ypred))"
      ],
      "metadata": {
        "colab": {
          "base_uri": "https://localhost:8080/"
        },
        "id": "YsZr0v3v-aB0",
        "outputId": "2a1a97e8-19d4-4051-fd21-053b03e2c022"
      },
      "execution_count": 8,
      "outputs": [
        {
          "output_type": "stream",
          "name": "stdout",
          "text": [
            "0.990625\n"
          ]
        }
      ]
    },
    {
      "cell_type": "code",
      "source": [
        "ypred = model.predict(X_test)\n",
        "print(accuracy_score(y_test, ypred))"
      ],
      "metadata": {
        "colab": {
          "base_uri": "https://localhost:8080/"
        },
        "id": "OIsI7OBD-sL3",
        "outputId": "ccff47c5-7a33-43fd-c597-b54b5f5c88c0"
      },
      "execution_count": 9,
      "outputs": [
        {
          "output_type": "stream",
          "name": "stdout",
          "text": [
            "0.8375\n"
          ]
        }
      ]
    },
    {
      "cell_type": "code",
      "source": [
        "class BackPropagation():\n",
        "  def __init__(self, max_iter=1000, learning_rate=0.01, n_hidden=[2],\n",
        "               regularization=0):\n",
        "    self.max_iter = max_iter\n",
        "    self.learning_rate = learning_rate\n",
        "    self.n_hidden = n_hidden\n",
        "    self.regularization = regularization\n",
        "\n",
        "  def foward(self, X):\n",
        "    self.A = []\n",
        "    self.Z = []\n",
        "    AUX = X.copy()\n",
        "    for W in self.Ws:\n",
        "      self.A.append(include_bias(AUX))\n",
        "      self.Z.append(self.A[-1] @ W)\n",
        "      AUX = tanh(self.Z[-1])\n",
        "    return AUX\n",
        "\n",
        "  def backward(self, Xb, y, ypred):\n",
        "    grads = []\n",
        "    output_delta = y - ypred\n",
        "    grads.insert(0, self.A[-1].T @ output_delta)\n",
        "    for i in range(len(self.Ws)-1, 0, -1):\n",
        "      tanh_grad = (1 - np.square(tanh(self.Z[i-1])))\n",
        "      input_delta = (output_delta @ self.Ws[i][1:, :].T) * tanh_grad\n",
        "      grads.insert(0, self.A[i-1].T @ input_delta)\n",
        "      output_delta = input_delta.copy()\n",
        "    for i in range(len(self.Ws)-1, -1, -1):\n",
        "      self.Ws[i] *= 1 - self.regularization * self.learning_rate\n",
        "      self.Ws[i] += grads[i] * self.learning_rate\n",
        "\n",
        "  def getWs(self, X, y):\n",
        "    self.Ws = []\n",
        "    previous_output = X.shape[1]\n",
        "    for layer_size in self.n_hidden:\n",
        "      self.Ws.append(np.random.uniform(-1, 1, size=(previous_output+1, layer_size)))\n",
        "      previous_output = layer_size\n",
        "    if len(y.shape) == 1:\n",
        "      y = y.reshape(-1, 1)\n",
        "    self.Ws.append(np.random.uniform(-1, 1, size=(previous_output+1, y.shape[1])))\n",
        "    for _ in range(self.max_iter):\n",
        "      ypred = self.foward(X)\n",
        "      self.backward(X, y, ypred)\n",
        "    return self.Ws\n",
        "\n"
      ],
      "metadata": {
        "id": "rf6QwcjTqLRe"
      },
      "execution_count": 10,
      "outputs": []
    },
    {
      "cell_type": "code",
      "source": [
        "model = MLP(trainingAlgorithm=BackPropagation(max_iter=1000, learning_rate=0.0001,\n",
        "                                              n_hidden=[], regularization=10))\n",
        "model.fit(X_train, y_train)\n",
        "ypred = model.predict(X_train)\n",
        "print(accuracy_score(y_train, ypred))\n",
        "ypred = model.predict(X_test)\n",
        "print(accuracy_score(y_test, ypred))"
      ],
      "metadata": {
        "colab": {
          "base_uri": "https://localhost:8080/"
        },
        "id": "lxidEr5zr0F1",
        "outputId": "e34c386b-de0d-41c4-cb54-1f1c3f3f20bd"
      },
      "execution_count": 12,
      "outputs": [
        {
          "output_type": "stream",
          "name": "stdout",
          "text": [
            "1.0\n",
            "0.9125\n"
          ]
        }
      ]
    },
    {
      "cell_type": "code",
      "source": [
        "model = MLP(trainingAlgorithm=BackPropagation(max_iter=1000, learning_rate=0.0001,\n",
        "                                              n_hidden=[], regularization=10))\n",
        "model.fit(X_train, y_train)\n",
        "ypred = model.predict(X_train)\n",
        "print(accuracy_score(y_train, ypred))\n",
        "ypred = model.predict(X_test)\n",
        "print(accuracy_score(y_test, ypred))"
      ],
      "metadata": {
        "colab": {
          "base_uri": "https://localhost:8080/"
        },
        "id": "UU-m7C3bskHE",
        "outputId": "f3461617-3b6b-433e-9914-3dcfd62f706e"
      },
      "execution_count": 13,
      "outputs": [
        {
          "output_type": "stream",
          "name": "stdout",
          "text": [
            "1.0\n",
            "0.925\n"
          ]
        }
      ]
    },
    {
      "cell_type": "markdown",
      "source": [
        "# Underfitting"
      ],
      "metadata": {
        "id": "_-ZSLdEOs-4w"
      }
    },
    {
      "cell_type": "code",
      "source": [
        "model = MLP(trainingAlgorithm=BackPropagation(max_iter=1000, learning_rate=0.0001,\n",
        "                                              n_hidden=[], regularization=100))\n",
        "model.fit(X_train, y_train)\n",
        "ypred = model.predict(X_train)\n",
        "print(accuracy_score(y_train, ypred))\n",
        "ypred = model.predict(X_test)\n",
        "print(accuracy_score(y_test, ypred))"
      ],
      "metadata": {
        "colab": {
          "base_uri": "https://localhost:8080/"
        },
        "id": "5CAmTrLjsw5c",
        "outputId": "ac94c22e-ef08-4615-f6f4-ef6ca92ed9a3"
      },
      "execution_count": 14,
      "outputs": [
        {
          "output_type": "stream",
          "name": "stdout",
          "text": [
            "0.8875\n",
            "0.6875\n"
          ]
        }
      ]
    },
    {
      "cell_type": "markdown",
      "source": [
        "# Overfitting"
      ],
      "metadata": {
        "id": "jgDcRTvEtNDO"
      }
    },
    {
      "cell_type": "code",
      "source": [
        "model = MLP(trainingAlgorithm=BackPropagation(max_iter=1000, learning_rate=0.0001,\n",
        "                                              n_hidden=[], regularization=0))\n",
        "model.fit(X_train, y_train)\n",
        "ypred = model.predict(X_train)\n",
        "print(accuracy_score(y_train, ypred))\n",
        "ypred = model.predict(X_test)\n",
        "print(accuracy_score(y_test, ypred))"
      ],
      "metadata": {
        "colab": {
          "base_uri": "https://localhost:8080/"
        },
        "id": "dSkrdb1ItHjM",
        "outputId": "31d07c61-8616-4d53-9f84-778961b96d8e"
      },
      "execution_count": 15,
      "outputs": [
        {
          "output_type": "stream",
          "name": "stdout",
          "text": [
            "0.99375\n",
            "0.7875\n"
          ]
        }
      ]
    },
    {
      "cell_type": "markdown",
      "source": [
        "#Trade-off"
      ],
      "metadata": {
        "id": "j2QPH-BttTEU"
      }
    },
    {
      "cell_type": "code",
      "source": [
        "model = MLP(trainingAlgorithm=BackPropagation(max_iter=1000, learning_rate=0.0001,\n",
        "                                              n_hidden=[], regularization=10))\n",
        "model.fit(X_train, y_train)\n",
        "ypred = model.predict(X_train)\n",
        "print(accuracy_score(y_train, ypred))\n",
        "ypred = model.predict(X_test)\n",
        "print(accuracy_score(y_test, ypred))"
      ],
      "metadata": {
        "colab": {
          "base_uri": "https://localhost:8080/"
        },
        "id": "idYKf0YItSkA",
        "outputId": "7f43520e-7d02-4425-88b9-237218c5257a"
      },
      "execution_count": 16,
      "outputs": [
        {
          "output_type": "stream",
          "name": "stdout",
          "text": [
            "1.0\n",
            "0.9\n"
          ]
        }
      ]
    }
  ]
}