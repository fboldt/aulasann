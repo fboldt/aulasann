{
  "nbformat": 4,
  "nbformat_minor": 0,
  "metadata": {
    "colab": {
      "provenance": [],
      "authorship_tag": "ABX9TyPZFOARVZLW9ecnKrIxXqmR",
      "include_colab_link": true
    },
    "kernelspec": {
      "name": "python3",
      "display_name": "Python 3"
    },
    "language_info": {
      "name": "python"
    }
  },
  "cells": [
    {
      "cell_type": "markdown",
      "metadata": {
        "id": "view-in-github",
        "colab_type": "text"
      },
      "source": [
        "<a href=\"https://colab.research.google.com/github/fboldt/aulasann/blob/main/aula07c_olivetti_sigmoid.ipynb\" target=\"_parent\"><img src=\"https://colab.research.google.com/assets/colab-badge.svg\" alt=\"Open In Colab\"/></a>"
      ]
    },
    {
      "cell_type": "code",
      "source": [
        "from sklearn.datasets import fetch_olivetti_faces\n",
        "from sklearn.model_selection import train_test_split\n",
        "\n",
        "X, y = fetch_olivetti_faces(return_X_y=True)\n",
        "\n",
        "X_train, X_test, y_train, y_test = train_test_split(X, y, test_size=0.2)"
      ],
      "metadata": {
        "id": "vFtlMKet8KzV",
        "colab": {
          "base_uri": "https://localhost:8080/"
        },
        "outputId": "482590c1-740b-42db-8bd6-a553116697af"
      },
      "execution_count": 1,
      "outputs": [
        {
          "output_type": "stream",
          "name": "stdout",
          "text": [
            "downloading Olivetti faces from https://ndownloader.figshare.com/files/5976027 to /root/scikit_learn_data\n"
          ]
        }
      ]
    },
    {
      "cell_type": "code",
      "source": [
        "def sign(a):\n",
        "  return (a>=0)*2-1"
      ],
      "metadata": {
        "id": "hQMXYwK_vI9W"
      },
      "execution_count": 2,
      "outputs": []
    },
    {
      "cell_type": "code",
      "source": [
        "from sklearn.base import BaseEstimator, ClassifierMixin\n",
        "from sklearn.metrics import accuracy_score"
      ],
      "metadata": {
        "id": "EEDVPkNjURDk"
      },
      "execution_count": 3,
      "outputs": []
    },
    {
      "cell_type": "code",
      "source": [
        "import numpy as np\n",
        "include_bias = lambda X: np.c_[np.ones(X.shape[0]), X]"
      ],
      "metadata": {
        "id": "8DboYK5onhpw"
      },
      "execution_count": 4,
      "outputs": []
    },
    {
      "cell_type": "code",
      "source": [
        "from scipy.special import expit\n",
        "from abc import ABC, abstractmethod\n",
        "\n",
        "class ActivationFunction(ABC):\n",
        "  @abstractmethod\n",
        "  def foward(self, a):\n",
        "    pass\n",
        "  @abstractmethod\n",
        "  def backward(self, a):\n",
        "    pass\n",
        "\n",
        "class Tanh(ActivationFunction):\n",
        "  def foward(self, a):\n",
        "    return expit(a)*2-1\n",
        "  def backward(self, a):\n",
        "    return (1 - np.square(self.foward(a)))\n",
        "\n",
        "class Sigmoid(ActivationFunction):\n",
        "  def foward(self, a):\n",
        "    return expit(a)\n",
        "  def backward(self, a):\n",
        "    return self.foward(a)*(1-self.foward(a))\n"
      ],
      "metadata": {
        "id": "-wuTx7bKs6QA"
      },
      "execution_count": 5,
      "outputs": []
    },
    {
      "cell_type": "code",
      "source": [
        "class BackPropagation():\n",
        "  def __init__(self, max_iter=1000, learning_rate=0.01, n_hidden=[2],\n",
        "               regularization=0, activation=Tanh()):\n",
        "    self.max_iter = max_iter\n",
        "    self.learning_rate = learning_rate\n",
        "    self.n_hidden = n_hidden\n",
        "    self.regularization = regularization\n",
        "    self.activation = activation\n",
        "\n",
        "  def foward(self, X):\n",
        "    self.A = []\n",
        "    self.Z = []\n",
        "    AUX = X.copy()\n",
        "    for W in self.Ws:\n",
        "      self.A.append(include_bias(AUX))\n",
        "      self.Z.append(self.A[-1] @ W)\n",
        "      AUX = self.activation.foward(self.Z[-1])\n",
        "    return AUX\n",
        "\n",
        "  def backward(self, Xb, y, ypred):\n",
        "    grads = []\n",
        "    output_delta = y - ypred\n",
        "    grads.insert(0, self.A[-1].T @ output_delta)\n",
        "    for i in range(len(self.Ws)-1, 0, -1):\n",
        "      input_delta = (output_delta @ self.Ws[i][1:, :].T) * self.activation.backward(self.Z[i-1])\n",
        "      grads.insert(0, self.A[i-1].T @ input_delta)\n",
        "      output_delta = input_delta.copy()\n",
        "    for i in range(len(self.Ws)-1, -1, -1):\n",
        "      self.Ws[i] *= 1 - self.regularization * self.learning_rate\n",
        "      self.Ws[i] += grads[i] * self.learning_rate\n",
        "\n",
        "  def getWs(self, X, y):\n",
        "    self.Ws = []\n",
        "    previous_output = X.shape[1]\n",
        "    for layer_size in self.n_hidden:\n",
        "      self.Ws.append(np.random.uniform(-1, 1, size=(previous_output+1, layer_size)))\n",
        "      previous_output = layer_size\n",
        "    if len(y.shape) == 1:\n",
        "      y = y.reshape(-1, 1)\n",
        "    self.Ws.append(np.random.uniform(-1, 1, size=(previous_output+1, y.shape[1])))\n",
        "    for _ in range(self.max_iter):\n",
        "      ypred = self.foward(X)\n",
        "      self.backward(X, y, ypred)\n",
        "    return self.Ws\n"
      ],
      "metadata": {
        "id": "Oc3SbFkd2Nsf"
      },
      "execution_count": 6,
      "outputs": []
    },
    {
      "cell_type": "code",
      "source": [
        "from sklearn.preprocessing import LabelBinarizer\n",
        "\n",
        "class MLP(BaseEstimator, ClassifierMixin):\n",
        "  def __init__(self, trainingAlgorithm=BackPropagation()):\n",
        "    self.trainingAlgorithm = trainingAlgorithm\n",
        "\n",
        "  def fit(self, X, y):\n",
        "    self.labelBinarizer = LabelBinarizer()\n",
        "    y = self.labelBinarizer.fit_transform(y)\n",
        "    self.w = self.trainingAlgorithm.getWs(X, y)\n",
        "    return self\n",
        "\n",
        "  def predict(self, X):\n",
        "    ypred = self.trainingAlgorithm.foward(X)\n",
        "    if ypred.shape[1] == 1:\n",
        "      ypred = sign(ypred)\n",
        "    else:\n",
        "      tmp = np.zeros(ypred.shape)\n",
        "      idx = np.argmax(ypred, axis=1)\n",
        "      tmp[np.arange(ypred.shape[0]), idx] = 1\n",
        "      ypred = tmp\n",
        "    ypred = self.labelBinarizer.inverse_transform(ypred)\n",
        "    return ypred\n"
      ],
      "metadata": {
        "id": "kn8EAk_4uOLM"
      },
      "execution_count": 7,
      "outputs": []
    },
    {
      "cell_type": "code",
      "source": [
        "model = MLP(trainingAlgorithm=BackPropagation(max_iter=2000, learning_rate=0.00002,\n",
        "                                              n_hidden=[], regularization=1000))\n",
        "model.fit(X_train, y_train)\n",
        "ypred = model.predict(X_train)\n",
        "print(accuracy_score(y_train, ypred))\n",
        "ypred = model.predict(X_test)\n",
        "print(accuracy_score(y_test, ypred))"
      ],
      "metadata": {
        "colab": {
          "base_uri": "https://localhost:8080/"
        },
        "id": "YsZr0v3v-aB0",
        "outputId": "d3a1b883-87d2-488a-86e2-9ecff3dd7fee"
      },
      "execution_count": 19,
      "outputs": [
        {
          "output_type": "stream",
          "name": "stdout",
          "text": [
            "0.325\n",
            "0.125\n"
          ]
        }
      ]
    },
    {
      "cell_type": "code",
      "source": [
        "model = MLP(trainingAlgorithm=BackPropagation(max_iter=2000, learning_rate=0.00002,\n",
        "                                              n_hidden=[], regularization=1000,\n",
        "                                              activation=Sigmoid()))\n",
        "model.fit(X_train, y_train)\n",
        "ypred = model.predict(X_train)\n",
        "print(accuracy_score(y_train, ypred))\n",
        "ypred = model.predict(X_test)\n",
        "print(accuracy_score(y_test, ypred))"
      ],
      "metadata": {
        "colab": {
          "base_uri": "https://localhost:8080/"
        },
        "id": "jSRyHPje38E-",
        "outputId": "3785a99b-e5bf-4d9f-f037-d0f099b2d116"
      },
      "execution_count": 20,
      "outputs": [
        {
          "output_type": "stream",
          "name": "stdout",
          "text": [
            "0.384375\n",
            "0.1125\n"
          ]
        }
      ]
    }
  ]
}