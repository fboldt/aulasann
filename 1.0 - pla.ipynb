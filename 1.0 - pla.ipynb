{
 "cells": [
  {
   "cell_type": "code",
   "execution_count": 1,
   "metadata": {},
   "outputs": [],
   "source": [
    "import numpy as np\n",
    "\n",
    "def criaDatasetBidimensionalBinário(n=20):\n",
    "    \"\"\"\n",
    "    Cria um dataset bidimensional binário com\n",
    "    rótulos igual 1 para todo exemplo que tiver\n",
    "    o valor da primeira característica maior do\n",
    "    que a da segunda, e -1 para os demais.\n",
    "    \"\"\"\n",
    "    X = np.random.uniform(size=(n,2))\n",
    "    y = np.array(X[:,0]>X[:,1], dtype=int)*2-1\n",
    "    return X, y\n",
    "\n",
    "X, y = criaDatasetBidimensionalBinário()\n"
   ]
  },
  {
   "cell_type": "code",
   "execution_count": 2,
   "metadata": {},
   "outputs": [
    {
     "data": {
      "image/png": "[encoded data removed]",
      "text/plain": [
       "<Figure size 432x288 with 1 Axes>"
      ]
     },
     "metadata": {
      "needs_background": "light"
     },
     "output_type": "display_data"
    }
   ],
   "source": [
    "import matplotlib.pyplot as plt\n",
    "\n",
    "def plotaDatasetBidimensional(X, y):\n",
    "    \"\"\"\n",
    "    Plota um dataset bidimensional.\n",
    "    \"\"\"\n",
    "    plt.xlabel('X1')\n",
    "    plt.ylabel('X2')\n",
    "    for k in set(y):\n",
    "        plt.plot(X[:,0][y==k],X[:,1][y==k], \"o\", alpha=0.3)\n",
    "\n",
    "plotaDatasetBidimensional(X, y)"
   ]
  },
  {
   "cell_type": "code",
   "execution_count": 3,
   "metadata": {},
   "outputs": [
    {
     "data": {
      "image/png": "[encoded data removed]",
      "text/plain": [
       "<Figure size 432x288 with 1 Axes>"
      ]
     },
     "metadata": {
      "needs_background": "light"
     },
     "output_type": "display_data"
    }
   ],
   "source": [
    "def plotaHiperplanoDatasetBidimensional(X, y, vetor, intercept=0):\n",
    "    \"\"\"\n",
    "    Plota um dataset bidimensional com um hiperplano definido por um\n",
    "    vetor e o valor em que este vetor intercepta o eixo horizontal.\n",
    "    \"\"\"\n",
    "    x0min = min(X[:,0])\n",
    "    x0max = max(X[:,0])\n",
    "    xs = np.linspace(x0min, x0max, num=2)\n",
    "    ys = (-vetor[0] / vetor[1]) * xs - intercept / vetor[1]\n",
    "    plotaDatasetBidimensional(X, y)\n",
    "    plt.plot(xs,ys)\n",
    "\n",
    "plotaHiperplanoDatasetBidimensional(X, y, [1,-1])"
   ]
  },
  {
   "cell_type": "code",
   "execution_count": 15,
   "metadata": {},
   "outputs": [
    {
     "data": {
      "text/plain": [
       "1.0"
      ]
     },
     "execution_count": 15,
     "metadata": {},
     "output_type": "execute_result"
    }
   ],
   "source": [
    "from sklearn.base import BaseEstimator, ClassifierMixin\n",
    "import random\n",
    "\n",
    "def signal(a):\n",
    "    return (a >= 0) * 2 - 1\n",
    "\n",
    "class Perceptron(BaseEstimator, ClassifierMixin):\n",
    "    \"\"\"\n",
    "    Primeira versão do Perceptron treinado pelo\n",
    "    Perceptron Learning Algorithm (PLA).\n",
    "    \"\"\"\n",
    "    def __init__(self):\n",
    "        self.w = None\n",
    "        self.activation = signal\n",
    "\n",
    "    def fit(self, X, y):\n",
    "        self.w = np.random.uniform(-1, 1, size=X.shape[1])\n",
    "        indexes = list(range(X.shape[0]))\n",
    "        while True:\n",
    "            any_error = False\n",
    "            for i in sorted(indexes, key=lambda k: random.random()):\n",
    "                x = X[i,:]\n",
    "                ypred = self.predict(x)\n",
    "                erro = y[i] - ypred\n",
    "                if erro != 0:\n",
    "                    any_error = True\n",
    "                self.w += erro * x\n",
    "            if not any_error:\n",
    "                break\n",
    "\n",
    "    def predict(self, X):\n",
    "        a = np.matmul(X, self.w)\n",
    "        ypred = self.activation(a)\n",
    "        return ypred\n",
    "\n",
    "perceptron = Perceptron()\n",
    "perceptron.fit(X, y)\n",
    "ypred = perceptron.predict(X)\n",
    "sum(y == ypred)/len(y)"
   ]
  },
  {
   "cell_type": "code",
   "execution_count": 28,
   "metadata": {},
   "outputs": [
    {
     "data": {
      "text/plain": [
       "1.0"
      ]
     },
     "execution_count": 28,
     "metadata": {},
     "output_type": "execute_result"
    }
   ],
   "source": [
    "from sklearn.base import BaseEstimator, ClassifierMixin\n",
    "import random\n",
    "\n",
    "def signal(a):\n",
    "    return (a >= 0) * 2 - 1\n",
    "\n",
    "class Perceptron(BaseEstimator, ClassifierMixin):\n",
    "    \"\"\"\n",
    "    Versão do Perceptron com limite de iterações,\n",
    "    treinado pelo Perceptron Learning Algorithm (PLA).\n",
    "    \"\"\"\n",
    "    def __init__(self, max_iter=100):\n",
    "        self.w = None\n",
    "        self.activation = signal\n",
    "        self.max_iter = max_iter\n",
    "\n",
    "    def fit(self, X, y):\n",
    "        self.w = np.random.uniform(-1, 1, size=X.shape[1])\n",
    "        indexes = list(range(X.shape[0]))\n",
    "        for _ in range(self.max_iter):\n",
    "            any_error = False\n",
    "            for i in sorted(indexes, key=lambda k: random.random()):\n",
    "                x = X[i,:]\n",
    "                ypred = self.predict(x)\n",
    "                erro = y[i] - ypred\n",
    "                if erro != 0:\n",
    "                    any_error = True\n",
    "                self.w += erro * x\n",
    "            if not any_error:\n",
    "                break\n",
    "\n",
    "    def predict(self, X):\n",
    "        a = np.matmul(X, self.w)\n",
    "        ypred = self.activation(a)\n",
    "        return ypred\n",
    "\n",
    "perceptron = Perceptron()\n",
    "perceptron.fit(X, y)\n",
    "ypred = perceptron.predict(X)\n",
    "sum(y == ypred)/len(y)"
   ]
  }
 ],
 "metadata": {
  "interpreter": {
   "hash": "0127fcf249ae9639d193058d90a066dbb4680b8a05bc0035dcdb02b6c7e130b3"
  },
  "kernelspec": {
   "display_name": "Python 3.9.7 ('.venv': venv)",
   "language": "python",
   "name": "python3"
  },
  "language_info": {
   "codemirror_mode": {
    "name": "ipython",
    "version": 3
   },
   "file_extension": ".py",
   "mimetype": "text/x-python",
   "name": "python",
   "nbconvert_exporter": "python",
   "pygments_lexer": "ipython3",
   "version": "3.9.7"
  },
  "orig_nbformat": 4
 },
 "nbformat": 4,
 "nbformat_minor": 2
}
