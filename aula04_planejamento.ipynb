{
  "nbformat": 4,
  "nbformat_minor": 0,
  "metadata": {
    "colab": {
      "provenance": [],
      "authorship_tag": "ABX9TyM41Vum4+6xxxU3PV+AQxSs",
      "include_colab_link": true
    },
    "kernelspec": {
      "name": "python3",
      "display_name": "Python 3"
    },
    "language_info": {
      "name": "python"
    }
  },
  "cells": [
    {
      "cell_type": "markdown",
      "metadata": {
        "id": "view-in-github",
        "colab_type": "text"
      },
      "source": [
        "<a href=\"https://colab.research.google.com/github/fboldt/aulasann/blob/plan/aula04_planejamento.ipynb\" target=\"_parent\"><img src=\"https://colab.research.google.com/assets/colab-badge.svg\" alt=\"Open In Colab\"/></a>"
      ]
    },
    {
      "cell_type": "code",
      "execution_count": 125,
      "metadata": {
        "id": "R0LwMnzG84Wv",
        "colab": {
          "base_uri": "https://localhost:8080/"
        },
        "outputId": "078d165f-aed1-4fea-85e9-c29845360599"
      },
      "outputs": [
        {
          "output_type": "execute_result",
          "data": {
            "text/plain": [
              "((75, 4), (75, 4), (75,), (75,))"
            ]
          },
          "metadata": {},
          "execution_count": 125
        }
      ],
      "source": [
        "from sklearn.datasets import load_iris\n",
        "from sklearn.model_selection import train_test_split\n",
        "import numpy as np\n",
        "\n",
        "iris = load_iris()\n",
        "X, y = iris.data, iris.target\n",
        "Xtr, Xte, ytr, yte = train_test_split(X, y, test_size=0.5)\n",
        "Xtr.shape, Xte.shape, ytr.shape, yte.shape"
      ]
    },
    {
      "cell_type": "code",
      "source": [
        "import matplotlib.pyplot as plt\n",
        "\n",
        "def plotaDatasetBidimensional(X, y):\n",
        "    \"\"\"\n",
        "    Plota um dataset bidimensional.\n",
        "    \"\"\"\n",
        "    plt.xlabel('X1')\n",
        "    plt.ylabel('X2')\n",
        "    for k in set(y):\n",
        "        plt.plot(X[:,0][y==k],X[:,1][y==k], \"o\", alpha=0.3)\n",
        "\n",
        "plotaDatasetBidimensional(X[:,2:], y)"
      ],
      "metadata": {
        "colab": {
          "base_uri": "https://localhost:8080/",
          "height": 279
        },
        "id": "auOvI7j7Jghz",
        "outputId": "4c5727ea-eb72-432f-d75d-3460946dc730"
      },
      "execution_count": 126,
      "outputs": [
        {
          "output_type": "display_data",
          "data": {
            "text/plain": [
              "<Figure size 432x288 with 1 Axes>"
            ],
            "image/png": "[encoded data removed]"
          },
          "metadata": {
            "needs_background": "light"
          }
        }
      ]
    },
    {
      "cell_type": "code",
      "source": [
        "from abc import ABC, abstractstaticmethod\n",
        "\n",
        "class Custo(ABC):\n",
        "    @abstractstaticmethod\n",
        "    def custo(y, ypred):\n",
        "        pass\n",
        "    @abstractstaticmethod\n",
        "    def gradiente(y, ypred, X):\n",
        "        pass\n",
        "\n",
        "class WidrowHoff(Custo):\n",
        "    @staticmethod\n",
        "    def custo(y, ypred):\n",
        "        return np.sum((1 - (y * ypred))**2)\n",
        "    @staticmethod\n",
        "    def gradiente(y, ypred, X):\n",
        "        return X.T @ (y - ypred)\n",
        "\n",
        "class SmoothedSurrogate(Custo):\n",
        "    @staticmethod\n",
        "    def custo(y, ypred):\n",
        "        return np.sum(np.maximum(np.zeros(y.shape), - y * ypred))\n",
        "    @staticmethod\n",
        "    def gradiente(y, ypred, X):\n",
        "        return X.T @ (y - sign(ypred))\n",
        "\n",
        "class HingeLoss(Custo):\n",
        "    @staticmethod\n",
        "    def custo(y, ypred):\n",
        "        return np.sum(np.maximum(np.zeros(y.shape), 1 - y * ypred))\n",
        "    @staticmethod\n",
        "    def gradiente(y, ypred, X):\n",
        "        errosmarginais = (y * ypred) < 1\n",
        "        ymarginais = np.copy(y)\n",
        "        ymarginais[~errosmarginais] = 0\n",
        "        g = X.T @ ymarginais\n",
        "        return g\n",
        "\n",
        "from scipy.special import expit\n",
        "\n",
        "class LogLikelihood(Custo):\n",
        "    @staticmethod\n",
        "    def custo(y, ypred):\n",
        "        return np.sum(np.log(1 + np.exp(- y * ypred)))\n",
        "    @staticmethod\n",
        "    def gradiente(y, ypred, X):\n",
        "        return X.T @ (y - (expit(ypred)*2-1))"
      ],
      "metadata": {
        "id": "SNZltW3Ghzf3"
      },
      "execution_count": 127,
      "outputs": []
    },
    {
      "cell_type": "code",
      "source": [
        "from abc import ABC, abstractmethod\n",
        "\n",
        "class TrainingAlgorithm(ABC):\n",
        "  @abstractmethod\n",
        "  def getW(self, X, y, activation):\n",
        "    pass\n",
        "\n",
        "class PseudoInversa(TrainingAlgorithm):\n",
        "  def __init__(self, regularization=0):\n",
        "    self.regularization = regularization\n",
        "  def getW(self, X, y):\n",
        "    return np.linalg.inv(X.T @ X + np.eye(X.shape[1])*self.regularization) @ X.T @ y\n",
        "\n",
        "\n",
        "class DescidaGradiente(TrainingAlgorithm):\n",
        "  def __init__(self, max_iter=100, learning_rate=0.05, \n",
        "               regularization=0, cost=WidrowHoff()):\n",
        "    self.max_iter = max_iter\n",
        "    self.learning_rate = learning_rate\n",
        "    self.regularization = regularization\n",
        "    self.cost = cost\n",
        "\n",
        "  def getW(self, X, y):\n",
        "    w = np.random.uniform(-1, 1, size=(X.shape[1], y.shape[1]))\n",
        "    for _ in range(self.max_iter):\n",
        "      ypred = X @ w\n",
        "      if self.cost.custo(y, ypred) == 0:\n",
        "        break\n",
        "      w *= 1 - self.regularization * self.learning_rate\n",
        "      w += self.cost.gradiente(y, ypred, X) * self.learning_rate\n",
        "    return w"
      ],
      "metadata": {
        "id": "l3gd0D90U-Tv"
      },
      "execution_count": 128,
      "outputs": []
    },
    {
      "cell_type": "code",
      "source": [
        "def sigmoid(x):\n",
        "  return 1/(1 + np.exp(-x))\n",
        "\n",
        "def accuracy(yactual, ypred):\n",
        "  return sum(yactual == ypred)/len(yactual)"
      ],
      "metadata": {
        "id": "PC_gFjnaYhzB"
      },
      "execution_count": 129,
      "outputs": []
    },
    {
      "cell_type": "code",
      "source": [
        "from sklearn.base import BaseEstimator, ClassifierMixin\n",
        "from sklearn.preprocessing import label_binarize\n",
        "\n",
        "def include_bias(X):\n",
        "  bias = np.ones((X.shape[0], 1))\n",
        "  Xb = np.concatenate((bias, X), axis=1)\n",
        "  return Xb\n",
        "\n",
        "class Perceptron(BaseEstimator, ClassifierMixin):\n",
        "  def __init__(self, training_algorithm=DescidaGradiente()):\n",
        "    self.w = None\n",
        "    self.training_algorithm = training_algorithm\n",
        "\n",
        "  def encode_labels(self, y):\n",
        "    self.labels = list(set(y))\n",
        "    return label_binarize(y, classes=self.labels)*2-1\n",
        "\n",
        "  def fit(self, X, y):\n",
        "    Xb = include_bias(X)\n",
        "    yhot = self.encode_labels(y)\n",
        "    self.w = self.training_algorithm.getW(Xb, yhot)\n",
        "\n",
        "  def __pre_activation(self, X):\n",
        "    Xb = include_bias(X)\n",
        "    return Xb @ self.w\n",
        "\n",
        "  def predict_proba(self, X):\n",
        "    return sigmoid(self.__pre_activation(X))\n",
        "\n",
        "  def predict(self, X):\n",
        "    a = self.predict_proba(X)\n",
        "    if self.w.shape[1] == 1:\n",
        "      idx = np.array(a > 0.5, dtype=int).reshape((-1,))\n",
        "    else:\n",
        "      idx = np.argmax(a, axis=1)\n",
        "    ypred = np.array([self.labels[i] for i in idx])\n",
        "    return ypred\n",
        "\n",
        "perceptron = Perceptron(training_algorithm=DescidaGradiente(cost=LogLikelihood()))\n",
        "perceptron.fit(Xtr, ytr)\n",
        "print(accuracy(ytr, perceptron.predict(Xtr)))\n",
        "print(perceptron.w)"
      ],
      "metadata": {
        "colab": {
          "base_uri": "https://localhost:8080/"
        },
        "id": "SQZ6XzyTW0RS",
        "outputId": "965d26b5-a4b6-4539-b57e-d9cf6894a399"
      },
      "execution_count": 130,
      "outputs": [
        {
          "output_type": "stream",
          "name": "stdout",
          "text": [
            "0.68\n",
            "[[  4.21326587   5.40637708 -18.97646785]\n",
            " [  7.28125929   6.82528057 -27.94575913]\n",
            " [ 18.20724984 -24.64459833 -41.8217135 ]\n",
            " [-26.53679625  28.66515754  69.80187507]\n",
            " [-12.06699325  -7.37393938  50.23719194]]\n"
          ]
        }
      ]
    },
    {
      "cell_type": "code",
      "source": [
        "custos = [WidrowHoff(), SmoothedSurrogate(), HingeLoss(), LogLikelihood()]\n",
        "\n",
        "for custo in custos:\n",
        "    perceptron = Perceptron(training_algorithm=DescidaGradiente(max_iter=10000,\n",
        "        learning_rate=0.0001, regularization=0, cost=custo))\n",
        "    perceptron.fit(Xtr, ytr)\n",
        "    print(accuracy(ytr, perceptron.predict(Xtr)), accuracy(yte, perceptron.predict(Xte)))\n",
        "    print(perceptron.w)"
      ],
      "metadata": {
        "colab": {
          "base_uri": "https://localhost:8080/"
        },
        "id": "M7_zcONskxiY",
        "outputId": "e7a698c0-b48d-4e02-bd07-6a55e812fb36"
      },
      "execution_count": 131,
      "outputs": [
        {
          "output_type": "stream",
          "name": "stdout",
          "text": [
            "0.84 0.8266666666666667\n",
            "[[ 0.1392618   1.26260872 -0.74512091]\n",
            " [ 0.06353273 -0.14526184 -0.05995494]\n",
            " [ 0.35929257 -0.56577853 -0.04971182]\n",
            " [-0.54374854  0.64250614 -0.17003732]\n",
            " [ 0.08143481 -1.20237589  1.32728253]]\n",
            "0.92 0.8933333333333333\n",
            "[[ 0.33619199  0.70189724 -0.42126403]\n",
            " [-0.19084573 -0.10166493  0.05615874]\n",
            " [ 0.17182089 -0.15041694 -0.20858686]\n",
            " [ 0.13480196  0.21378997 -0.06382073]\n",
            " [-0.28623351 -0.34406855  0.65153894]]\n",
            "0.9466666666666667 0.9333333333333333\n",
            "[[ 0.37546928 -0.18977656 -1.69253424]\n",
            " [ 0.44024006 -0.06643942 -1.44281975]\n",
            " [ 0.19946649 -0.261458   -1.85042602]\n",
            " [-1.04555232  0.28981146  2.56125239]\n",
            " [-0.89342349 -0.5496991   2.19722136]]\n",
            "0.9866666666666667 0.9466666666666667\n",
            "[[-0.04358109  1.38485821 -0.81826612]\n",
            " [ 0.12640175 -0.06608952 -2.04420334]\n",
            " [ 2.70960281 -1.30359783 -3.0768907 ]\n",
            " [-2.85810036  1.27027004  3.34049124]\n",
            " [-1.40539317 -2.25201583  3.86501771]]\n"
          ]
        }
      ]
    }
  ]
}