{
  "cells": [
    {
      "attachments": {},
      "cell_type": "markdown",
      "metadata": {
        "colab_type": "text",
        "id": "view-in-github"
      },
      "source": [
        "<a href=\"https://colab.research.google.com/github/fboldt/aulasann/blob/code/aula08a_mnist.ipynb\" target=\"_parent\"><img src=\"https://colab.research.google.com/assets/colab-badge.svg\" alt=\"Open In Colab\"/></a>"
      ]
    },
    {
      "cell_type": "code",
      "execution_count": 1,
      "metadata": {
        "id": "N6IiWnrybXpr"
      },
      "outputs": [
        {
          "name": "stderr",
          "output_type": "stream",
          "text": [
            "2023-05-17 14:33:19.281154: I tensorflow/stream_executor/platform/default/dso_loader.cc:49] Successfully opened dynamic library libcudart.so.10.1\n"
          ]
        }
      ],
      "source": [
        "from tensorflow.keras.datasets import mnist\n",
        "(train_images, train_labels), (test_images, test_labels) = mnist.load_data()"
      ]
    },
    {
      "cell_type": "code",
      "execution_count": 2,
      "metadata": {
        "colab": {
          "base_uri": "https://localhost:8080/"
        },
        "id": "Gcqlvdpgfj6T",
        "outputId": "eaec5771-ede4-4b1f-f451-0dbe2a8c50b9"
      },
      "outputs": [
        {
          "data": {
            "text/plain": [
              "((60000, 28, 28), 60000, array([5, 0, 4, ..., 5, 6, 8], dtype=uint8))"
            ]
          },
          "execution_count": 2,
          "metadata": {},
          "output_type": "execute_result"
        }
      ],
      "source": [
        "train_images.shape, len(train_labels), train_labels"
      ]
    },
    {
      "cell_type": "code",
      "execution_count": 3,
      "metadata": {
        "colab": {
          "base_uri": "https://localhost:8080/",
          "height": 430
        },
        "id": "t0sSA-3PgPq-",
        "outputId": "9f6364c5-6f64-47e0-b9ad-a53660a00aa0"
      },
      "outputs": [
        {
          "data": {
            "image/png": "[encoded data removed]",
            "text/plain": [
              "<Figure size 640x480 with 1 Axes>"
            ]
          },
          "metadata": {},
          "output_type": "display_data"
        }
      ],
      "source": [
        "import matplotlib.pyplot as plt\n",
        "%matplotlib inline\n",
        "\n",
        "plt.imshow(train_images[0], cmap='gray')\n",
        "plt.show()"
      ]
    },
    {
      "cell_type": "code",
      "execution_count": 4,
      "metadata": {
        "colab": {
          "base_uri": "https://localhost:8080/"
        },
        "id": "PJ8PpU2FfoT2",
        "outputId": "a087fb08-a932-43e3-d859-709993dd6659"
      },
      "outputs": [
        {
          "data": {
            "text/plain": [
              "((10000, 28, 28), 10000, array([7, 2, 1, ..., 4, 5, 6], dtype=uint8))"
            ]
          },
          "execution_count": 4,
          "metadata": {},
          "output_type": "execute_result"
        }
      ],
      "source": [
        "test_images.shape, len(test_labels), test_labels"
      ]
    },
    {
      "cell_type": "code",
      "execution_count": 5,
      "metadata": {
        "id": "ahDOnrzvf0PV"
      },
      "outputs": [
        {
          "name": "stderr",
          "output_type": "stream",
          "text": [
            "2023-05-17 14:33:24.965948: I tensorflow/compiler/jit/xla_cpu_device.cc:41] Not creating XLA devices, tf_xla_enable_xla_devices not set\n",
            "2023-05-17 14:33:24.966560: I tensorflow/stream_executor/platform/default/dso_loader.cc:49] Successfully opened dynamic library libcuda.so.1\n",
            "2023-05-17 14:33:24.983085: I tensorflow/stream_executor/cuda/cuda_gpu_executor.cc:941] successful NUMA node read from SysFS had negative value (-1), but there must be at least one NUMA node, so returning NUMA node zero\n",
            "2023-05-17 14:33:24.983440: I tensorflow/core/common_runtime/gpu/gpu_device.cc:1720] Found device 0 with properties: \n",
            "pciBusID: 0000:01:00.0 name: NVIDIA TITAN V computeCapability: 7.0\n",
            "coreClock: 1.455GHz coreCount: 80 deviceMemorySize: 11.78GiB deviceMemoryBandwidth: 607.97GiB/s\n",
            "2023-05-17 14:33:24.983463: I tensorflow/stream_executor/platform/default/dso_loader.cc:49] Successfully opened dynamic library libcudart.so.10.1\n",
            "2023-05-17 14:33:25.060073: I tensorflow/stream_executor/platform/default/dso_loader.cc:49] Successfully opened dynamic library libcublas.so.10\n",
            "2023-05-17 14:33:25.060300: I tensorflow/stream_executor/platform/default/dso_loader.cc:49] Successfully opened dynamic library libcublasLt.so.10\n",
            "2023-05-17 14:33:25.103096: I tensorflow/stream_executor/platform/default/dso_loader.cc:49] Successfully opened dynamic library libcufft.so.10\n",
            "2023-05-17 14:33:25.116756: I tensorflow/stream_executor/platform/default/dso_loader.cc:49] Successfully opened dynamic library libcurand.so.10\n",
            "2023-05-17 14:33:25.212571: I tensorflow/stream_executor/platform/default/dso_loader.cc:49] Successfully opened dynamic library libcusolver.so.10\n",
            "2023-05-17 14:33:25.229949: I tensorflow/stream_executor/platform/default/dso_loader.cc:49] Successfully opened dynamic library libcusparse.so.10\n",
            "2023-05-17 14:33:25.361505: I tensorflow/stream_executor/platform/default/dso_loader.cc:49] Successfully opened dynamic library libcudnn.so.7\n",
            "2023-05-17 14:33:25.361714: I tensorflow/stream_executor/cuda/cuda_gpu_executor.cc:941] successful NUMA node read from SysFS had negative value (-1), but there must be at least one NUMA node, so returning NUMA node zero\n",
            "2023-05-17 14:33:25.362568: I tensorflow/stream_executor/cuda/cuda_gpu_executor.cc:941] successful NUMA node read from SysFS had negative value (-1), but there must be at least one NUMA node, so returning NUMA node zero\n",
            "2023-05-17 14:33:25.363163: I tensorflow/core/common_runtime/gpu/gpu_device.cc:1862] Adding visible gpu devices: 0\n",
            "2023-05-17 14:33:25.364413: I tensorflow/core/platform/cpu_feature_guard.cc:142] This TensorFlow binary is optimized with oneAPI Deep Neural Network Library (oneDNN) to use the following CPU instructions in performance-critical operations:  SSE4.1 SSE4.2 AVX AVX2 FMA\n",
            "To enable them in other operations, rebuild TensorFlow with the appropriate compiler flags.\n",
            "2023-05-17 14:33:25.365259: I tensorflow/compiler/jit/xla_gpu_device.cc:99] Not creating XLA devices, tf_xla_enable_xla_devices not set\n",
            "2023-05-17 14:33:25.365390: I tensorflow/stream_executor/cuda/cuda_gpu_executor.cc:941] successful NUMA node read from SysFS had negative value (-1), but there must be at least one NUMA node, so returning NUMA node zero\n",
            "2023-05-17 14:33:25.365980: I tensorflow/core/common_runtime/gpu/gpu_device.cc:1720] Found device 0 with properties: \n",
            "pciBusID: 0000:01:00.0 name: NVIDIA TITAN V computeCapability: 7.0\n",
            "coreClock: 1.455GHz coreCount: 80 deviceMemorySize: 11.78GiB deviceMemoryBandwidth: 607.97GiB/s\n",
            "2023-05-17 14:33:25.366010: I tensorflow/stream_executor/platform/default/dso_loader.cc:49] Successfully opened dynamic library libcudart.so.10.1\n",
            "2023-05-17 14:33:25.366041: I tensorflow/stream_executor/platform/default/dso_loader.cc:49] Successfully opened dynamic library libcublas.so.10\n",
            "2023-05-17 14:33:25.366064: I tensorflow/stream_executor/platform/default/dso_loader.cc:49] Successfully opened dynamic library libcublasLt.so.10\n",
            "2023-05-17 14:33:25.366086: I tensorflow/stream_executor/platform/default/dso_loader.cc:49] Successfully opened dynamic library libcufft.so.10\n",
            "2023-05-17 14:33:25.366107: I tensorflow/stream_executor/platform/default/dso_loader.cc:49] Successfully opened dynamic library libcurand.so.10\n",
            "2023-05-17 14:33:25.366129: I tensorflow/stream_executor/platform/default/dso_loader.cc:49] Successfully opened dynamic library libcusolver.so.10\n",
            "2023-05-17 14:33:25.366152: I tensorflow/stream_executor/platform/default/dso_loader.cc:49] Successfully opened dynamic library libcusparse.so.10\n",
            "2023-05-17 14:33:25.366174: I tensorflow/stream_executor/platform/default/dso_loader.cc:49] Successfully opened dynamic library libcudnn.so.7\n",
            "2023-05-17 14:33:25.366254: I tensorflow/stream_executor/cuda/cuda_gpu_executor.cc:941] successful NUMA node read from SysFS had negative value (-1), but there must be at least one NUMA node, so returning NUMA node zero\n",
            "2023-05-17 14:33:25.366899: I tensorflow/stream_executor/cuda/cuda_gpu_executor.cc:941] successful NUMA node read from SysFS had negative value (-1), but there must be at least one NUMA node, so returning NUMA node zero\n",
            "2023-05-17 14:33:25.367463: I tensorflow/core/common_runtime/gpu/gpu_device.cc:1862] Adding visible gpu devices: 0\n",
            "2023-05-17 14:33:25.368437: I tensorflow/stream_executor/platform/default/dso_loader.cc:49] Successfully opened dynamic library libcudart.so.10.1\n",
            "2023-05-17 14:33:27.659896: I tensorflow/core/common_runtime/gpu/gpu_device.cc:1261] Device interconnect StreamExecutor with strength 1 edge matrix:\n",
            "2023-05-17 14:33:27.659968: I tensorflow/core/common_runtime/gpu/gpu_device.cc:1267]      0 \n",
            "2023-05-17 14:33:27.659990: I tensorflow/core/common_runtime/gpu/gpu_device.cc:1280] 0:   N \n",
            "2023-05-17 14:33:27.661644: I tensorflow/stream_executor/cuda/cuda_gpu_executor.cc:941] successful NUMA node read from SysFS had negative value (-1), but there must be at least one NUMA node, so returning NUMA node zero\n",
            "2023-05-17 14:33:27.663298: I tensorflow/stream_executor/cuda/cuda_gpu_executor.cc:941] successful NUMA node read from SysFS had negative value (-1), but there must be at least one NUMA node, so returning NUMA node zero\n",
            "2023-05-17 14:33:27.665141: I tensorflow/stream_executor/cuda/cuda_gpu_executor.cc:941] successful NUMA node read from SysFS had negative value (-1), but there must be at least one NUMA node, so returning NUMA node zero\n",
            "2023-05-17 14:33:27.667439: I tensorflow/core/common_runtime/gpu/gpu_device.cc:1406] Created TensorFlow device (/job:localhost/replica:0/task:0/device:GPU:0 with 10555 MB memory) -> physical GPU (device: 0, name: NVIDIA TITAN V, pci bus id: 0000:01:00.0, compute capability: 7.0)\n"
          ]
        }
      ],
      "source": [
        "from tensorflow import keras\n",
        "from tensorflow.keras import layers\n",
        "model = keras.Sequential([\n",
        "    layers.Dense(512, activation=\"relu\"),\n",
        "    layers.Dense(10, activation=\"softmax\")\n",
        "])"
      ]
    },
    {
      "cell_type": "code",
      "execution_count": 6,
      "metadata": {
        "id": "XkggT9gIiFg7"
      },
      "outputs": [],
      "source": [
        "model.compile(optimizer=\"rmsprop\",\n",
        "              loss=\"sparse_categorical_crossentropy\",\n",
        "              metrics=[\"accuracy\"])"
      ]
    },
    {
      "cell_type": "code",
      "execution_count": 7,
      "metadata": {
        "id": "oGlkliSUi7ot"
      },
      "outputs": [],
      "source": [
        "train_images = train_images.reshape((60000, 28 * 28))\n",
        "train_images = train_images.astype(\"float32\") / 255\n",
        "test_images = test_images.reshape((10000, 28 * 28))\n",
        "test_images = test_images.astype(\"float32\") / 255"
      ]
    },
    {
      "cell_type": "code",
      "execution_count": 8,
      "metadata": {
        "colab": {
          "base_uri": "https://localhost:8080/"
        },
        "id": "M555L5eDkRTf",
        "outputId": "ca320a12-d961-490f-a7fc-bcc0d4cb47d4"
      },
      "outputs": [
        {
          "data": {
            "text/plain": [
              "(((60000, 784), array([5, 0, 4, ..., 5, 6, 8], dtype=uint8)),\n",
              " ((10000, 784), array([7, 2, 1, ..., 4, 5, 6], dtype=uint8)))"
            ]
          },
          "execution_count": 8,
          "metadata": {},
          "output_type": "execute_result"
        }
      ],
      "source": [
        "(train_images.shape, train_labels), (test_images.shape, test_labels)"
      ]
    },
    {
      "cell_type": "code",
      "execution_count": 9,
      "metadata": {
        "colab": {
          "base_uri": "https://localhost:8080/"
        },
        "id": "fLTBB7dEkX7R",
        "outputId": "2bbcceb3-7deb-4e93-a875-2023727647c4"
      },
      "outputs": [
        {
          "name": "stderr",
          "output_type": "stream",
          "text": [
            "2023-05-17 14:33:28.144526: I tensorflow/compiler/mlir/mlir_graph_optimization_pass.cc:116] None of the MLIR optimization passes are enabled (registered 2)\n",
            "2023-05-17 14:33:28.155135: I tensorflow/core/platform/profile_utils/cpu_utils.cc:112] CPU Frequency: 3600000000 Hz\n"
          ]
        },
        {
          "name": "stdout",
          "output_type": "stream",
          "text": [
            "Epoch 1/5\n"
          ]
        },
        {
          "name": "stderr",
          "output_type": "stream",
          "text": [
            "2023-05-17 14:33:28.553365: I tensorflow/stream_executor/platform/default/dso_loader.cc:49] Successfully opened dynamic library libcublas.so.10\n"
          ]
        },
        {
          "name": "stdout",
          "output_type": "stream",
          "text": [
            "469/469 [==============================] - 2s 2ms/step - loss: 0.4286 - accuracy: 0.8743\n",
            "Epoch 2/5\n",
            "469/469 [==============================] - 1s 1ms/step - loss: 0.1126 - accuracy: 0.9659\n",
            "Epoch 3/5\n",
            "469/469 [==============================] - 1s 2ms/step - loss: 0.0693 - accuracy: 0.9801\n",
            "Epoch 4/5\n",
            "469/469 [==============================] - 1s 2ms/step - loss: 0.0491 - accuracy: 0.9854\n",
            "Epoch 5/5\n",
            "469/469 [==============================] - 1s 1ms/step - loss: 0.0381 - accuracy: 0.9887\n"
          ]
        },
        {
          "data": {
            "text/plain": [
              "<tensorflow.python.keras.callbacks.History at 0x7ff8cfc8bf70>"
            ]
          },
          "execution_count": 9,
          "metadata": {},
          "output_type": "execute_result"
        }
      ],
      "source": [
        "model.fit(train_images, train_labels, epochs=5, batch_size=128)"
      ]
    },
    {
      "cell_type": "code",
      "execution_count": 10,
      "metadata": {
        "colab": {
          "base_uri": "https://localhost:8080/"
        },
        "id": "KLFJzUn5k15k",
        "outputId": "b4b3ac8a-ebd6-42b3-f822-e449dbbb5ab0"
      },
      "outputs": [
        {
          "data": {
            "text/plain": [
              "array([2.2564863e-09, 1.1874660e-10, 8.4084064e-07, 2.4067524e-05,\n",
              "       9.6391157e-13, 7.7705700e-08, 7.2817579e-14, 9.9997449e-01,\n",
              "       6.2201115e-09, 4.2997533e-07], dtype=float32)"
            ]
          },
          "execution_count": 10,
          "metadata": {},
          "output_type": "execute_result"
        }
      ],
      "source": [
        "predicted = model.predict(test_images[0:1])\n",
        "predicted[0]"
      ]
    },
    {
      "cell_type": "code",
      "execution_count": 11,
      "metadata": {
        "colab": {
          "base_uri": "https://localhost:8080/"
        },
        "id": "qktJXuz4lI0h",
        "outputId": "806555ed-ef44-46ad-e820-5f6568a65008"
      },
      "outputs": [
        {
          "data": {
            "text/plain": [
              "7"
            ]
          },
          "execution_count": 11,
          "metadata": {},
          "output_type": "execute_result"
        }
      ],
      "source": [
        "predicted[0].argmax()"
      ]
    },
    {
      "cell_type": "code",
      "execution_count": 12,
      "metadata": {
        "colab": {
          "base_uri": "https://localhost:8080/"
        },
        "id": "5OFbgBU2lXEh",
        "outputId": "86028403-429b-4119-c758-ff2c317af4d4"
      },
      "outputs": [
        {
          "data": {
            "text/plain": [
              "0.9999745"
            ]
          },
          "execution_count": 12,
          "metadata": {},
          "output_type": "execute_result"
        }
      ],
      "source": [
        "predicted[0][7]"
      ]
    },
    {
      "cell_type": "code",
      "execution_count": 13,
      "metadata": {
        "colab": {
          "base_uri": "https://localhost:8080/"
        },
        "id": "WqkI15rKli40",
        "outputId": "f984af59-c1e6-4c65-b460-253d577b4e94"
      },
      "outputs": [
        {
          "data": {
            "text/plain": [
              "7"
            ]
          },
          "execution_count": 13,
          "metadata": {},
          "output_type": "execute_result"
        }
      ],
      "source": [
        "test_labels[0]"
      ]
    },
    {
      "cell_type": "code",
      "execution_count": 14,
      "metadata": {
        "colab": {
          "base_uri": "https://localhost:8080/"
        },
        "id": "BdP49CnTlnff",
        "outputId": "db757186-13c8-4b0d-bf45-32117470c34d"
      },
      "outputs": [
        {
          "name": "stdout",
          "output_type": "stream",
          "text": [
            "313/313 [==============================] - 0s 1ms/step - loss: 0.0645 - accuracy: 0.9796\n",
            "test_acc: 0.9796000123023987\n"
          ]
        }
      ],
      "source": [
        "test_loss, test_acc = model.evaluate(test_images, test_labels)\n",
        "print(f\"test_acc: {test_acc}\")"
      ]
    },
    {
      "cell_type": "code",
      "execution_count": 15,
      "metadata": {
        "id": "p1wYjLX_ptkS"
      },
      "outputs": [],
      "source": [
        "from tensorflow.keras.utils import to_categorical\n",
        "train_labels_hot = to_categorical(train_labels)\n",
        "test_labels_hot = to_categorical(test_labels)"
      ]
    },
    {
      "cell_type": "code",
      "execution_count": 16,
      "metadata": {
        "colab": {
          "base_uri": "https://localhost:8080/"
        },
        "id": "g0GlrfoVmDPy",
        "outputId": "381cb585-afdb-4a7e-858a-ea0088bc4833"
      },
      "outputs": [
        {
          "name": "stdout",
          "output_type": "stream",
          "text": [
            "Epoch 1/5\n",
            "469/469 [==============================] - 1s 1ms/step - loss: 0.4221 - accuracy: 0.8794\n",
            "Epoch 2/5\n",
            "469/469 [==============================] - 1s 1ms/step - loss: 0.1091 - accuracy: 0.9681\n",
            "Epoch 3/5\n",
            "469/469 [==============================] - 1s 1ms/step - loss: 0.0711 - accuracy: 0.9794\n",
            "Epoch 4/5\n",
            "469/469 [==============================] - 1s 2ms/step - loss: 0.0505 - accuracy: 0.9853\n",
            "Epoch 5/5\n",
            "469/469 [==============================] - 1s 2ms/step - loss: 0.0381 - accuracy: 0.9886\n"
          ]
        },
        {
          "data": {
            "text/plain": [
              "0.9777"
            ]
          },
          "execution_count": 16,
          "metadata": {},
          "output_type": "execute_result"
        }
      ],
      "source": [
        "from sklearn.base import BaseEstimator, ClassifierMixin\n",
        "from tensorflow import keras\n",
        "from tensorflow.keras import layers\n",
        "from sklearn.metrics import accuracy_score\n",
        "import numpy as np\n",
        "\n",
        "class RedeNeural(BaseEstimator, ClassifierMixin):\n",
        "  def __init__(self, epochs=5, batch_size=128):\n",
        "    self.epochs = epochs\n",
        "    self.batch_size = batch_size\n",
        "  def fit(self, X, y):\n",
        "    self.model = keras.Sequential([\n",
        "        layers.Dense(512, activation=\"relu\"),\n",
        "        layers.Dense(y.shape[1], activation=\"softmax\")\n",
        "    ])\n",
        "    self.model.compile(optimizer=\"rmsprop\",\n",
        "                       loss=\"categorical_crossentropy\",\n",
        "                       metrics=[\"accuracy\"])\n",
        "    self.model.fit(X, y, epochs=self.epochs, batch_size=self.batch_size)\n",
        "    return self\n",
        "  def predict(self, X, y=None):\n",
        "    probabilities = self.model.predict(X)\n",
        "    return np.array([(a == np.max(a)) for a in probabilities])\n",
        "\n",
        "modelo = RedeNeural()\n",
        "modelo.fit(train_images, train_labels_hot)\n",
        "ypred = modelo.predict(test_images)\n",
        "accuracy_score(test_labels_hot, ypred)"
      ]
    },
    {
      "cell_type": "code",
      "execution_count": 17,
      "metadata": {
        "colab": {
          "base_uri": "https://localhost:8080/"
        },
        "id": "biZxY9y-tvsu",
        "outputId": "32431b06-63b5-45d8-fc9e-4385c73b6346"
      },
      "outputs": [
        {
          "name": "stdout",
          "output_type": "stream",
          "text": [
            "Epoch 1/5\n",
            "469/469 [==============================] - 1s 1ms/step - loss: 0.4300 - accuracy: 0.8773\n",
            "Epoch 2/5\n",
            "469/469 [==============================] - 1s 2ms/step - loss: 0.1117 - accuracy: 0.9671\n",
            "Epoch 3/5\n",
            "469/469 [==============================] - 1s 2ms/step - loss: 0.0704 - accuracy: 0.9794\n",
            "Epoch 4/5\n",
            "469/469 [==============================] - 1s 1ms/step - loss: 0.0509 - accuracy: 0.9853\n",
            "Epoch 5/5\n",
            "469/469 [==============================] - 1s 1ms/step - loss: 0.0380 - accuracy: 0.9886\n"
          ]
        },
        {
          "data": {
            "text/plain": [
              "0.9794"
            ]
          },
          "execution_count": 17,
          "metadata": {},
          "output_type": "execute_result"
        }
      ],
      "source": [
        "from sklearn.base import BaseEstimator, ClassifierMixin\n",
        "from tensorflow import keras\n",
        "from tensorflow.keras import layers\n",
        "from sklearn.metrics import accuracy_score\n",
        "import numpy as np\n",
        "\n",
        "class RedeNeural(BaseEstimator, ClassifierMixin):\n",
        "  def __init__(self, epochs=5, batch_size=128):\n",
        "    self.epochs = epochs\n",
        "    self.batch_size = batch_size\n",
        "\n",
        "  def fit(self, X, y):\n",
        "    self.labels, ids = np.unique(y, return_inverse=True)\n",
        "    yhot = keras.utils.to_categorical(ids)\n",
        "    self.model = keras.Sequential([\n",
        "        layers.Dense(512, activation=\"relu\"),\n",
        "        layers.Dense(yhot.shape[1], activation=\"softmax\")\n",
        "    ])\n",
        "    self.model.compile(optimizer=\"rmsprop\",\n",
        "                       loss=\"categorical_crossentropy\",\n",
        "                       metrics=[\"accuracy\"])\n",
        "    self.model.fit(X, yhot, epochs=self.epochs, batch_size=self.batch_size)\n",
        "    return self\n",
        "\n",
        "  def predict(self, X, y=None):\n",
        "    probabilities = self.model.predict(X)\n",
        "    ypred = self.labels[np.argmax(probabilities, axis=1)]\n",
        "    return ypred\n",
        "\n",
        "modelo = RedeNeural()\n",
        "modelo.fit(train_images, train_labels)\n",
        "ypred = modelo.predict(test_images)\n",
        "accuracy_score(test_labels, ypred)"
      ]
    },
    {
      "cell_type": "code",
      "execution_count": 18,
      "metadata": {
        "id": "5yojlp9iu-Pv"
      },
      "outputs": [],
      "source": [
        "from tensorflow.keras.datasets import mnist\n",
        "(train_images, train_labels), (test_images, test_labels) = mnist.load_data()"
      ]
    },
    {
      "cell_type": "code",
      "execution_count": 19,
      "metadata": {
        "id": "UyHTc6_-vP5J"
      },
      "outputs": [],
      "source": [
        "train_images = train_images.reshape((60000, 28 * 28))\n",
        "test_images = test_images.reshape((10000, 28 * 28))"
      ]
    },
    {
      "cell_type": "code",
      "execution_count": 20,
      "metadata": {
        "colab": {
          "base_uri": "https://localhost:8080/"
        },
        "id": "MZmjfs0evAvR",
        "outputId": "e398c2aa-51b2-4b3f-fa69-3a613882b316"
      },
      "outputs": [
        {
          "name": "stdout",
          "output_type": "stream",
          "text": [
            "Epoch 1/5\n",
            "469/469 [==============================] - 1s 2ms/step - loss: 0.4231 - accuracy: 0.8760\n",
            "Epoch 2/5\n",
            "469/469 [==============================] - 1s 1ms/step - loss: 0.1142 - accuracy: 0.9663\n",
            "Epoch 3/5\n",
            "469/469 [==============================] - 1s 2ms/step - loss: 0.0680 - accuracy: 0.9792\n",
            "Epoch 4/5\n",
            "469/469 [==============================] - 1s 2ms/step - loss: 0.0493 - accuracy: 0.9859\n",
            "Epoch 5/5\n",
            "469/469 [==============================] - 1s 2ms/step - loss: 0.0362 - accuracy: 0.9884\n"
          ]
        },
        {
          "data": {
            "text/plain": [
              "0.9804"
            ]
          },
          "execution_count": 20,
          "metadata": {},
          "output_type": "execute_result"
        }
      ],
      "source": [
        "from sklearn.pipeline import Pipeline\n",
        "from sklearn.preprocessing import MinMaxScaler\n",
        "\n",
        "modelo = Pipeline([\n",
        "    (\"scaler\", MinMaxScaler()), \n",
        "    (\"ann\", RedeNeural())\n",
        "])\n",
        "modelo.fit(train_images, train_labels)\n",
        "ypred = modelo.predict(test_images)\n",
        "accuracy_score(test_labels, ypred)"
      ]
    },
    {
      "cell_type": "code",
      "execution_count": 21,
      "metadata": {
        "colab": {
          "base_uri": "https://localhost:8080/"
        },
        "id": "H4orTgf1yoJL",
        "outputId": "059358c7-ebd2-4eee-b627-a0fe7845ca4f"
      },
      "outputs": [
        {
          "name": "stdout",
          "output_type": "stream",
          "text": [
            "Epoch 1/5\n",
            "469/469 [==============================] - 1s 1ms/step - loss: 0.4267 - accuracy: 0.8746\n",
            "Epoch 2/5\n",
            "469/469 [==============================] - 1s 2ms/step - loss: 0.1143 - accuracy: 0.9661\n",
            "Epoch 3/5\n",
            "469/469 [==============================] - 1s 2ms/step - loss: 0.0716 - accuracy: 0.9791\n",
            "Epoch 4/5\n",
            "469/469 [==============================] - 1s 2ms/step - loss: 0.0499 - accuracy: 0.9852\n",
            "Epoch 5/5\n",
            "469/469 [==============================] - 1s 2ms/step - loss: 0.0375 - accuracy: 0.9887\n"
          ]
        },
        {
          "data": {
            "text/plain": [
              "0.9801"
            ]
          },
          "execution_count": 21,
          "metadata": {},
          "output_type": "execute_result"
        }
      ],
      "source": [
        "from sklearn.base import BaseEstimator, TransformerMixin\n",
        "\n",
        "class DividePor255(BaseEstimator, TransformerMixin):\n",
        "  def fit(self, X, y):\n",
        "    return self\n",
        "  def transform(self, X, y=None):\n",
        "    return X.astype(\"float32\") / 255\n",
        "\n",
        "from sklearn.pipeline import Pipeline\n",
        "\n",
        "modelo = Pipeline([\n",
        "    (\"scaler\", DividePor255()), \n",
        "    (\"ann\", RedeNeural())\n",
        "])\n",
        "modelo.fit(train_images, train_labels)\n",
        "ypred = modelo.predict(test_images)\n",
        "accuracy_score(test_labels, ypred)"
      ]
    },
    {
      "cell_type": "code",
      "execution_count": 22,
      "metadata": {
        "id": "ithmDGLSz9fj"
      },
      "outputs": [],
      "source": [
        "from tensorflow.keras.datasets import mnist\n",
        "(train_images, train_labels), (test_images, test_labels) = mnist.load_data()"
      ]
    },
    {
      "cell_type": "code",
      "execution_count": 23,
      "metadata": {
        "colab": {
          "base_uri": "https://localhost:8080/"
        },
        "id": "l6Jp9PoTzqgd",
        "outputId": "50e85f0f-954c-44bb-a0cf-e12a595a5800"
      },
      "outputs": [
        {
          "name": "stdout",
          "output_type": "stream",
          "text": [
            "Epoch 1/5\n"
          ]
        },
        {
          "name": "stderr",
          "output_type": "stream",
          "text": [
            "2023-05-17 14:33:54.449167: I tensorflow/stream_executor/platform/default/dso_loader.cc:49] Successfully opened dynamic library libcudnn.so.7\n"
          ]
        },
        {
          "name": "stdout",
          "output_type": "stream",
          "text": [
            "469/469 [==============================] - 4s 3ms/step - loss: 0.4012 - accuracy: 0.8759\n",
            "Epoch 2/5\n",
            "469/469 [==============================] - 1s 2ms/step - loss: 0.0739 - accuracy: 0.9770\n",
            "Epoch 3/5\n",
            "469/469 [==============================] - 1s 2ms/step - loss: 0.0394 - accuracy: 0.9880\n",
            "Epoch 4/5\n",
            "469/469 [==============================] - 1s 2ms/step - loss: 0.0249 - accuracy: 0.9924\n",
            "Epoch 5/5\n",
            "469/469 [==============================] - 1s 2ms/step - loss: 0.0174 - accuracy: 0.9947\n"
          ]
        },
        {
          "data": {
            "text/plain": [
              "0.9839"
            ]
          },
          "execution_count": 23,
          "metadata": {},
          "output_type": "execute_result"
        }
      ],
      "source": [
        "from sklearn.base import BaseEstimator, ClassifierMixin, TransformerMixin\n",
        "from sklearn.pipeline import Pipeline\n",
        "from tensorflow import keras\n",
        "from tensorflow.keras import layers\n",
        "from sklearn.metrics import accuracy_score\n",
        "import numpy as np\n",
        "\n",
        "class RedeNeural(BaseEstimator, ClassifierMixin):\n",
        "  def __init__(self, epochs=5, batch_size=128):\n",
        "    self.epochs = epochs\n",
        "    self.batch_size = batch_size\n",
        "\n",
        "  def fit(self, X, y):\n",
        "    self.labels, ids = np.unique(y, return_inverse=True)\n",
        "    yhot = keras.utils.to_categorical(ids)\n",
        "    self.model = keras.Sequential([\n",
        "        layers.Conv2D(4, 4, activation='relu'),\n",
        "        layers.Flatten(),\n",
        "        layers.Dense(512, activation=\"relu\"),\n",
        "        layers.Dense(yhot.shape[1], activation=\"softmax\")\n",
        "    ])\n",
        "    self.model.compile(optimizer=\"rmsprop\",\n",
        "                       loss=\"categorical_crossentropy\",\n",
        "                       metrics=[\"accuracy\"])\n",
        "    self.model.fit(X, yhot, epochs=self.epochs, batch_size=self.batch_size)\n",
        "    return self\n",
        "\n",
        "  def predict(self, X, y=None):\n",
        "    probabilities = self.model.predict(X)\n",
        "    ypred = self.labels[np.argmax(probabilities, axis=1)]\n",
        "    return ypred\n",
        "\n",
        "class MudaShape(BaseEstimator, TransformerMixin):\n",
        "  def fit(self, X, y):\n",
        "    return self\n",
        "  def transform(self, X, y=None):\n",
        "    return X.reshape((-1,28,28,1))\n",
        "\n",
        "modelo = Pipeline([\n",
        "    (\"scaler\", DividePor255()), \n",
        "    (\"reshape\", MudaShape()), \n",
        "    (\"ann\", RedeNeural())\n",
        "])\n",
        "modelo.fit(train_images, train_labels)\n",
        "ypred = modelo.predict(test_images)\n",
        "accuracy_score(test_labels, ypred)"
      ]
    },
    {
      "cell_type": "code",
      "execution_count": 24,
      "metadata": {
        "colab": {
          "base_uri": "https://localhost:8080/"
        },
        "id": "OYFEL1UPCClp",
        "outputId": "4ed2cc9a-c7dd-4f27-ec34-49e37d0a24a4"
      },
      "outputs": [
        {
          "name": "stdout",
          "output_type": "stream",
          "text": [
            "--2023-05-17 14:34:03--  https://github.com/fboldt/aulasann/raw/main/mnist.zip\n",
            "Resolving github.com (github.com)... 20.201.28.151\n",
            "Connecting to github.com (github.com)|20.201.28.151|:443... connected.\n",
            "HTTP request sent, awaiting response... 302 Found\n",
            "Location: https://raw.githubusercontent.com/fboldt/aulasann/main/mnist.zip [following]\n",
            "--2023-05-17 14:34:03--  https://raw.githubusercontent.com/fboldt/aulasann/main/mnist.zip\n",
            "Resolving raw.githubusercontent.com (raw.githubusercontent.com)... 185.199.109.133, 185.199.110.133, 185.199.108.133, ...\n",
            "Connecting to raw.githubusercontent.com (raw.githubusercontent.com)|185.199.109.133|:443... connected.\n",
            "HTTP request sent, awaiting response... 200 OK\n",
            "Length: 23112702 (22M) [application/zip]\n",
            "Saving to: ‘mnist.zip’\n",
            "\n",
            "mnist.zip           100%[===================>]  22,04M  1,13MB/s    in 20s     \n",
            "\n",
            "2023-05-17 14:34:25 (1,09 MB/s) - ‘mnist.zip’ saved [23112702/23112702]\n",
            "\n",
            "Archive:  mnist.zip\n",
            "  inflating: mnist/t10k-images-idx3-ubyte/t10k-images-idx3-ubyte  \n",
            "  inflating: mnist/t10k-images.idx3-ubyte  \n",
            "  inflating: mnist/t10k-labels-idx1-ubyte/t10k-labels-idx1-ubyte  \n",
            "  inflating: mnist/t10k-labels.idx1-ubyte  \n",
            "  inflating: mnist/train-images-idx3-ubyte/train-images-idx3-ubyte  \n",
            "  inflating: mnist/train-images.idx3-ubyte  \n",
            "  inflating: mnist/train-labels-idx1-ubyte/train-labels-idx1-ubyte  \n",
            "  inflating: mnist/train-labels.idx1-ubyte  \n"
          ]
        }
      ],
      "source": [
        "!wget https://github.com/fboldt/aulasann/raw/main/mnist.zip\n",
        "!rm -rf mnist\n",
        "!mkdir mnist\n",
        "!unzip mnist.zip -d mnist\n",
        "!rm mnist.zip"
      ]
    },
    {
      "cell_type": "code",
      "execution_count": 25,
      "metadata": {
        "id": "EtCOJjLp9xcR"
      },
      "outputs": [],
      "source": [
        "#\n",
        "# This is a sample Notebook to demonstrate how to read \"MNIST Dataset\"\n",
        "#\n",
        "import numpy as np # linear algebra\n",
        "import struct\n",
        "from array import array\n",
        "from os.path  import join\n",
        "\n",
        "#\n",
        "# MNIST Data Loader Class\n",
        "#\n",
        "class MnistDataloader(object):\n",
        "    def __init__(self, training_images_filepath,training_labels_filepath,\n",
        "                 test_images_filepath, test_labels_filepath):\n",
        "        self.training_images_filepath = training_images_filepath\n",
        "        self.training_labels_filepath = training_labels_filepath\n",
        "        self.test_images_filepath = test_images_filepath\n",
        "        self.test_labels_filepath = test_labels_filepath\n",
        "    \n",
        "    def read_images_labels(self, images_filepath, labels_filepath):        \n",
        "        labels = []\n",
        "        with open(labels_filepath, 'rb') as file:\n",
        "            magic, size = struct.unpack(\">II\", file.read(8))\n",
        "            if magic != 2049:\n",
        "                raise ValueError('Magic number mismatch, expected 2049, got {}'.format(magic))\n",
        "            labels = array(\"B\", file.read())        \n",
        "        \n",
        "        with open(images_filepath, 'rb') as file:\n",
        "            magic, size, rows, cols = struct.unpack(\">IIII\", file.read(16))\n",
        "            if magic != 2051:\n",
        "                raise ValueError('Magic number mismatch, expected 2051, got {}'.format(magic))\n",
        "            image_data = array(\"B\", file.read())        \n",
        "        images = []\n",
        "        for i in range(size):\n",
        "            images.append([0] * rows * cols)\n",
        "        for i in range(size):\n",
        "            img = np.array(image_data[i * rows * cols:(i + 1) * rows * cols])\n",
        "            img = img.reshape(28, 28)\n",
        "            images[i][:] = img            \n",
        "        \n",
        "        return images, labels\n",
        "            \n",
        "    def load_data(self):\n",
        "        x_train, y_train = self.read_images_labels(self.training_images_filepath, self.training_labels_filepath)\n",
        "        x_test, y_test = self.read_images_labels(self.test_images_filepath, self.test_labels_filepath)\n",
        "        return (x_train, y_train),(x_test, y_test)"
      ]
    },
    {
      "cell_type": "code",
      "execution_count": 26,
      "metadata": {
        "colab": {
          "base_uri": "https://localhost:8080/",
          "height": 459
        },
        "id": "lhGeeygr94mt",
        "outputId": "48f08d3d-f84d-46e6-a8e2-490ea89cbb53"
      },
      "outputs": [
        {
          "data": {
            "image/png": "[encoded data removed]",
            "text/plain": [
              "<Figure size 3000x2000 with 15 Axes>"
            ]
          },
          "metadata": {},
          "output_type": "display_data"
        }
      ],
      "source": [
        "#\n",
        "# Verify Reading Dataset via MnistDataloader class\n",
        "#\n",
        "%matplotlib inline\n",
        "import random\n",
        "import matplotlib.pyplot as plt\n",
        "\n",
        "#\n",
        "# Set file paths based on added MNIST Datasets\n",
        "#\n",
        "input_path = 'mnist'\n",
        "training_images_filepath = join(input_path, 'train-images-idx3-ubyte/train-images-idx3-ubyte')\n",
        "training_labels_filepath = join(input_path, 'train-labels-idx1-ubyte/train-labels-idx1-ubyte')\n",
        "test_images_filepath = join(input_path, 't10k-images-idx3-ubyte/t10k-images-idx3-ubyte')\n",
        "test_labels_filepath = join(input_path, 't10k-labels-idx1-ubyte/t10k-labels-idx1-ubyte')\n",
        "\n",
        "#\n",
        "# Helper function to show a list of images with their relating titles\n",
        "#\n",
        "def show_images(images, title_texts):\n",
        "    cols = 5\n",
        "    rows = int(len(images)/cols) + 1\n",
        "    plt.figure(figsize=(30,20))\n",
        "    index = 1    \n",
        "    for x in zip(images, title_texts):        \n",
        "        image = x[0]        \n",
        "        title_text = x[1]\n",
        "        plt.subplot(rows, cols, index)        \n",
        "        plt.imshow(image, cmap=plt.cm.gray)\n",
        "        if (title_text != ''):\n",
        "            plt.title(title_text, fontsize = 15);        \n",
        "        index += 1\n",
        "\n",
        "#\n",
        "# Load MINST dataset\n",
        "#\n",
        "mnist_dataloader = MnistDataloader(training_images_filepath, training_labels_filepath, test_images_filepath, test_labels_filepath)\n",
        "(x_train, y_train), (x_test, y_test) = mnist_dataloader.load_data()\n",
        "\n",
        "#\n",
        "# Show some random training and test images \n",
        "#\n",
        "images_2_show = []\n",
        "titles_2_show = []\n",
        "for i in range(0, 10):\n",
        "    r = random.randint(1, 60000)\n",
        "    images_2_show.append(x_train[r])\n",
        "    titles_2_show.append('training image [' + str(r) + '] = ' + str(y_train[r]))    \n",
        "\n",
        "for i in range(0, 5):\n",
        "    r = random.randint(1, 10000)\n",
        "    images_2_show.append(x_test[r])        \n",
        "    titles_2_show.append('test image [' + str(r) + '] = ' + str(y_test[r]))    \n",
        "\n",
        "show_images(images_2_show, titles_2_show)"
      ]
    },
    {
      "cell_type": "code",
      "execution_count": 27,
      "metadata": {
        "colab": {
          "base_uri": "https://localhost:8080/"
        },
        "id": "AQ7eyziBABIr",
        "outputId": "2c4c1bde-c742-4647-eb04-8f78e30ed557"
      },
      "outputs": [
        {
          "name": "stdout",
          "output_type": "stream",
          "text": [
            "Epoch 1/5\n",
            "469/469 [==============================] - 1s 3ms/step - loss: 0.3999 - accuracy: 0.8728\n",
            "Epoch 2/5\n",
            "469/469 [==============================] - 1s 3ms/step - loss: 0.0664 - accuracy: 0.9799\n",
            "Epoch 3/5\n",
            "469/469 [==============================] - 2s 3ms/step - loss: 0.0360 - accuracy: 0.9896\n",
            "Epoch 4/5\n",
            "469/469 [==============================] - 1s 3ms/step - loss: 0.0236 - accuracy: 0.9928\n",
            "Epoch 5/5\n",
            "469/469 [==============================] - 1s 3ms/step - loss: 0.0132 - accuracy: 0.9964\n"
          ]
        },
        {
          "data": {
            "text/plain": [
              "0.9833"
            ]
          },
          "execution_count": 27,
          "metadata": {},
          "output_type": "execute_result"
        }
      ],
      "source": [
        "from sklearn.base import BaseEstimator, ClassifierMixin, TransformerMixin\n",
        "from sklearn.pipeline import Pipeline\n",
        "from tensorflow import keras\n",
        "from tensorflow.keras import layers\n",
        "from sklearn.metrics import accuracy_score\n",
        "import numpy as np\n",
        "\n",
        "class RedeNeural(BaseEstimator, ClassifierMixin):\n",
        "  def __init__(self, epochs=5, batch_size=128):\n",
        "    self.epochs = epochs\n",
        "    self.batch_size = batch_size\n",
        "\n",
        "  def fit(self, X, y):\n",
        "    self.labels, ids = np.unique(y, return_inverse=True)\n",
        "    yhot = keras.utils.to_categorical(ids)\n",
        "    self.model = keras.Sequential([\n",
        "        layers.Conv2D(4, 4, activation='relu'),\n",
        "        layers.Flatten(),\n",
        "        layers.Dense(512, activation=\"relu\"),\n",
        "        layers.Dense(yhot.shape[1], activation=\"softmax\")\n",
        "    ])\n",
        "    self.model.compile(optimizer=\"rmsprop\",\n",
        "                       loss=\"categorical_crossentropy\",\n",
        "                       metrics=[\"accuracy\"])\n",
        "    self.model.fit(X, yhot, epochs=self.epochs, batch_size=self.batch_size)\n",
        "    return self\n",
        "\n",
        "  def predict(self, X, y=None):\n",
        "    probabilities = self.model.predict(X)\n",
        "    ypred = self.labels[np.argmax(probabilities, axis=1)]\n",
        "    return ypred\n",
        "\n",
        "class DividePor255(BaseEstimator, TransformerMixin):\n",
        "  def fit(self, X, y):\n",
        "    return self\n",
        "  def transform(self, X, y=None):\n",
        "    return np.array(X, dtype=\"float32\") / 255\n",
        "\n",
        "class MudaShape(BaseEstimator, TransformerMixin):\n",
        "  def fit(self, X, y):\n",
        "    return self\n",
        "  def transform(self, X, y=None):\n",
        "    return X.reshape((-1,28,28,1))\n",
        "\n",
        "modelo = Pipeline([\n",
        "    (\"scaler\", DividePor255()), \n",
        "    (\"reshape\", MudaShape()), \n",
        "    (\"ann\", RedeNeural())\n",
        "])\n",
        "modelo.fit(x_train, y_train)\n",
        "ypred = modelo.predict(x_test)\n",
        "accuracy_score(np.array(y_test), ypred)"
      ]
    },
    {
      "cell_type": "code",
      "execution_count": 28,
      "metadata": {},
      "outputs": [],
      "source": [
        "!rm -rf mnist"
      ]
    },
    {
      "cell_type": "code",
      "execution_count": 30,
      "metadata": {},
      "outputs": [
        {
          "name": "stdout",
          "output_type": "stream",
          "text": [
            "Epoch 1/5\n",
            "375/375 [==============================] - 2s 4ms/step - loss: 0.5165 - accuracy: 0.8378 - val_loss: 0.0727 - val_accuracy: 0.9784\n",
            "Epoch 2/5\n",
            "375/375 [==============================] - 1s 4ms/step - loss: 0.0683 - accuracy: 0.9779 - val_loss: 0.0520 - val_accuracy: 0.9861\n",
            "Epoch 3/5\n",
            "375/375 [==============================] - 1s 3ms/step - loss: 0.0416 - accuracy: 0.9874 - val_loss: 0.0482 - val_accuracy: 0.9854\n",
            "Epoch 4/5\n",
            "375/375 [==============================] - 2s 4ms/step - loss: 0.0299 - accuracy: 0.9904 - val_loss: 0.0404 - val_accuracy: 0.9893\n",
            "Epoch 5/5\n",
            "375/375 [==============================] - 1s 3ms/step - loss: 0.0219 - accuracy: 0.9929 - val_loss: 0.0371 - val_accuracy: 0.9902\n"
          ]
        },
        {
          "data": {
            "text/plain": [
              "0.9917"
            ]
          },
          "execution_count": 30,
          "metadata": {},
          "output_type": "execute_result"
        }
      ],
      "source": [
        "from sklearn.base import BaseEstimator, ClassifierMixin, TransformerMixin\n",
        "from sklearn.pipeline import Pipeline\n",
        "from tensorflow import keras\n",
        "from tensorflow.keras import layers\n",
        "from sklearn.metrics import accuracy_score\n",
        "import numpy as np\n",
        "\n",
        "def define_architecture(input_shape, output_shape):\n",
        "    inputs = keras.Input(shape=input_shape)\n",
        "    x = layers.Conv2D(filters=32, kernel_size=3, activation=\"relu\")(inputs)\n",
        "    x = layers.MaxPooling2D(pool_size=2)(x)\n",
        "    x = layers.Conv2D(filters=64, kernel_size=3, activation=\"relu\")(x)\n",
        "    x = layers.MaxPooling2D(pool_size=2)(x)\n",
        "    x = layers.Conv2D(filters=128, kernel_size=3, activation=\"relu\")(x)\n",
        "    x = layers.Flatten()(x)\n",
        "    outputs = layers.Dense(output_shape, activation=\"softmax\")(x)\n",
        "    return keras.Model(inputs=inputs, outputs=outputs)\n",
        "\n",
        "class RedeNeural(BaseEstimator, ClassifierMixin):\n",
        "  def __init__(self, epochs=5, batch_size=128):\n",
        "    self.epochs = epochs\n",
        "    self.batch_size = batch_size\n",
        "    self.validation_split=0.2\n",
        "\n",
        "  def to_categorical(self ,y):\n",
        "    self.labels, ids = np.unique(y, return_inverse=True)\n",
        "    yhot = keras.utils.to_categorical(ids)\n",
        "    return yhot\n",
        "\n",
        "  def fit(self, X, y):\n",
        "    yhot = self.to_categorical(y)\n",
        "    self.model = define_architecture(X.shape[1:], yhot.shape[1])\n",
        "    self.model.compile(optimizer=\"rmsprop\", \n",
        "                  loss=\"categorical_crossentropy\", \n",
        "                  metrics=[\"accuracy\"])\n",
        "    self.model.fit(X, yhot, \n",
        "                   epochs=self.epochs, \n",
        "                   batch_size=self.batch_size,\n",
        "                   validation_split=self.validation_split)\n",
        "    return self\n",
        "\n",
        "  def predict(self, X, y=None):\n",
        "    probabilities = self.model.predict(X)\n",
        "    ypred = self.labels[np.argmax(probabilities, axis=1)]\n",
        "    return ypred\n",
        "\n",
        "class DividePor255(BaseEstimator, TransformerMixin):\n",
        "  def fit(self, X, y):\n",
        "    return self\n",
        "  def transform(self, X, y=None):\n",
        "    return np.array(X, dtype=\"float32\") / 255\n",
        "\n",
        "class MudaShape(BaseEstimator, TransformerMixin):\n",
        "  def fit(self, X, y):\n",
        "    return self\n",
        "  def transform(self, X, y=None):\n",
        "    return X.reshape((-1,28,28,1))\n",
        "\n",
        "modelo = Pipeline([\n",
        "    (\"scaler\", DividePor255()), \n",
        "    (\"reshape\", MudaShape()), \n",
        "    (\"ann\", RedeNeural())\n",
        "])\n",
        "modelo.fit(x_train, y_train)\n",
        "ypred = modelo.predict(x_test)\n",
        "accuracy_score(np.array(y_test), ypred)"
      ]
    }
  ],
  "metadata": {
    "colab": {
      "authorship_tag": "ABX9TyN7VhLNs6Ylybby4Py6R1py",
      "include_colab_link": true,
      "provenance": []
    },
    "kernelspec": {
      "display_name": "Python 3",
      "name": "python3"
    },
    "language_info": {
      "codemirror_mode": {
        "name": "ipython",
        "version": 3
      },
      "file_extension": ".py",
      "mimetype": "text/x-python",
      "name": "python",
      "nbconvert_exporter": "python",
      "pygments_lexer": "ipython3",
      "version": "3.8.16"
    }
  },
  "nbformat": 4,
  "nbformat_minor": 0
}
