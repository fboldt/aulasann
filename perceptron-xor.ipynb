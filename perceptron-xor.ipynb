{
 "metadata": {
  "language_info": {
   "codemirror_mode": {
    "name": "ipython",
    "version": 3
   },
   "file_extension": ".py",
   "mimetype": "text/x-python",
   "name": "python",
   "nbconvert_exporter": "python",
   "pygments_lexer": "ipython3",
   "version": "3.8.10"
  },
  "orig_nbformat": 4,
  "kernelspec": {
   "name": "python3",
   "display_name": "Python 3.8.10 64-bit ('.venv': venv)"
  },
  "interpreter": {
   "hash": "75fd6e9282b53769d76d25d09087eeec68f8276876655256e0b87b9b71492f4a"
  }
 },
 "nbformat": 4,
 "nbformat_minor": 2,
 "cells": [
  {
   "cell_type": "code",
   "execution_count": 38,
   "source": [
    "import matplotlib.pyplot as plt\n",
    "import numpy as np\n",
    "from sklearn.datasets import make_blobs\n",
    "from sklearn.preprocessing import label_binarize\n",
    "\n",
    "def geradataset(tamanho=20, centros=[[0,0],[1,0],[1,1],[0,1]]):\n",
    "    X, y = make_blobs(n_samples=tamanho, centers=centros, center_box=(0, 1.0), cluster_std=0.1)\n",
    "    y = np.array(y%2, dtype=int)\n",
    "    return X, y\n",
    "\n",
    "def plotadataset(X, y):\n",
    "    plt.xlabel('X1')\n",
    "    plt.ylabel('X2')\n",
    "    for k in set(y):\n",
    "        plt.plot(X[:,0][y==k],X[:,1][y==k], \"o\", alpha=0.3)\n",
    "\n",
    "def plotahiperplano(vetor, bias=0, xmin=0, xmax=1):\n",
    "    xs = np.linspace(xmin, xmax, num=2)\n",
    "    ys = (-vetor[0] / vetor[1]) * xs - bias / vetor[1]\n",
    "    plt.plot(xs,ys)\n",
    "\n",
    "X, y = geradataset(100)\n",
    "plotadataset(X, y)\n",
    "plt.show()\n",
    "y"
   ],
   "outputs": [
    {
     "output_type": "display_data",
     "data": {
      "text/plain": [
       "<Figure size 432x288 with 1 Axes>"
      ],
      "image/png": "[encoded data removed]"
     },
     "metadata": {
      "needs_background": "light"
     }
    },
    {
     "output_type": "execute_result",
     "data": {
      "text/plain": [
       "array([0, 0, 0, 1, 1, 0, 0, 0, 1, 1, 0, 1, 0, 1, 0, 1, 0, 0, 0, 0, 1, 0,\n",
       "       1, 0, 0, 0, 0, 0, 0, 1, 0, 1, 0, 0, 0, 0, 1, 0, 1, 1, 1, 1, 0, 1,\n",
       "       1, 0, 1, 1, 0, 1, 1, 0, 1, 0, 0, 1, 1, 1, 0, 1, 1, 0, 1, 1, 1, 1,\n",
       "       1, 0, 1, 1, 1, 0, 0, 0, 1, 1, 1, 0, 0, 1, 1, 0, 0, 1, 0, 1, 0, 1,\n",
       "       0, 0, 1, 0, 0, 1, 1, 1, 0, 0, 1, 1])"
      ]
     },
     "metadata": {},
     "execution_count": 38
    }
   ],
   "metadata": {}
  },
  {
   "cell_type": "markdown",
   "source": [
    "# Funções de Custo"
   ],
   "metadata": {}
  },
  {
   "cell_type": "code",
   "execution_count": 39,
   "source": [
    "class CustoPerceptron():\n",
    "    @staticmethod\n",
    "    def erro(y, ypred):\n",
    "        return y - ypred\n",
    "    @staticmethod\n",
    "    def custo(y, ypred):\n",
    "        return np.sum(CustoPerceptron.erro(y, ypred)**2)\n",
    "    @staticmethod\n",
    "    def gradiente(y, ypred, X):\n",
    "        return np.matmul(X.T, CustoPerceptron.erro(y, ypred))\n",
    "\n",
    "class Adaline():\n",
    "    def __init__(self):\n",
    "        self.preactivated = True\n",
    "    @staticmethod\n",
    "    def erro(y, ypred):\n",
    "        return y - ypred\n",
    "    @staticmethod\n",
    "    def custo(y, ypred):\n",
    "        return np.sum((1 - Adaline.erro(y, ypred))**2)\n",
    "    @staticmethod\n",
    "    def gradiente(y, ypred, X):\n",
    "        return np.matmul(X.T, Adaline.erro(y, ypred))\n",
    "\n",
    "class HingeLoss():\n",
    "    @staticmethod\n",
    "    def erro(y, ypred):\n",
    "        return np.multiply(y, ypred)\n",
    "    @staticmethod\n",
    "    def custo(y, ypred):\n",
    "        return np.sum(1 - HingeLoss.erro(y, ypred))\n",
    "    @staticmethod\n",
    "    def gradiente(y, ypred, X):\n",
    "        erro = HingeLoss.erro(y, ypred)\n",
    "        errosmarginais = erro < 1\n",
    "        ymarginais = np.copy(y)\n",
    "        ymarginais[~errosmarginais] = 0\n",
    "        g = np.matmul(X.T, ymarginais)\n",
    "        return np.stack(g)"
   ],
   "outputs": [],
   "metadata": {}
  },
  {
   "cell_type": "markdown",
   "source": [
    "# Perceptron"
   ],
   "metadata": {}
  },
  {
   "cell_type": "code",
   "execution_count": 41,
   "source": [
    "from sklearn.base import BaseEstimator, ClassifierMixin\n",
    "\n",
    "class Perceptron(BaseEstimator, ClassifierMixin):\n",
    "    def __init__(self, custo=CustoPerceptron(), alpha=0.5):\n",
    "        self.w = None\n",
    "        self.activation = lambda a: (a>=0)*2-1\n",
    "        self.threshold = 0\n",
    "        self.alpha = alpha\n",
    "        self.maxiter = 200\n",
    "        self.custo = custo\n",
    "    \n",
    "    @staticmethod\n",
    "    def includebias(X):\n",
    "        bias = np.ones((X.shape[0],1))\n",
    "        Xb = np.concatenate((bias,X), axis=1)\n",
    "        return Xb\n",
    "\n",
    "    def fit(self, X, y):\n",
    "        Xb = Perceptron.includebias(X)\n",
    "        self.labels = list(set(y))\n",
    "        y = label_binarize(y, classes=self.labels)*2-1\n",
    "        if len(self.labels) == 2 :\n",
    "            y = y[:,0:1]\n",
    "        self.w = np.random.uniform(-1, 1, size=(Xb.shape[1], y.shape[1]))\n",
    "        # training\n",
    "        for _ in range(self.maxiter):\n",
    "            a = self.preactivate(X)\n",
    "            ypred = self.activation(a)\n",
    "            custo = self.custo.custo(y, ypred)\n",
    "            if custo == 0:\n",
    "                break\n",
    "            self.w = self.w + self.alpha*self.custo.gradiente(y, ypred, Xb)\n",
    "    \n",
    "    def preactivate(self, X):\n",
    "        Xb = Perceptron.includebias(X)\n",
    "        return np.matmul(Xb, self.w)\n",
    "\n",
    "    def predict(self, X):\n",
    "        a = self.preactivate(X)\n",
    "        if self.w.shape[1] > 1:\n",
    "            idx = np.argmax(a, axis=1) \n",
    "        else:\n",
    "            idx = np.array(self.activation(a) > self.threshold, dtype=int)[:,0]\n",
    "        ypred = np.array([self.labels[i] for i in idx])\n",
    "        return ypred\n",
    "\n",
    "perceptron = Perceptron(custo=HingeLoss)\n",
    "perceptron.fit(X, y)\n",
    "ypred = perceptron.predict(X)\n",
    "print(sum(y == ypred)/len(y))\n",
    "print(perceptron.w[1:], perceptron.w[0])\n",
    "\n",
    "plotadataset(X, y)\n",
    "if len(set(y)) > 2:\n",
    "    for i in range(len(set(y))):\n",
    "        plotahiperplano(perceptron.w[1:,i], perceptron.w[0,i], min(X[:,0]), max(X[:,0]))\n",
    "else:\n",
    "    plotahiperplano(perceptron.w[1:],perceptron.w[0])"
   ],
   "outputs": [
    {
     "output_type": "stream",
     "name": "stdout",
     "text": [
      "0.5\n",
      "[[11.704499  ]\n",
      " [ 0.20284388]] [-16.05555786]\n"
     ]
    },
    {
     "output_type": "display_data",
     "data": {
      "text/plain": [
       "<Figure size 432x288 with 1 Axes>"
      ],
      "image/png": "[encoded data removed]"
     },
     "metadata": {
      "needs_background": "light"
     }
    }
   ],
   "metadata": {
    "tags": []
   }
  }
 ]
}