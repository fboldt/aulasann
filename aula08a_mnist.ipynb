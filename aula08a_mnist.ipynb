{
  "nbformat": 4,
  "nbformat_minor": 0,
  "metadata": {
    "colab": {
      "provenance": [],
      "authorship_tag": "ABX9TyNhcoVQRexF4uYU3jrckOCu",
      "include_colab_link": true
    },
    "kernelspec": {
      "name": "python3",
      "display_name": "Python 3"
    },
    "language_info": {
      "name": "python"
    }
  },
  "cells": [
    {
      "cell_type": "markdown",
      "metadata": {
        "id": "view-in-github",
        "colab_type": "text"
      },
      "source": [
        "<a href=\"https://colab.research.google.com/github/fboldt/aulasann/blob/code/aula08a_mnist.ipynb\" target=\"_parent\"><img src=\"https://colab.research.google.com/assets/colab-badge.svg\" alt=\"Open In Colab\"/></a>"
      ]
    },
    {
      "cell_type": "code",
      "execution_count": 1,
      "metadata": {
        "id": "N6IiWnrybXpr",
        "outputId": "4deea48a-acaa-4333-b416-73ac2048b187",
        "colab": {
          "base_uri": "https://localhost:8080/"
        }
      },
      "outputs": [
        {
          "output_type": "stream",
          "name": "stdout",
          "text": [
            "Downloading data from https://storage.googleapis.com/tensorflow/tf-keras-datasets/mnist.npz\n",
            "11490434/11490434 [==============================] - 1s 0us/step\n"
          ]
        }
      ],
      "source": [
        "from tensorflow.keras.datasets import mnist\n",
        "(train_images, train_labels), (test_images, test_labels) = mnist.load_data()"
      ]
    },
    {
      "cell_type": "code",
      "source": [
        "train_images.shape, len(train_labels), train_labels"
      ],
      "metadata": {
        "colab": {
          "base_uri": "https://localhost:8080/"
        },
        "id": "Gcqlvdpgfj6T",
        "outputId": "7058e5d6-3b7d-4ca4-c068-c6f26a647432"
      },
      "execution_count": 2,
      "outputs": [
        {
          "output_type": "execute_result",
          "data": {
            "text/plain": [
              "((60000, 28, 28), 60000, array([5, 0, 4, ..., 5, 6, 8], dtype=uint8))"
            ]
          },
          "metadata": {},
          "execution_count": 2
        }
      ]
    },
    {
      "cell_type": "code",
      "source": [
        "import matplotlib.pyplot as plt\n",
        "%matplotlib inline\n",
        "\n",
        "plt.imshow(train_images[0], cmap='gray')\n",
        "plt.show()"
      ],
      "metadata": {
        "colab": {
          "base_uri": "https://localhost:8080/",
          "height": 430
        },
        "id": "t0sSA-3PgPq-",
        "outputId": "3c1dbbdc-e9f8-4690-a14c-9e65cd271369"
      },
      "execution_count": 3,
      "outputs": [
        {
          "output_type": "display_data",
          "data": {
            "text/plain": [
              "<Figure size 640x480 with 1 Axes>"
            ],
            "image/png": "[encoded data removed]"
          },
          "metadata": {}
        }
      ]
    },
    {
      "cell_type": "code",
      "source": [
        "test_images.shape, len(test_labels), test_labels"
      ],
      "metadata": {
        "colab": {
          "base_uri": "https://localhost:8080/"
        },
        "id": "PJ8PpU2FfoT2",
        "outputId": "88f52587-a11d-489e-95a7-851d4642458f"
      },
      "execution_count": 4,
      "outputs": [
        {
          "output_type": "execute_result",
          "data": {
            "text/plain": [
              "((10000, 28, 28), 10000, array([7, 2, 1, ..., 4, 5, 6], dtype=uint8))"
            ]
          },
          "metadata": {},
          "execution_count": 4
        }
      ]
    },
    {
      "cell_type": "code",
      "source": [
        "from tensorflow import keras\n",
        "from tensorflow.keras import layers\n",
        "model = keras.Sequential([\n",
        "    layers.Dense(512, activation=\"relu\"),\n",
        "    layers.Dense(10, activation=\"softmax\")\n",
        "])"
      ],
      "metadata": {
        "id": "ahDOnrzvf0PV"
      },
      "execution_count": 5,
      "outputs": []
    },
    {
      "cell_type": "code",
      "source": [
        "model.compile(optimizer=\"rmsprop\",\n",
        "              loss=\"sparse_categorical_crossentropy\",\n",
        "              metrics=[\"accuracy\"])"
      ],
      "metadata": {
        "id": "XkggT9gIiFg7"
      },
      "execution_count": 6,
      "outputs": []
    },
    {
      "cell_type": "code",
      "source": [
        "train_images = train_images.reshape((60000, 28 * 28))\n",
        "train_images = train_images.astype(\"float32\") / 255\n",
        "test_images = test_images.reshape((10000, 28 * 28))\n",
        "test_images = test_images.astype(\"float32\") / 255"
      ],
      "metadata": {
        "id": "oGlkliSUi7ot"
      },
      "execution_count": 7,
      "outputs": []
    },
    {
      "cell_type": "code",
      "source": [
        "(train_images.shape, train_labels), (test_images.shape, test_labels)"
      ],
      "metadata": {
        "colab": {
          "base_uri": "https://localhost:8080/"
        },
        "id": "M555L5eDkRTf",
        "outputId": "d7923d90-5af3-4447-a57b-ece8e6e57f0d"
      },
      "execution_count": 8,
      "outputs": [
        {
          "output_type": "execute_result",
          "data": {
            "text/plain": [
              "(((60000, 784), array([5, 0, 4, ..., 5, 6, 8], dtype=uint8)),\n",
              " ((10000, 784), array([7, 2, 1, ..., 4, 5, 6], dtype=uint8)))"
            ]
          },
          "metadata": {},
          "execution_count": 8
        }
      ]
    },
    {
      "cell_type": "code",
      "source": [
        "model.fit(train_images, train_labels, epochs=5, batch_size=128)"
      ],
      "metadata": {
        "colab": {
          "base_uri": "https://localhost:8080/"
        },
        "id": "fLTBB7dEkX7R",
        "outputId": "1e7fd764-eb39-47bd-a5e3-2fa3b8d632c0"
      },
      "execution_count": 9,
      "outputs": [
        {
          "output_type": "stream",
          "name": "stdout",
          "text": [
            "Epoch 1/5\n",
            "469/469 [==============================] - 10s 16ms/step - loss: 0.2662 - accuracy: 0.9230\n",
            "Epoch 2/5\n",
            "469/469 [==============================] - 7s 16ms/step - loss: 0.1087 - accuracy: 0.9683\n",
            "Epoch 3/5\n",
            "469/469 [==============================] - 7s 15ms/step - loss: 0.0719 - accuracy: 0.9784\n",
            "Epoch 4/5\n",
            "469/469 [==============================] - 4s 9ms/step - loss: 0.0528 - accuracy: 0.9844\n",
            "Epoch 5/5\n",
            "469/469 [==============================] - 4s 9ms/step - loss: 0.0385 - accuracy: 0.9884\n"
          ]
        },
        {
          "output_type": "execute_result",
          "data": {
            "text/plain": [
              "<keras.callbacks.History at 0x7f8d29f9b340>"
            ]
          },
          "metadata": {},
          "execution_count": 9
        }
      ]
    },
    {
      "cell_type": "code",
      "source": [
        "predicted = model.predict(test_images[0:1])\n",
        "predicted[0]"
      ],
      "metadata": {
        "colab": {
          "base_uri": "https://localhost:8080/"
        },
        "id": "KLFJzUn5k15k",
        "outputId": "f18bf468-b786-4249-89b7-02b18a01311f"
      },
      "execution_count": 10,
      "outputs": [
        {
          "output_type": "stream",
          "name": "stdout",
          "text": [
            "1/1 [==============================] - 0s 82ms/step\n"
          ]
        },
        {
          "output_type": "execute_result",
          "data": {
            "text/plain": [
              "array([1.0071527e-07, 4.3258872e-09, 4.1424073e-06, 1.1524067e-04,\n",
              "       4.3179748e-12, 9.5753528e-08, 9.4811355e-13, 9.9987721e-01,\n",
              "       5.6016978e-07, 2.5466438e-06], dtype=float32)"
            ]
          },
          "metadata": {},
          "execution_count": 10
        }
      ]
    },
    {
      "cell_type": "code",
      "source": [
        "predicted[0].argmax()"
      ],
      "metadata": {
        "colab": {
          "base_uri": "https://localhost:8080/"
        },
        "id": "qktJXuz4lI0h",
        "outputId": "2a54c4f6-93b2-449e-ae1f-5ba169999bb9"
      },
      "execution_count": 11,
      "outputs": [
        {
          "output_type": "execute_result",
          "data": {
            "text/plain": [
              "7"
            ]
          },
          "metadata": {},
          "execution_count": 11
        }
      ]
    },
    {
      "cell_type": "code",
      "source": [
        "predicted[0][7]"
      ],
      "metadata": {
        "colab": {
          "base_uri": "https://localhost:8080/"
        },
        "id": "5OFbgBU2lXEh",
        "outputId": "c2ef776a-bddc-42a7-d3b7-6f31f7ef90bc"
      },
      "execution_count": 12,
      "outputs": [
        {
          "output_type": "execute_result",
          "data": {
            "text/plain": [
              "0.9998772"
            ]
          },
          "metadata": {},
          "execution_count": 12
        }
      ]
    },
    {
      "cell_type": "code",
      "source": [
        "test_labels[0]"
      ],
      "metadata": {
        "colab": {
          "base_uri": "https://localhost:8080/"
        },
        "id": "WqkI15rKli40",
        "outputId": "f3462b42-5370-483c-f189-03e3bacc0243"
      },
      "execution_count": 13,
      "outputs": [
        {
          "output_type": "execute_result",
          "data": {
            "text/plain": [
              "7"
            ]
          },
          "metadata": {},
          "execution_count": 13
        }
      ]
    },
    {
      "cell_type": "code",
      "source": [
        "test_loss, test_acc = model.evaluate(test_images, test_labels)\n",
        "print(f\"test_acc: {test_acc}\")"
      ],
      "metadata": {
        "colab": {
          "base_uri": "https://localhost:8080/"
        },
        "id": "BdP49CnTlnff",
        "outputId": "d54882e5-097b-428f-cddb-69319e77c665"
      },
      "execution_count": 14,
      "outputs": [
        {
          "output_type": "stream",
          "name": "stdout",
          "text": [
            "313/313 [==============================] - 1s 3ms/step - loss: 0.0664 - accuracy: 0.9784\n",
            "test_acc: 0.9783999919891357\n"
          ]
        }
      ]
    },
    {
      "cell_type": "code",
      "source": [
        "from tensorflow.keras.utils import to_categorical\n",
        "train_labels_hot = to_categorical(train_labels)\n",
        "test_labels_hot = to_categorical(test_labels)"
      ],
      "metadata": {
        "id": "p1wYjLX_ptkS"
      },
      "execution_count": 15,
      "outputs": []
    },
    {
      "cell_type": "code",
      "source": [
        "from sklearn.base import BaseEstimator, ClassifierMixin\n",
        "from tensorflow import keras\n",
        "from tensorflow.keras import layers\n",
        "from sklearn.metrics import accuracy_score\n",
        "import numpy as np\n",
        "\n",
        "class RedeNeural(BaseEstimator, ClassifierMixin):\n",
        "  def __init__(self, epochs=5, batch_size=128):\n",
        "    self.epochs = epochs\n",
        "    self.batch_size = batch_size\n",
        "  def fit(self, X, y):\n",
        "    self.model = keras.Sequential([\n",
        "        layers.Dense(512, activation=\"relu\"),\n",
        "        layers.Dense(y.shape[1], activation=\"softmax\")\n",
        "    ])\n",
        "    self.model.compile(optimizer=\"rmsprop\",\n",
        "                       loss=\"categorical_crossentropy\",\n",
        "                       metrics=[\"accuracy\"])\n",
        "    self.model.fit(X, y, epochs=self.epochs, batch_size=self.batch_size)\n",
        "    return self\n",
        "  def predict(self, X, y=None):\n",
        "    probabilities = self.model.predict(X)\n",
        "    return np.array([(a == np.max(a)) for a in probabilities])\n",
        "\n",
        "modelo = RedeNeural()\n",
        "modelo.fit(train_images, train_labels_hot)\n",
        "ypred = modelo.predict(test_images)\n",
        "accuracy_score(test_labels_hot, ypred)"
      ],
      "metadata": {
        "colab": {
          "base_uri": "https://localhost:8080/"
        },
        "id": "g0GlrfoVmDPy",
        "outputId": "86035b4e-bc1a-49ee-c6f7-04dbcb901fbf"
      },
      "execution_count": 16,
      "outputs": [
        {
          "output_type": "stream",
          "name": "stdout",
          "text": [
            "Epoch 1/5\n",
            "469/469 [==============================] - 5s 10ms/step - loss: 0.2658 - accuracy: 0.9230\n",
            "Epoch 2/5\n",
            "469/469 [==============================] - 4s 9ms/step - loss: 0.1102 - accuracy: 0.9678\n",
            "Epoch 3/5\n",
            "469/469 [==============================] - 5s 11ms/step - loss: 0.0723 - accuracy: 0.9786\n",
            "Epoch 4/5\n",
            "469/469 [==============================] - 4s 9ms/step - loss: 0.0520 - accuracy: 0.9846\n",
            "Epoch 5/5\n",
            "469/469 [==============================] - 4s 9ms/step - loss: 0.0387 - accuracy: 0.9884\n",
            "313/313 [==============================] - 1s 3ms/step\n"
          ]
        },
        {
          "output_type": "execute_result",
          "data": {
            "text/plain": [
              "0.9801"
            ]
          },
          "metadata": {},
          "execution_count": 16
        }
      ]
    },
    {
      "cell_type": "code",
      "source": [
        "from sklearn.base import BaseEstimator, ClassifierMixin\n",
        "from tensorflow import keras\n",
        "from tensorflow.keras import layers\n",
        "from sklearn.metrics import accuracy_score\n",
        "import numpy as np\n",
        "\n",
        "class RedeNeural(BaseEstimator, ClassifierMixin):\n",
        "  def __init__(self, epochs=5, batch_size=128):\n",
        "    self.epochs = epochs\n",
        "    self.batch_size = batch_size\n",
        "\n",
        "  def fit(self, X, y):\n",
        "    self.labels, ids = np.unique(y, return_inverse=True)\n",
        "    yhot = keras.utils.to_categorical(ids)\n",
        "    self.model = keras.Sequential([\n",
        "        layers.Dense(512, activation=\"relu\"),\n",
        "        layers.Dense(yhot.shape[1], activation=\"softmax\")\n",
        "    ])\n",
        "    self.model.compile(optimizer=\"rmsprop\",\n",
        "                       loss=\"categorical_crossentropy\",\n",
        "                       metrics=[\"accuracy\"])\n",
        "    self.model.fit(X, yhot, epochs=self.epochs, batch_size=self.batch_size)\n",
        "    return self\n",
        "\n",
        "  def predict(self, X, y=None):\n",
        "    probabilities = self.model.predict(X)\n",
        "    ypred = self.labels[np.argmax(probabilities, axis=1)]\n",
        "    return ypred\n",
        "\n",
        "modelo = RedeNeural()\n",
        "modelo.fit(train_images, train_labels)\n",
        "ypred = modelo.predict(test_images)\n",
        "accuracy_score(test_labels, ypred)"
      ],
      "metadata": {
        "colab": {
          "base_uri": "https://localhost:8080/"
        },
        "id": "biZxY9y-tvsu",
        "outputId": "5e88d094-1d7f-45a6-8aed-76d4650ece60"
      },
      "execution_count": 17,
      "outputs": [
        {
          "output_type": "stream",
          "name": "stdout",
          "text": [
            "Epoch 1/5\n",
            "469/469 [==============================] - 5s 10ms/step - loss: 0.2628 - accuracy: 0.9243\n",
            "Epoch 2/5\n",
            "469/469 [==============================] - 4s 9ms/step - loss: 0.1076 - accuracy: 0.9684\n",
            "Epoch 3/5\n",
            "469/469 [==============================] - 5s 11ms/step - loss: 0.0714 - accuracy: 0.9789\n",
            "Epoch 4/5\n",
            "469/469 [==============================] - 4s 9ms/step - loss: 0.0514 - accuracy: 0.9849\n",
            "Epoch 5/5\n",
            "469/469 [==============================] - 4s 9ms/step - loss: 0.0388 - accuracy: 0.9883\n",
            "313/313 [==============================] - 1s 3ms/step\n"
          ]
        },
        {
          "output_type": "execute_result",
          "data": {
            "text/plain": [
              "0.9815"
            ]
          },
          "metadata": {},
          "execution_count": 17
        }
      ]
    },
    {
      "cell_type": "code",
      "source": [
        "from tensorflow.keras.datasets import mnist\n",
        "(train_images, train_labels), (test_images, test_labels) = mnist.load_data()"
      ],
      "metadata": {
        "id": "5yojlp9iu-Pv"
      },
      "execution_count": 18,
      "outputs": []
    },
    {
      "cell_type": "code",
      "source": [
        "train_images = train_images.reshape((60000, 28 * 28))\n",
        "test_images = test_images.reshape((10000, 28 * 28))"
      ],
      "metadata": {
        "id": "UyHTc6_-vP5J"
      },
      "execution_count": 19,
      "outputs": []
    },
    {
      "cell_type": "code",
      "source": [
        "from sklearn.pipeline import Pipeline\n",
        "from sklearn.preprocessing import MinMaxScaler\n",
        "\n",
        "modelo = Pipeline([\n",
        "    (\"scaler\", MinMaxScaler()), \n",
        "    (\"ann\", RedeNeural())\n",
        "])\n",
        "modelo.fit(train_images, train_labels)\n",
        "ypred = modelo.predict(test_images)\n",
        "accuracy_score(test_labels, ypred)"
      ],
      "metadata": {
        "colab": {
          "base_uri": "https://localhost:8080/"
        },
        "id": "MZmjfs0evAvR",
        "outputId": "000af953-61a9-46bf-98f4-c400249aeaf3"
      },
      "execution_count": 20,
      "outputs": [
        {
          "output_type": "stream",
          "name": "stdout",
          "text": [
            "Epoch 1/5\n",
            "469/469 [==============================] - 5s 11ms/step - loss: 0.2614 - accuracy: 0.9251\n",
            "Epoch 2/5\n",
            "469/469 [==============================] - 5s 10ms/step - loss: 0.1063 - accuracy: 0.9688\n",
            "Epoch 3/5\n",
            "469/469 [==============================] - 4s 9ms/step - loss: 0.0698 - accuracy: 0.9793\n",
            "Epoch 4/5\n",
            "469/469 [==============================] - 5s 10ms/step - loss: 0.0508 - accuracy: 0.9843\n",
            "Epoch 5/5\n",
            "469/469 [==============================] - 4s 9ms/step - loss: 0.0371 - accuracy: 0.9894\n",
            "313/313 [==============================] - 1s 3ms/step\n"
          ]
        },
        {
          "output_type": "execute_result",
          "data": {
            "text/plain": [
              "0.9772"
            ]
          },
          "metadata": {},
          "execution_count": 20
        }
      ]
    },
    {
      "cell_type": "code",
      "source": [
        "from sklearn.base import BaseEstimator, TransformerMixin\n",
        "\n",
        "class DividePor255(BaseEstimator, TransformerMixin):\n",
        "  def fit(self, X, y):\n",
        "    return self\n",
        "  def transform(self, X, y=None):\n",
        "    return X.astype(\"float32\") / 255\n",
        "\n",
        "from sklearn.pipeline import Pipeline\n",
        "\n",
        "modelo = Pipeline([\n",
        "    (\"scaler\", DividePor255()), \n",
        "    (\"ann\", RedeNeural())\n",
        "])\n",
        "modelo.fit(train_images, train_labels)\n",
        "ypred = modelo.predict(test_images)\n",
        "accuracy_score(test_labels, ypred)"
      ],
      "metadata": {
        "colab": {
          "base_uri": "https://localhost:8080/"
        },
        "id": "H4orTgf1yoJL",
        "outputId": "68bef6bb-781a-4902-df8b-cc9f6f7bd890"
      },
      "execution_count": 21,
      "outputs": [
        {
          "output_type": "stream",
          "name": "stdout",
          "text": [
            "Epoch 1/5\n",
            "469/469 [==============================] - 5s 10ms/step - loss: 0.2640 - accuracy: 0.9247\n",
            "Epoch 2/5\n",
            "469/469 [==============================] - 4s 9ms/step - loss: 0.1069 - accuracy: 0.9675\n",
            "Epoch 3/5\n",
            "469/469 [==============================] - 4s 9ms/step - loss: 0.0712 - accuracy: 0.9794\n",
            "Epoch 4/5\n",
            "469/469 [==============================] - 5s 10ms/step - loss: 0.0511 - accuracy: 0.9851\n",
            "Epoch 5/5\n",
            "469/469 [==============================] - 4s 9ms/step - loss: 0.0388 - accuracy: 0.9882\n",
            "313/313 [==============================] - 1s 3ms/step\n"
          ]
        },
        {
          "output_type": "execute_result",
          "data": {
            "text/plain": [
              "0.9806"
            ]
          },
          "metadata": {},
          "execution_count": 21
        }
      ]
    },
    {
      "cell_type": "code",
      "source": [
        "from tensorflow.keras.datasets import mnist\n",
        "(train_images, train_labels), (test_images, test_labels) = mnist.load_data()"
      ],
      "metadata": {
        "id": "ithmDGLSz9fj"
      },
      "execution_count": 22,
      "outputs": []
    },
    {
      "cell_type": "code",
      "source": [
        "from sklearn.base import BaseEstimator, ClassifierMixin\n",
        "from tensorflow import keras\n",
        "from tensorflow.keras import layers\n",
        "from sklearn.metrics import accuracy_score\n",
        "import numpy as np\n",
        "\n",
        "class RedeNeural(BaseEstimator, ClassifierMixin):\n",
        "  def __init__(self, epochs=5, batch_size=128):\n",
        "    self.epochs = epochs\n",
        "    self.batch_size = batch_size\n",
        "\n",
        "  def fit(self, X, y):\n",
        "    self.labels, ids = np.unique(y, return_inverse=True)\n",
        "    yhot = keras.utils.to_categorical(ids)\n",
        "    self.model = keras.Sequential([\n",
        "        layers.Conv2D(4, 4, activation='relu'),\n",
        "        layers.Flatten(),\n",
        "        layers.Dense(512, activation=\"relu\"),\n",
        "        layers.Dense(yhot.shape[1], activation=\"softmax\")\n",
        "    ])\n",
        "    self.model.compile(optimizer=\"rmsprop\",\n",
        "                       loss=\"categorical_crossentropy\",\n",
        "                       metrics=[\"accuracy\"])\n",
        "    self.model.fit(X, yhot, epochs=self.epochs, batch_size=self.batch_size)\n",
        "    return self\n",
        "\n",
        "  def predict(self, X, y=None):\n",
        "    probabilities = self.model.predict(X)\n",
        "    ypred = self.labels[np.argmax(probabilities, axis=1)]\n",
        "    return ypred\n",
        "\n",
        "class MudaShape(BaseEstimator, TransformerMixin):\n",
        "  def fit(self, X, y):\n",
        "    return self\n",
        "  def transform(self, X, y=None):\n",
        "    return X.reshape((-1,28,28,1))\n",
        "\n",
        "modelo = Pipeline([\n",
        "    (\"scaler\", DividePor255()), \n",
        "    (\"reshape\", MudaShape()), \n",
        "    (\"ann\", RedeNeural())\n",
        "])\n",
        "modelo.fit(train_images, train_labels)\n",
        "ypred = modelo.predict(test_images)\n",
        "accuracy_score(test_labels, ypred)"
      ],
      "metadata": {
        "colab": {
          "base_uri": "https://localhost:8080/"
        },
        "id": "l6Jp9PoTzqgd",
        "outputId": "f1e70130-e653-470d-a528-df074b8f6904"
      },
      "execution_count": 23,
      "outputs": [
        {
          "output_type": "stream",
          "name": "stdout",
          "text": [
            "Epoch 1/5\n",
            "469/469 [==============================] - 23s 48ms/step - loss: 0.2158 - accuracy: 0.9339\n",
            "Epoch 2/5\n",
            "469/469 [==============================] - 21s 45ms/step - loss: 0.0693 - accuracy: 0.9786\n",
            "Epoch 3/5\n",
            "469/469 [==============================] - 21s 45ms/step - loss: 0.0422 - accuracy: 0.9867\n",
            "Epoch 4/5\n",
            "469/469 [==============================] - 21s 46ms/step - loss: 0.0283 - accuracy: 0.9911\n",
            "Epoch 5/5\n",
            "469/469 [==============================] - 22s 47ms/step - loss: 0.0181 - accuracy: 0.9944\n",
            "313/313 [==============================] - 2s 7ms/step\n"
          ]
        },
        {
          "output_type": "execute_result",
          "data": {
            "text/plain": [
              "0.982"
            ]
          },
          "metadata": {},
          "execution_count": 23
        }
      ]
    }
  ]
}