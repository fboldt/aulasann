{
 "cells": [
  {
   "cell_type": "code",
   "execution_count": 1,
   "metadata": {},
   "outputs": [
    {
     "name": "stderr",
     "output_type": "stream",
     "text": [
      "2022-05-24 17:40:13.757429: W tensorflow/stream_executor/platform/default/dso_loader.cc:64] Could not load dynamic library 'libcudart.so.11.0'; dlerror: libcudart.so.11.0: cannot open shared object file: No such file or directory\n",
      "2022-05-24 17:40:13.757456: I tensorflow/stream_executor/cuda/cudart_stub.cc:29] Ignore above cudart dlerror if you do not have a GPU set up on your machine.\n"
     ]
    },
    {
     "data": {
      "text/plain": [
       "((25000,), (25000,), (25000,), (25000,))"
      ]
     },
     "execution_count": 1,
     "metadata": {},
     "output_type": "execute_result"
    }
   ],
   "source": [
    "from tensorflow.keras.datasets import imdb\n",
    "(train_data, train_labels), (test_data, test_labels) = imdb.load_data(num_words=10000)\n",
    "train_data.shape, train_labels.shape, test_data.shape, test_labels.shape"
   ]
  },
  {
   "cell_type": "code",
   "execution_count": 2,
   "metadata": {},
   "outputs": [
    {
     "data": {
      "text/plain": [
       "(array([list([1, 14, 22, 16, 43, 530, 973, 1622, 1385, 65, 458, 4468, 66, 3941, 4, 173, 36, 256, 5, 25, 100, 43, 838, 112, 50, 670, 2, 9, 35, 480, 284, 5, 150, 4, 172, 112, 167, 2, 336, 385, 39, 4, 172, 4536, 1111, 17, 546, 38, 13, 447, 4, 192, 50, 16, 6, 147, 2025, 19, 14, 22, 4, 1920, 4613, 469, 4, 22, 71, 87, 12, 16, 43, 530, 38, 76, 15, 13, 1247, 4, 22, 17, 515, 17, 12, 16, 626, 18, 2, 5, 62, 386, 12, 8, 316, 8, 106, 5, 4, 2223, 5244, 16, 480, 66, 3785, 33, 4, 130, 12, 16, 38, 619, 5, 25, 124, 51, 36, 135, 48, 25, 1415, 33, 6, 22, 12, 215, 28, 77, 52, 5, 14, 407, 16, 82, 2, 8, 4, 107, 117, 5952, 15, 256, 4, 2, 7, 3766, 5, 723, 36, 71, 43, 530, 476, 26, 400, 317, 46, 7, 4, 2, 1029, 13, 104, 88, 4, 381, 15, 297, 98, 32, 2071, 56, 26, 141, 6, 194, 7486, 18, 4, 226, 22, 21, 134, 476, 26, 480, 5, 144, 30, 5535, 18, 51, 36, 28, 224, 92, 25, 104, 4, 226, 65, 16, 38, 1334, 88, 12, 16, 283, 5, 16, 4472, 113, 103, 32, 15, 16, 5345, 19, 178, 32])],\n",
       "       dtype=object),\n",
       " array([1]))"
      ]
     },
     "execution_count": 2,
     "metadata": {},
     "output_type": "execute_result"
    }
   ],
   "source": [
    "train_data[0:1], train_labels[0:1]\n"
   ]
  },
  {
   "cell_type": "code",
   "execution_count": 3,
   "metadata": {},
   "outputs": [
    {
     "data": {
      "text/plain": [
       "\"? this film was just brilliant casting location scenery story direction everyone's really suited the part they played and you could just imagine being there robert ? is an amazing actor and now the same being director ? father came from the same scottish island as myself so i loved the fact there was a real connection with this film the witty remarks throughout the film were great it was just brilliant so much that i bought the film as soon as it was released for ? and would recommend it to everyone to watch and the fly fishing was amazing really cried at the end it was so sad and you know what they say if you cry at a film it must have been good and this definitely was also ? to the two little boy's that played the ? of norman and paul they were just brilliant children are often left out of the ? list i think because the stars that play them all grown up are such a big profile for the whole film but these children are amazing and should be praised for what they have done don't you think the whole story was so lovely because it was true and was someone's life after all that was shared with us all\""
      ]
     },
     "execution_count": 3,
     "metadata": {},
     "output_type": "execute_result"
    }
   ],
   "source": [
    "def decode_words(word_index, sentence):\n",
    "    reverse_word_index = dict(\n",
    "        [(value, key) for (key, value) in word_index.items()]\n",
    "    )\n",
    "    return \" \".join(\n",
    "        [reverse_word_index.get(i-3, \"?\") for i in sentence]\n",
    "    )\n",
    "decode_words(imdb.get_word_index(), train_data[0])"
   ]
  },
  {
   "cell_type": "code",
   "execution_count": 4,
   "metadata": {},
   "outputs": [
    {
     "data": {
      "text/plain": [
       "((25000, 10000), (25000,), (25000, 10000), (25000,))"
      ]
     },
     "execution_count": 4,
     "metadata": {},
     "output_type": "execute_result"
    }
   ],
   "source": [
    "import numpy as np\n",
    "def vectorize_sequences(sequences, dimension=10000):\n",
    "    results = np.zeros((len(sequences), dimension))\n",
    "    for i, sequence in enumerate(sequences):\n",
    "        for j in sequence:\n",
    "            results[i, j] = 1\n",
    "    return results\n",
    "x_train = vectorize_sequences(train_data)\n",
    "x_test = vectorize_sequences(test_data)\n",
    "y_train = np.asarray(train_labels).astype(\"float32\")\n",
    "y_test = np.asarray(test_labels).astype(\"float32\")\n",
    "x_train.shape, y_train.shape, x_test.shape, y_test.shape"
   ]
  },
  {
   "cell_type": "code",
   "execution_count": 5,
   "metadata": {},
   "outputs": [
    {
     "name": "stderr",
     "output_type": "stream",
     "text": [
      "2022-05-24 17:40:18.561139: I tensorflow/stream_executor/cuda/cuda_gpu_executor.cc:975] successful NUMA node read from SysFS had negative value (-1), but there must be at least one NUMA node, so returning NUMA node zero\n",
      "2022-05-24 17:40:18.561335: W tensorflow/stream_executor/platform/default/dso_loader.cc:64] Could not load dynamic library 'libcudart.so.11.0'; dlerror: libcudart.so.11.0: cannot open shared object file: No such file or directory\n",
      "2022-05-24 17:40:18.561365: W tensorflow/stream_executor/platform/default/dso_loader.cc:64] Could not load dynamic library 'libcublas.so.11'; dlerror: libcublas.so.11: cannot open shared object file: No such file or directory\n",
      "2022-05-24 17:40:18.561392: W tensorflow/stream_executor/platform/default/dso_loader.cc:64] Could not load dynamic library 'libcublasLt.so.11'; dlerror: libcublasLt.so.11: cannot open shared object file: No such file or directory\n",
      "2022-05-24 17:40:18.561418: W tensorflow/stream_executor/platform/default/dso_loader.cc:64] Could not load dynamic library 'libcufft.so.10'; dlerror: libcufft.so.10: cannot open shared object file: No such file or directory\n",
      "2022-05-24 17:40:18.561440: W tensorflow/stream_executor/platform/default/dso_loader.cc:64] Could not load dynamic library 'libcurand.so.10'; dlerror: libcurand.so.10: cannot open shared object file: No such file or directory\n",
      "2022-05-24 17:40:18.561460: W tensorflow/stream_executor/platform/default/dso_loader.cc:64] Could not load dynamic library 'libcusolver.so.11'; dlerror: libcusolver.so.11: cannot open shared object file: No such file or directory\n",
      "2022-05-24 17:40:18.561481: W tensorflow/stream_executor/platform/default/dso_loader.cc:64] Could not load dynamic library 'libcusparse.so.11'; dlerror: libcusparse.so.11: cannot open shared object file: No such file or directory\n",
      "2022-05-24 17:40:18.561502: W tensorflow/stream_executor/platform/default/dso_loader.cc:64] Could not load dynamic library 'libcudnn.so.8'; dlerror: libcudnn.so.8: cannot open shared object file: No such file or directory\n",
      "2022-05-24 17:40:18.561506: W tensorflow/core/common_runtime/gpu/gpu_device.cc:1850] Cannot dlopen some GPU libraries. Please make sure the missing libraries mentioned above are installed properly if you would like to use GPU. Follow the guide at https://www.tensorflow.org/install/gpu for how to download and setup the required libraries for your platform.\n",
      "Skipping registering GPU devices...\n",
      "2022-05-24 17:40:18.561806: I tensorflow/core/platform/cpu_feature_guard.cc:193] This TensorFlow binary is optimized with oneAPI Deep Neural Network Library (oneDNN) to use the following CPU instructions in performance-critical operations:  AVX2 FMA\n",
      "To enable them in other operations, rebuild TensorFlow with the appropriate compiler flags.\n"
     ]
    }
   ],
   "source": [
    "from tensorflow import keras\n",
    "from tensorflow.keras import layers\n",
    "\n",
    "model = keras.Sequential([\n",
    "    layers.Dense(16, activation=\"relu\"),\n",
    "    layers.Dense(16, activation=\"relu\"),\n",
    "    layers.Dense(1, activation=\"sigmoid\")\n",
    "])\n",
    "model.compile(optimizer=\"rmsprop\", \n",
    "              loss=\"binary_crossentropy\",\n",
    "              metrics=[\"accuracy\"])\n"
   ]
  },
  {
   "cell_type": "code",
   "execution_count": 6,
   "metadata": {},
   "outputs": [
    {
     "data": {
      "text/plain": [
       "((10000, 10000), (15000, 10000), (10000,), (15000,))"
      ]
     },
     "execution_count": 6,
     "metadata": {},
     "output_type": "execute_result"
    }
   ],
   "source": [
    "n_val = 10000\n",
    "x_val = x_train[:n_val]\n",
    "partial_x_train = x_train[n_val:]\n",
    "y_val = y_train[:n_val]\n",
    "partial_y_train = y_train[n_val:]\n",
    "x_val.shape, partial_x_train.shape, y_val.shape, partial_y_train.shape\n"
   ]
  },
  {
   "cell_type": "code",
   "execution_count": 7,
   "metadata": {},
   "outputs": [
    {
     "name": "stdout",
     "output_type": "stream",
     "text": [
      "Epoch 1/20\n",
      "30/30 [==============================] - 1s 16ms/step - loss: 0.5213 - accuracy: 0.7887 - val_loss: 0.4114 - val_accuracy: 0.8426\n",
      "Epoch 2/20\n",
      "30/30 [==============================] - 0s 7ms/step - loss: 0.3155 - accuracy: 0.8991 - val_loss: 0.3224 - val_accuracy: 0.8770\n",
      "Epoch 3/20\n",
      "30/30 [==============================] - 0s 6ms/step - loss: 0.2304 - accuracy: 0.9271 - val_loss: 0.2828 - val_accuracy: 0.8889\n",
      "Epoch 4/20\n",
      "30/30 [==============================] - 0s 6ms/step - loss: 0.1823 - accuracy: 0.9411 - val_loss: 0.2740 - val_accuracy: 0.8894\n",
      "Epoch 5/20\n",
      "30/30 [==============================] - 0s 6ms/step - loss: 0.1503 - accuracy: 0.9514 - val_loss: 0.2844 - val_accuracy: 0.8842\n",
      "Epoch 6/20\n",
      "30/30 [==============================] - 0s 5ms/step - loss: 0.1206 - accuracy: 0.9625 - val_loss: 0.2915 - val_accuracy: 0.8881\n",
      "Epoch 7/20\n",
      "30/30 [==============================] - 0s 6ms/step - loss: 0.1013 - accuracy: 0.9691 - val_loss: 0.3169 - val_accuracy: 0.8804\n",
      "Epoch 8/20\n",
      "30/30 [==============================] - 0s 6ms/step - loss: 0.0811 - accuracy: 0.9776 - val_loss: 0.3777 - val_accuracy: 0.8671\n",
      "Epoch 9/20\n",
      "30/30 [==============================] - 0s 5ms/step - loss: 0.0688 - accuracy: 0.9819 - val_loss: 0.3586 - val_accuracy: 0.8806\n",
      "Epoch 10/20\n",
      "30/30 [==============================] - 0s 6ms/step - loss: 0.0594 - accuracy: 0.9844 - val_loss: 0.3845 - val_accuracy: 0.8738\n",
      "Epoch 11/20\n",
      "30/30 [==============================] - 0s 6ms/step - loss: 0.0452 - accuracy: 0.9898 - val_loss: 0.4069 - val_accuracy: 0.8734\n",
      "Epoch 12/20\n",
      "30/30 [==============================] - 0s 5ms/step - loss: 0.0397 - accuracy: 0.9914 - val_loss: 0.4290 - val_accuracy: 0.8732\n",
      "Epoch 13/20\n",
      "30/30 [==============================] - 0s 5ms/step - loss: 0.0293 - accuracy: 0.9948 - val_loss: 0.4583 - val_accuracy: 0.8725\n",
      "Epoch 14/20\n",
      "30/30 [==============================] - 0s 5ms/step - loss: 0.0248 - accuracy: 0.9955 - val_loss: 0.4968 - val_accuracy: 0.8684\n",
      "Epoch 15/20\n",
      "30/30 [==============================] - 0s 5ms/step - loss: 0.0206 - accuracy: 0.9966 - val_loss: 0.5231 - val_accuracy: 0.8686\n",
      "Epoch 16/20\n",
      "30/30 [==============================] - 0s 5ms/step - loss: 0.0168 - accuracy: 0.9977 - val_loss: 0.5519 - val_accuracy: 0.8660\n",
      "Epoch 17/20\n",
      "30/30 [==============================] - 0s 6ms/step - loss: 0.0120 - accuracy: 0.9987 - val_loss: 0.5798 - val_accuracy: 0.8668\n",
      "Epoch 18/20\n",
      "30/30 [==============================] - 0s 5ms/step - loss: 0.0102 - accuracy: 0.9987 - val_loss: 0.6175 - val_accuracy: 0.8668\n",
      "Epoch 19/20\n",
      "30/30 [==============================] - 0s 5ms/step - loss: 0.0079 - accuracy: 0.9989 - val_loss: 0.6763 - val_accuracy: 0.8649\n",
      "Epoch 20/20\n",
      "30/30 [==============================] - 0s 5ms/step - loss: 0.0046 - accuracy: 0.9998 - val_loss: 0.6798 - val_accuracy: 0.8634\n"
     ]
    }
   ],
   "source": [
    "history = model.fit(partial_x_train,\n",
    "                    partial_y_train,\n",
    "                   epochs=20,\n",
    "                   batch_size=512,\n",
    "                   validation_data=(x_val,y_val))"
   ]
  },
  {
   "cell_type": "code",
   "execution_count": 8,
   "metadata": {},
   "outputs": [
    {
     "data": {
      "text/plain": [
       "dict_keys(['loss', 'accuracy', 'val_loss', 'val_accuracy'])"
      ]
     },
     "execution_count": 8,
     "metadata": {},
     "output_type": "execute_result"
    }
   ],
   "source": [
    "history_dict = history.history\n",
    "history_dict.keys()"
   ]
  },
  {
   "cell_type": "code",
   "execution_count": 9,
   "metadata": {},
   "outputs": [
    {
     "data": {
      "image/png": "[encoded data removed]",
      "text/plain": [
       "<Figure size 432x288 with 1 Axes>"
      ]
     },
     "metadata": {
      "needs_background": "light"
     },
     "output_type": "display_data"
    }
   ],
   "source": [
    "import matplotlib.pyplot as plt\n",
    "history_dict = history.history\n",
    "loss_values = history_dict[\"loss\"]\n",
    "val_loss_values = history_dict[\"val_loss\"]\n",
    "epochs = range(1,len(loss_values)+1)\n",
    "plt.plot(epochs, loss_values, \"bo\", label=\"Training loss\")\n",
    "plt.plot(epochs, val_loss_values, \"b\", label=\"Validation loss\")\n",
    "plt.title(\"Training and validation loss\")\n",
    "plt.xlabel(\"Epochs\")\n",
    "plt.ylabel(\"Loss\")\n",
    "plt.legend()\n",
    "plt.show()"
   ]
  },
  {
   "cell_type": "code",
   "execution_count": 10,
   "metadata": {},
   "outputs": [
    {
     "data": {
      "image/png": "[encoded data removed]",
      "text/plain": [
       "<Figure size 432x288 with 1 Axes>"
      ]
     },
     "metadata": {
      "needs_background": "light"
     },
     "output_type": "display_data"
    }
   ],
   "source": [
    "import matplotlib.pyplot as plt\n",
    "history_dict = history.history\n",
    "loss_values = history_dict[\"accuracy\"]\n",
    "val_loss_values = history_dict[\"val_accuracy\"]\n",
    "epochs = range(1,len(loss_values)+1)\n",
    "plt.plot(epochs, loss_values, \"bo\", label=\"Training acc\")\n",
    "plt.plot(epochs, val_loss_values, \"b\", label=\"Validation acc\")\n",
    "plt.title(\"Training and validation accuracy\")\n",
    "plt.xlabel(\"Epochs\")\n",
    "plt.ylabel(\"Accuracy\")\n",
    "plt.legend()\n",
    "plt.show()"
   ]
  },
  {
   "cell_type": "code",
   "execution_count": 11,
   "metadata": {},
   "outputs": [
    {
     "name": "stdout",
     "output_type": "stream",
     "text": [
      "Epoch 1/4\n",
      "30/30 [==============================] - 1s 13ms/step - loss: 0.0078 - accuracy: 0.9984 - val_loss: 0.7060 - val_accuracy: 0.8628\n",
      "Epoch 2/4\n",
      "30/30 [==============================] - 0s 6ms/step - loss: 0.0056 - accuracy: 0.9990 - val_loss: 0.7834 - val_accuracy: 0.8569\n",
      "Epoch 3/4\n",
      "30/30 [==============================] - 0s 5ms/step - loss: 0.0022 - accuracy: 0.9999 - val_loss: 0.7754 - val_accuracy: 0.8610\n",
      "Epoch 4/4\n",
      "30/30 [==============================] - 0s 6ms/step - loss: 0.0019 - accuracy: 0.9999 - val_loss: 0.9425 - val_accuracy: 0.8458\n",
      "782/782 [==============================] - 0s 529us/step - loss: 1.0575 - accuracy: 0.8296\n"
     ]
    },
    {
     "data": {
      "text/plain": [
       "[1.0574910640716553, 0.8295599818229675]"
      ]
     },
     "execution_count": 11,
     "metadata": {},
     "output_type": "execute_result"
    }
   ],
   "source": [
    "model.compile(optimizer=\"rmsprop\", \n",
    "              loss=\"binary_crossentropy\",\n",
    "              metrics=[\"accuracy\"])\n",
    "history = model.fit(partial_x_train,\n",
    "                    partial_y_train,\n",
    "                   epochs=4,\n",
    "                   batch_size=512,\n",
    "                   validation_data=(x_val,y_val))\n",
    "results = model.evaluate(x_test, y_test)\n",
    "results"
   ]
  },
  {
   "cell_type": "code",
   "execution_count": 12,
   "metadata": {},
   "outputs": [
    {
     "name": "stdout",
     "output_type": "stream",
     "text": [
      "782/782 [==============================] - 0s 442us/step\n"
     ]
    },
    {
     "data": {
      "text/plain": [
       "array([[6.5168331e-04],\n",
       "       [1.0000000e+00],\n",
       "       [1.3500957e-01],\n",
       "       ...,\n",
       "       [2.3066372e-04],\n",
       "       [2.5792685e-03],\n",
       "       [6.4286254e-02]], dtype=float32)"
      ]
     },
     "execution_count": 12,
     "metadata": {},
     "output_type": "execute_result"
    }
   ],
   "source": [
    "y_pred = model.predict(x_test)\n",
    "y_pred"
   ]
  },
  {
   "cell_type": "code",
   "execution_count": 13,
   "metadata": {},
   "outputs": [
    {
     "data": {
      "text/plain": [
       "0.82956"
      ]
     },
     "execution_count": 13,
     "metadata": {},
     "output_type": "execute_result"
    }
   ],
   "source": [
    "np.sum(((y_pred>0.5).reshape(-1,) == (y_test>0.5).reshape(-1,)))/len(y_test)\n"
   ]
  }
 ],
 "metadata": {
  "interpreter": {
   "hash": "0127fcf249ae9639d193058d90a066dbb4680b8a05bc0035dcdb02b6c7e130b3"
  },
  "kernelspec": {
   "display_name": "Python 3 (ipykernel)",
   "language": "python",
   "name": "python3"
  },
  "language_info": {
   "codemirror_mode": {
    "name": "ipython",
    "version": 3
   },
   "file_extension": ".py",
   "mimetype": "text/x-python",
   "name": "python",
   "nbconvert_exporter": "python",
   "pygments_lexer": "ipython3",
   "version": "3.8.10"
  }
 },
 "nbformat": 4,
 "nbformat_minor": 2
}
