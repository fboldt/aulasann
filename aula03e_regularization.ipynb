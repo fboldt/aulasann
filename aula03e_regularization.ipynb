{
  "nbformat": 4,
  "nbformat_minor": 0,
  "metadata": {
    "colab": {
      "provenance": [],
      "authorship_tag": "ABX9TyOvkGaGPK0Wh9lRKXEJAjU4",
      "include_colab_link": true
    },
    "kernelspec": {
      "name": "python3",
      "display_name": "Python 3"
    },
    "language_info": {
      "name": "python"
    }
  },
  "cells": [
    {
      "cell_type": "markdown",
      "metadata": {
        "id": "view-in-github",
        "colab_type": "text"
      },
      "source": [
        "<a href=\"https://colab.research.google.com/github/fboldt/aulasann/blob/main/aula03e_regularization.ipynb\" target=\"_parent\"><img src=\"https://colab.research.google.com/assets/colab-badge.svg\" alt=\"Open In Colab\"/></a>"
      ]
    },
    {
      "cell_type": "code",
      "source": [
        "import matplotlib.pyplot as plt\n",
        "\n",
        "def plotDataset(X, y):\n",
        "  plt.scatter(X[:,0], X[:,1], c=y)\n",
        "  plt.xlim(0, 1)\n",
        "  plt.ylim(0, 1)\n"
      ],
      "metadata": {
        "id": "ZEzyOUEmQPIE"
      },
      "execution_count": 317,
      "outputs": []
    },
    {
      "cell_type": "code",
      "source": [
        "def plotHiperplano(vector, intercept=0, dataset=None):\n",
        "  xs = np.array([0, 1])\n",
        "  ys = -(vector[0]*xs+intercept)/vector[1]\n",
        "  plt.plot(xs, ys, 'r-')\n"
      ],
      "metadata": {
        "id": "5AdCmMVMRpVk"
      },
      "execution_count": 318,
      "outputs": []
    },
    {
      "cell_type": "code",
      "execution_count": 319,
      "metadata": {
        "id": "A7yXimn3MDyZ"
      },
      "outputs": [],
      "source": [
        "import numpy as np\n",
        "\n",
        "def criaDataset(n=20, slop=[2,1], intercept=-0.4, dummyFeatures=8):\n",
        "  X = np.random.uniform(size=(n,dummyFeatures+2))\n",
        "  AUX = X[:,:2] * np.array(slop) - [0, intercept]\n",
        "  y = np.array(AUX[:,0]>AUX[:,1], dtype=int)*2-1\n",
        "  return X, y\n",
        "\n",
        "X, y = criaDataset()\n"
      ]
    },
    {
      "cell_type": "code",
      "source": [
        "X[:2, :]"
      ],
      "metadata": {
        "colab": {
          "base_uri": "https://localhost:8080/"
        },
        "id": "0dyxKan_1Ax-",
        "outputId": "dd22eccc-7d24-45da-f590-6822ac27deee"
      },
      "execution_count": 320,
      "outputs": [
        {
          "output_type": "execute_result",
          "data": {
            "text/plain": [
              "array([[0.8699718 , 0.06645944, 0.59822386, 0.59138408, 0.30509823,\n",
              "        0.35424706, 0.46178755, 0.8570993 , 0.693075  , 0.99169198],\n",
              "       [0.80457718, 0.41554818, 0.82175671, 0.1144323 , 0.38320151,\n",
              "        0.30527626, 0.71244477, 0.18928768, 0.53934369, 0.54804533]])"
            ]
          },
          "metadata": {},
          "execution_count": 320
        }
      ]
    },
    {
      "cell_type": "code",
      "source": [
        "plotDataset(X, y)\n",
        "plt.show()"
      ],
      "metadata": {
        "colab": {
          "base_uri": "https://localhost:8080/",
          "height": 435
        },
        "id": "AE0vzm0uVKe1",
        "outputId": "4d01777a-ac00-442a-c7b7-12c0e065a050"
      },
      "execution_count": 321,
      "outputs": [
        {
          "output_type": "display_data",
          "data": {
            "text/plain": [
              "<Figure size 640x480 with 1 Axes>"
            ],
            "image/png": "[encoded data removed]"
          },
          "metadata": {}
        }
      ]
    },
    {
      "cell_type": "code",
      "source": [
        "from sklearn.base import BaseEstimator, ClassifierMixin\n",
        "from sklearn.metrics import accuracy_score\n"
      ],
      "metadata": {
        "id": "EEDVPkNjURDk"
      },
      "execution_count": 322,
      "outputs": []
    },
    {
      "cell_type": "code",
      "source": [
        "def sign(a):\n",
        "  return (a>=0)*2-1"
      ],
      "metadata": {
        "id": "hQMXYwK_vI9W"
      },
      "execution_count": 323,
      "outputs": []
    },
    {
      "cell_type": "code",
      "source": [
        "from abc import ABC, abstractstaticmethod\n",
        "\n",
        "class Cost(ABC):\n",
        "  @abstractstaticmethod\n",
        "  def getCost(y, ypred):\n",
        "    pass\n",
        "  @abstractstaticmethod\n",
        "  def getGradient(y, ypred, X):\n",
        "    pass\n",
        "\n",
        "class WidrowHoff(Cost):\n",
        "  @staticmethod\n",
        "  def getCost(y, ypred):\n",
        "    return np.sum((y-ypred)**2)\n",
        "  @staticmethod\n",
        "  def getGradient(y, ypred, X):\n",
        "    return X.T @ (y-ypred)\n",
        "\n",
        "class SmoothedSurrogate(Cost):\n",
        "  @staticmethod\n",
        "  def getCost(y, ypred):\n",
        "    return np.sum(np.maximum(np.zeros(y.shape), -y * ypred))\n",
        "  @staticmethod\n",
        "  def getGradient(y, ypred, X):\n",
        "    return X.T @ (y - sign(ypred))\n",
        "\n",
        "class HingeLoss(Cost):\n",
        "  @staticmethod\n",
        "  def getCost(y, ypred):\n",
        "    return np.sum(np.maximum(np.zeros(y.shape), 1-y*ypred))\n",
        "  @staticmethod\n",
        "  def getGradient(y, ypred, X):\n",
        "    marginalserrors = (y * ypred) < 1\n",
        "    marginal_ys = np.copy(y)\n",
        "    marginal_ys[~marginalserrors] = 0\n",
        "    return X.T @ marginal_ys\n",
        "\n",
        "from scipy.special import expit\n",
        "\n",
        "class LogLikelihood(Cost):\n",
        "  @staticmethod\n",
        "  def getCost(y, ypred):\n",
        "    return np.sum(np.maximum(np.zeros(y.shape), 1 - y * ypred))\n",
        "  @staticmethod\n",
        "  def getGradient(y, ypred, X):\n",
        "    return X.T @ (y - (expit(ypred)*2-1))"
      ],
      "metadata": {
        "id": "ivd3lsLBXbQh"
      },
      "execution_count": 324,
      "outputs": []
    },
    {
      "cell_type": "code",
      "source": [
        "from abc import ABC, abstractmethod\n",
        "\n",
        "class TrainingAlgorithm(ABC):\n",
        "  @abstractmethod\n",
        "  def getW(self, X, y):\n",
        "    pass\n",
        "\n",
        "class GradientDescent(TrainingAlgorithm):\n",
        "  def __init__(self, max_iter=1000, learning_rate=0.01,\n",
        "               regularization=0,\n",
        "               cost=LogLikelihood()):\n",
        "    self.max_iter = max_iter\n",
        "    self.learning_rate = learning_rate\n",
        "    self.regularization = regularization\n",
        "    self.cost = cost\n",
        "\n",
        "  def getW(self, X, y):\n",
        "    w = np.random.uniform(-1, 1, size=X.shape[1])\n",
        "    for _ in range(self.max_iter):\n",
        "      ypred = X @ w\n",
        "      error = y - ypred\n",
        "      w *= 1 - self.regularization * self.learning_rate\n",
        "      w += self.cost.getGradient(y, ypred, X) * self.learning_rate\n",
        "      if self.cost.getCost(y, ypred) == 0:\n",
        "        break\n",
        "    return w\n"
      ],
      "metadata": {
        "id": "Y2mnF3nEqqo8"
      },
      "execution_count": 325,
      "outputs": []
    },
    {
      "cell_type": "code",
      "source": [
        "def include_bias(X):\n",
        "  bias = np.ones((X.shape[0],1))\n",
        "  Xb = np.concatenate((bias, X), axis=1)\n",
        "  return Xb\n",
        "\n",
        "class NeuralNetwork(BaseEstimator, ClassifierMixin):\n",
        "  def __init__(self, trainingAlgorithm=GradientDescent()):\n",
        "    self.trainingAlgorithm = trainingAlgorithm\n",
        "\n",
        "  def fit(self, X, y):\n",
        "    Xb = include_bias(X)\n",
        "    self.w = self.trainingAlgorithm.getW(Xb, y)\n",
        "    return self\n",
        "\n",
        "  def predict(self, X):\n",
        "    Xb = include_bias(X)\n",
        "    return sign(Xb @ self.w)\n"
      ],
      "metadata": {
        "id": "NiwACmX_qpRb"
      },
      "execution_count": 326,
      "outputs": []
    },
    {
      "cell_type": "code",
      "source": [
        "costs = [WidrowHoff(), SmoothedSurrogate(), HingeLoss(), LogLikelihood()]"
      ],
      "metadata": {
        "id": "YOx4tKB9y3UZ"
      },
      "execution_count": 327,
      "outputs": []
    },
    {
      "cell_type": "code",
      "source": [
        "Xtest, ytest = criaDataset(n=1000)"
      ],
      "metadata": {
        "id": "nKkl-Nm026z1"
      },
      "execution_count": 328,
      "outputs": []
    },
    {
      "cell_type": "code",
      "source": [
        "for cost in costs:\n",
        "  print(cost.__class__.__name__)\n",
        "  model = NeuralNetwork(trainingAlgorithm=GradientDescent(cost=cost))\n",
        "  model.fit(X, y)\n",
        "  ypred = model.predict(X)\n",
        "  # print(model.w)\n",
        "  print(accuracy_score(y, ypred))\n",
        "  # plotDataset(X, y)\n",
        "  # plotHiperplano(vector=model.w[1:], intercept=model.w[0])\n",
        "  # plt.show()\n",
        "  ypred = model.predict(Xtest)\n",
        "  print(accuracy_score(ytest, ypred))\n",
        "  # plotDataset(Xtest, ytest)\n",
        "  # plotHiperplano(vector=model.w[1:], intercept=model.w[0])\n",
        "  # plt.show()"
      ],
      "metadata": {
        "colab": {
          "base_uri": "https://localhost:8080/"
        },
        "id": "Nbp6gAPUrEqn",
        "outputId": "bbd66266-2bbb-408c-aa19-526725335a0e"
      },
      "execution_count": 375,
      "outputs": [
        {
          "output_type": "stream",
          "name": "stdout",
          "text": [
            "WidrowHoff\n",
            "1.0\n",
            "0.849\n",
            "SmoothedSurrogate\n",
            "1.0\n",
            "0.755\n",
            "HingeLoss\n",
            "1.0\n",
            "0.86\n",
            "LogLikelihood\n",
            "1.0\n",
            "0.869\n"
          ]
        }
      ]
    },
    {
      "cell_type": "code",
      "source": [
        "for cost in costs:\n",
        "  print(cost.__class__.__name__)\n",
        "  model = NeuralNetwork(trainingAlgorithm=GradientDescent(regularization=2, cost=cost))\n",
        "  model.fit(X, y)\n",
        "  ypred = model.predict(X)\n",
        "  # print(model.w)\n",
        "  print(accuracy_score(y, ypred))\n",
        "  # plotDataset(X, y)\n",
        "  # plotHiperplano(vector=model.w[1:], intercept=model.w[0])\n",
        "  # plt.show()\n",
        "  ypred = model.predict(Xtest)\n",
        "  print(accuracy_score(ytest, ypred))\n",
        "  # plotDataset(Xtest, ytest)\n",
        "  # plotHiperplano(vector=model.w[1:], intercept=model.w[0])\n",
        "  # plt.show()"
      ],
      "metadata": {
        "colab": {
          "base_uri": "https://localhost:8080/"
        },
        "id": "Hjcd1jeT2o-Q",
        "outputId": "331cb3b9-f076-49f2-92e5-24bbfd5ef877"
      },
      "execution_count": 382,
      "outputs": [
        {
          "output_type": "stream",
          "name": "stdout",
          "text": [
            "WidrowHoff\n",
            "0.95\n",
            "0.841\n",
            "SmoothedSurrogate\n",
            "1.0\n",
            "0.791\n",
            "HingeLoss\n",
            "0.95\n",
            "0.8\n",
            "LogLikelihood\n",
            "0.95\n",
            "0.82\n"
          ]
        }
      ]
    }
  ]
}