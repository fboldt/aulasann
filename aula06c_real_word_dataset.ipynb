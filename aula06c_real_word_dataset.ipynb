{
  "nbformat": 4,
  "nbformat_minor": 0,
  "metadata": {
    "colab": {
      "provenance": [],
      "authorship_tag": "ABX9TyMFWPmeOnGT2KbJ6T+Q0Pk8",
      "include_colab_link": true
    },
    "kernelspec": {
      "name": "python3",
      "display_name": "Python 3"
    },
    "language_info": {
      "name": "python"
    }
  },
  "cells": [
    {
      "cell_type": "markdown",
      "metadata": {
        "id": "view-in-github",
        "colab_type": "text"
      },
      "source": [
        "<a href=\"https://colab.research.google.com/github/fboldt/aulasann/blob/main/aula06c_real_word_dataset.ipynb\" target=\"_parent\"><img src=\"https://colab.research.google.com/assets/colab-badge.svg\" alt=\"Open In Colab\"/></a>"
      ]
    },
    {
      "cell_type": "code",
      "source": [
        "from sklearn.datasets import load_digits\n",
        "from sklearn.model_selection import train_test_split\n",
        "\n",
        "X, y = load_digits(return_X_y=True)\n",
        "\n",
        "X_train, X_test, y_train, y_test = train_test_split(X, y, test_size=0.2)"
      ],
      "metadata": {
        "id": "vFtlMKet8KzV"
      },
      "execution_count": 1,
      "outputs": []
    },
    {
      "cell_type": "code",
      "source": [
        "def sign(a):\n",
        "  return (a>=0)*2-1"
      ],
      "metadata": {
        "id": "hQMXYwK_vI9W"
      },
      "execution_count": 2,
      "outputs": []
    },
    {
      "cell_type": "code",
      "source": [
        "from sklearn.base import BaseEstimator, ClassifierMixin\n",
        "from sklearn.metrics import accuracy_score"
      ],
      "metadata": {
        "id": "EEDVPkNjURDk"
      },
      "execution_count": 3,
      "outputs": []
    },
    {
      "cell_type": "code",
      "source": [
        "import numpy as np\n",
        "include_bias = lambda X: np.c_[np.ones(X.shape[0]), X]"
      ],
      "metadata": {
        "id": "8DboYK5onhpw"
      },
      "execution_count": 4,
      "outputs": []
    },
    {
      "cell_type": "code",
      "source": [
        "from scipy.special import expit\n",
        "\n",
        "def tanh(a):\n",
        "  return expit(a)*2-1"
      ],
      "metadata": {
        "id": "-wuTx7bKs6QA"
      },
      "execution_count": 5,
      "outputs": []
    },
    {
      "cell_type": "code",
      "source": [
        "class BackPropagation():\n",
        "  def __init__(self, max_iter=1000, learning_rate=0.01, n_hidden=[2]):\n",
        "    self.max_iter = max_iter\n",
        "    self.learning_rate = learning_rate\n",
        "    self.n_hidden = n_hidden\n",
        "\n",
        "  def foward(self, X):\n",
        "    self.A = []\n",
        "    self.Z = []\n",
        "    AUX = X.copy()\n",
        "    for W in self.Ws:\n",
        "      self.A.append(include_bias(AUX))\n",
        "      self.Z.append(self.A[-1] @ W)\n",
        "      AUX = tanh(self.Z[-1])\n",
        "    return AUX\n",
        "\n",
        "  def backward(self, Xb, y, ypred):\n",
        "    grads = []\n",
        "    output_delta = y - ypred\n",
        "    grads.insert(0, self.A[-1].T @ output_delta)\n",
        "    for i in range(len(self.Ws)-1, 0, -1):\n",
        "      tanh_grad = (1 - np.square(tanh(self.Z[i-1])))\n",
        "      input_delta = (output_delta @ self.Ws[i][1:, :].T) * tanh_grad\n",
        "      grads.insert(0, self.A[i-1].T @ input_delta)\n",
        "      output_delta = input_delta.copy()\n",
        "    for i in range(len(self.Ws)-1, -1, -1):\n",
        "      self.Ws[i] += grads[i] * self.learning_rate\n",
        "\n",
        "  def getWs(self, X, y):\n",
        "    self.Ws = []\n",
        "    previous_output = X.shape[1]\n",
        "    for layer_size in self.n_hidden:\n",
        "      self.Ws.append(np.random.uniform(-1, 1, size=(previous_output+1, layer_size)))\n",
        "      previous_output = layer_size\n",
        "    if len(y.shape) == 1:\n",
        "      y = y.reshape(-1, 1)\n",
        "    self.Ws.append(np.random.uniform(-1, 1, size=(previous_output+1, y.shape[1])))\n",
        "    for _ in range(self.max_iter):\n",
        "      ypred = self.foward(X)\n",
        "      self.backward(X, y, ypred)\n",
        "    return self.Ws\n",
        "\n"
      ],
      "metadata": {
        "id": "Oc3SbFkd2Nsf"
      },
      "execution_count": 6,
      "outputs": []
    },
    {
      "cell_type": "code",
      "source": [
        "from sklearn.preprocessing import LabelBinarizer\n",
        "\n",
        "class MLP(BaseEstimator, ClassifierMixin):\n",
        "  def __init__(self, trainingAlgorithm=BackPropagation()):\n",
        "    self.trainingAlgorithm = trainingAlgorithm\n",
        "\n",
        "  def fit(self, X, y):\n",
        "    self.labelBinarizer = LabelBinarizer()\n",
        "    y = self.labelBinarizer.fit_transform(y)\n",
        "    y = y * 2 - 1\n",
        "    self.w = self.trainingAlgorithm.getWs(X, y)\n",
        "    return self\n",
        "\n",
        "  def predict(self, X):\n",
        "    ypred = self.trainingAlgorithm.foward(X)\n",
        "    if ypred.shape[1] == 1:\n",
        "      ypred = sign(ypred)\n",
        "    else:\n",
        "      tmp = np.zeros(ypred.shape)\n",
        "      idx = np.argmax(ypred, axis=1)\n",
        "      tmp[np.arange(ypred.shape[0]), idx] = 1\n",
        "      ypred = tmp\n",
        "    ypred = self.labelBinarizer.inverse_transform(ypred)\n",
        "    return ypred\n",
        "\n"
      ],
      "metadata": {
        "id": "kn8EAk_4uOLM"
      },
      "execution_count": 7,
      "outputs": []
    },
    {
      "cell_type": "code",
      "source": [
        "model = MLP(trainingAlgorithm=BackPropagation(max_iter=1000, learning_rate=0.0001, n_hidden=[128]))\n",
        "model.fit(X_train, y_train)\n",
        "ypred = model.predict(X_train)\n",
        "print(accuracy_score(y_train, ypred))\n"
      ],
      "metadata": {
        "colab": {
          "base_uri": "https://localhost:8080/"
        },
        "id": "-fH4Vcbz0N6S",
        "outputId": "432110b9-07da-42f7-dca6-6552f390bdf2"
      },
      "execution_count": 8,
      "outputs": [
        {
          "output_type": "stream",
          "name": "stdout",
          "text": [
            "0.9986082115518441\n"
          ]
        }
      ]
    },
    {
      "cell_type": "code",
      "source": [
        "ypred = model.predict(X_test)\n",
        "print(accuracy_score(y_test, ypred))\n"
      ],
      "metadata": {
        "colab": {
          "base_uri": "https://localhost:8080/"
        },
        "id": "oPPxnMatz9Fy",
        "outputId": "c5650733-c8ac-454f-afe8-2f75bce69337"
      },
      "execution_count": 9,
      "outputs": [
        {
          "output_type": "stream",
          "name": "stdout",
          "text": [
            "0.9722222222222222\n"
          ]
        }
      ]
    },
    {
      "cell_type": "code",
      "source": [
        "from sklearn.datasets import fetch_olivetti_faces\n",
        "X, y = fetch_olivetti_faces(return_X_y=True)\n",
        "\n",
        "X_train, X_test, y_train, y_test = train_test_split(X, y, test_size=0.2)"
      ],
      "metadata": {
        "id": "G_E4WnbH9xrE"
      },
      "execution_count": 10,
      "outputs": []
    },
    {
      "cell_type": "code",
      "source": [
        "model = MLP(trainingAlgorithm=BackPropagation(max_iter=1000, learning_rate=0.0001, n_hidden=[]))\n",
        "model.fit(X_train, y_train)\n",
        "ypred = model.predict(X_train)\n",
        "print(accuracy_score(y_train, ypred))"
      ],
      "metadata": {
        "colab": {
          "base_uri": "https://localhost:8080/"
        },
        "id": "YsZr0v3v-aB0",
        "outputId": "8dec90d5-088c-45f2-e68f-c49cb4915a2a"
      },
      "execution_count": 11,
      "outputs": [
        {
          "output_type": "stream",
          "name": "stdout",
          "text": [
            "0.990625\n"
          ]
        }
      ]
    },
    {
      "cell_type": "code",
      "source": [
        "ypred = model.predict(X_test)\n",
        "print(accuracy_score(y_test, ypred))"
      ],
      "metadata": {
        "colab": {
          "base_uri": "https://localhost:8080/"
        },
        "id": "OIsI7OBD-sL3",
        "outputId": "9c801d58-0e11-49ca-c124-26be8e14f4fa"
      },
      "execution_count": 12,
      "outputs": [
        {
          "output_type": "stream",
          "name": "stdout",
          "text": [
            "0.7125\n"
          ]
        }
      ]
    }
  ]
}