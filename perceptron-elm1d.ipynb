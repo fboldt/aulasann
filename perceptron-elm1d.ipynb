{
 "metadata": {
  "language_info": {
   "codemirror_mode": {
    "name": "ipython",
    "version": 3
   },
   "file_extension": ".py",
   "mimetype": "text/x-python",
   "name": "python",
   "nbconvert_exporter": "python",
   "pygments_lexer": "ipython3",
   "version": "3.8.10"
  },
  "orig_nbformat": 4,
  "kernelspec": {
   "name": "python3",
   "display_name": "Python 3.8.10 64-bit ('.venv': venv)"
  },
  "interpreter": {
   "hash": "75fd6e9282b53769d76d25d09087eeec68f8276876655256e0b87b9b71492f4a"
  }
 },
 "nbformat": 4,
 "nbformat_minor": 2,
 "cells": [
  {
   "cell_type": "code",
   "execution_count": 496,
   "source": [
    "import matplotlib.pyplot as plt\n",
    "import numpy as np\n",
    "from sklearn.datasets import make_blobs\n",
    "from sklearn.preprocessing import label_binarize\n",
    "\n",
    "def geradataset(tamanho=20):\n",
    "    X = np.random.uniform(size=(tamanho,1))\n",
    "    y = np.logical_and(X>0.2, X<0.8)[:,0]*1\n",
    "    return X, y\n",
    "\n",
    "def plotadataset(X, y):\n",
    "    plt.xlabel('X1')\n",
    "    plt.ylabel('X2')\n",
    "    for k in set(y):\n",
    "        plt.plot(X[:,0][y==k],X[:,1][y==k], \"o\", alpha=0.3)\n",
    "\n",
    "def plotahiperplano(vetor, bias=0, xmin=0, xmax=1):\n",
    "    xs = np.linspace(xmin, xmax, num=2)\n",
    "    ys = (-vetor[0] / vetor[1]) * xs - bias / vetor[1]\n",
    "    plt.plot(xs,ys)\n",
    "\n",
    "X, y = geradataset()\n",
    "X2D = np.concatenate((X,np.zeros(X.shape)),axis=1)\n",
    "plotadataset(X2D, y)\n",
    "plt.show()\n",
    "y"
   ],
   "outputs": [
    {
     "output_type": "display_data",
     "data": {
      "text/plain": [
       "<Figure size 432x288 with 1 Axes>"
      ],
      "image/png": "[encoded data removed]"
     },
     "metadata": {
      "needs_background": "light"
     }
    },
    {
     "output_type": "execute_result",
     "data": {
      "text/plain": [
       "array([1, 1, 0, 1, 1, 0, 1, 1, 0, 0, 1, 1, 0, 1, 1, 0, 1, 1, 0, 0])"
      ]
     },
     "metadata": {},
     "execution_count": 496
    }
   ],
   "metadata": {}
  },
  {
   "cell_type": "markdown",
   "source": [
    "# Funções de Custo"
   ],
   "metadata": {}
  },
  {
   "cell_type": "markdown",
   "source": [
    "# Algoritmos"
   ],
   "metadata": {}
  },
  {
   "cell_type": "code",
   "execution_count": 497,
   "source": [
    "class PseudoInversa():\n",
    "    def __init__(self):\n",
    "        pass\n",
    "    def getW(self, X, y):\n",
    "        pinv = np.linalg.pinv(X)\n",
    "        w = np.matmul(pinv,y)\n",
    "        return w\n"
   ],
   "outputs": [],
   "metadata": {}
  },
  {
   "cell_type": "markdown",
   "source": [
    "# Funções de Ativação"
   ],
   "metadata": {}
  },
  {
   "cell_type": "code",
   "execution_count": 498,
   "source": [
    "from scipy.special import expit\n",
    "\n",
    "def sign(a):\n",
    "    return (a >= 0) * 2 - 1\n",
    "\n",
    "def tanh(a):\n",
    "    return expit(a) * 2 - 1"
   ],
   "outputs": [],
   "metadata": {}
  },
  {
   "cell_type": "code",
   "execution_count": 499,
   "source": [
    "from sklearn.base import BaseEstimator, ClassifierMixin\n",
    "\n",
    "class ExtremeLearningMachine(BaseEstimator, ClassifierMixin):\n",
    "    def __init__(self, algoritmo=PseudoInversa(), activation=tanh):\n",
    "        self.wih = None\n",
    "        self.w = None\n",
    "        self.threshold = 0\n",
    "        self.activation = activation\n",
    "        self.algoritmo = algoritmo\n",
    "    \n",
    "    @staticmethod\n",
    "    def includebias(X):\n",
    "        bias = np.ones((X.shape[0],1))\n",
    "        Xb = np.concatenate((bias,X), axis=1)\n",
    "        return Xb\n",
    "\n",
    "    def fit(self, X, y):\n",
    "        self.wih = np.random.uniform(size=(X.shape[1],X.shape[1]+1))\n",
    "        Xh = np.matmul(X,self.wih)\n",
    "        Xho = self.activation(Xh)\n",
    "        Xb = ExtremeLearningMachine.includebias(Xho)\n",
    "        self.labels = list(set(y))\n",
    "        y = label_binarize(y, classes=self.labels)*2-1\n",
    "        if len(self.labels) == 2 :\n",
    "            y = y[:,0:1]\n",
    "        if hasattr(self.algoritmo, 'custo') and (not hasattr(self.algoritmo.custo, 'preactivated') or not self.algoritmo.custo.preactivated):\n",
    "            self.w = self.algoritmo.getW(Xb, y, self.activation)\n",
    "        else:\n",
    "            self.w = self.algoritmo.getW(Xb, y)\n",
    "\n",
    "    def predict(self, X):\n",
    "        Xh = np.matmul(X,self.wih)\n",
    "        Xho = self.activation(Xh)\n",
    "        Xb = ExtremeLearningMachine.includebias(Xho)\n",
    "        a = np.matmul(Xb, self.w)\n",
    "        if self.w.shape[1] > 1:\n",
    "            idx = np.argmax(a, axis=1) \n",
    "        else:\n",
    "            idx = np.array(self.activation(a) > self.threshold, dtype=int)[:,0]\n",
    "        ypred = np.array([self.labels[i] for i in idx])\n",
    "        return ypred\n"
   ],
   "outputs": [],
   "metadata": {}
  },
  {
   "cell_type": "code",
   "execution_count": 500,
   "source": [
    "elm = ExtremeLearningMachine()\n",
    "elm.fit(X, y)\n",
    "ypred = elm.predict(X)\n",
    "print(sum(y == ypred)/len(y))\n",
    "print(elm.w[1:], elm.w[0])\n",
    "\n",
    "Xnew = elm.activation(np.matmul(X,elm.wih))\n",
    "print(Xnew.shape)\n",
    "\n",
    "plotadataset(Xnew, y)\n",
    "if len(set(y)) > 2:\n",
    "    for i in range(len(set(y))):\n",
    "        plotahiperplano(elm.w[1:,i], elm.w[0,i], min(Xnew[:,0]), max(Xnew[:,0]))\n",
    "else:\n",
    "    plotahiperplano(elm.w[1:],elm.w[0])"
   ],
   "outputs": [
    {
     "output_type": "stream",
     "name": "stdout",
     "text": [
      "0.95\n",
      "[[ 1819.9879301 ]\n",
      " [-7678.65252063]] [-1.25382181]\n",
      "(20, 2)\n"
     ]
    },
    {
     "output_type": "display_data",
     "data": {
      "text/plain": [
       "<Figure size 432x288 with 1 Axes>"
      ],
      "image/png": "[encoded data removed]"
     },
     "metadata": {
      "needs_background": "light"
     }
    }
   ],
   "metadata": {}
  }
 ]
}