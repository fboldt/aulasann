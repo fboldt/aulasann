{
  "nbformat": 4,
  "nbformat_minor": 0,
  "metadata": {
    "colab": {
      "provenance": [],
      "gpuType": "T4",
      "include_colab_link": true
    },
    "kernelspec": {
      "name": "python3",
      "display_name": "Python 3"
    },
    "language_info": {
      "name": "python"
    },
    "accelerator": "GPU"
  },
  "cells": [
    {
      "cell_type": "markdown",
      "metadata": {
        "id": "view-in-github",
        "colab_type": "text"
      },
      "source": [
        "<a href=\"https://colab.research.google.com/github/fboldt/aulasann/blob/main/plan_mnist_flat.ipynb\" target=\"_parent\"><img src=\"https://colab.research.google.com/assets/colab-badge.svg\" alt=\"Open In Colab\"/></a>"
      ]
    },
    {
      "cell_type": "code",
      "execution_count": 1,
      "metadata": {
        "colab": {
          "base_uri": "https://localhost:8080/"
        },
        "id": "nz1NsV8GwoBs",
        "outputId": "72b98256-b7ea-4d56-ca4a-f81a1c556e93"
      },
      "outputs": [
        {
          "output_type": "stream",
          "name": "stdout",
          "text": [
            "(60000, 28, 28)\n",
            "(60000,)\n",
            "(10000, 28, 28)\n",
            "(10000,)\n"
          ]
        }
      ],
      "source": [
        "from tensorflow.keras.datasets import mnist\n",
        "(train_images, train_labels), (test_images, test_labels) = mnist.load_data()\n",
        "print(train_images.shape)\n",
        "print(train_labels.shape)\n",
        "print(test_images.shape)\n",
        "print(test_labels.shape)"
      ]
    },
    {
      "cell_type": "code",
      "source": [
        "import matplotlib.pyplot as plt\n",
        "%matplotlib inline\n",
        "\n",
        "plt.imshow(train_images[0], cmap='gray')\n",
        "plt.show()\n",
        "train_labels[0]"
      ],
      "metadata": {
        "colab": {
          "base_uri": "https://localhost:8080/",
          "height": 447
        },
        "id": "3BvfBMaL1Frq",
        "outputId": "1d158ce4-7f19-49b6-a1fb-4aca9dff747b"
      },
      "execution_count": 2,
      "outputs": [
        {
          "output_type": "display_data",
          "data": {
            "text/plain": [
              "<Figure size 640x480 with 1 Axes>"
            ],
            "image/png": "[encoded data removed]"
          },
          "metadata": {}
        },
        {
          "output_type": "execute_result",
          "data": {
            "text/plain": [
              "np.uint8(5)"
            ]
          },
          "metadata": {},
          "execution_count": 2
        }
      ]
    },
    {
      "cell_type": "code",
      "source": [
        "train_flat_images = train_images.reshape((60000, 28*28))\n",
        "test_flat_images = test_images.reshape((10000, 28*28))\n",
        "train_flat_images.shape"
      ],
      "metadata": {
        "id": "6wp0OsTt25Px",
        "colab": {
          "base_uri": "https://localhost:8080/"
        },
        "outputId": "0c1085cf-3a3a-4acf-af34-bc22ad4d56f2"
      },
      "execution_count": 3,
      "outputs": [
        {
          "output_type": "execute_result",
          "data": {
            "text/plain": [
              "(60000, 784)"
            ]
          },
          "metadata": {},
          "execution_count": 3
        }
      ]
    },
    {
      "cell_type": "markdown",
      "source": [
        "# Keras"
      ],
      "metadata": {
        "id": "kpoi3HGiEsry"
      }
    },
    {
      "cell_type": "code",
      "source": [
        "from tensorflow import keras\n",
        "from tensorflow.keras import layers\n",
        "\n",
        "model = keras.Sequential([\n",
        "    layers.Dense(512, activation=\"relu\"),\n",
        "    layers.Dense(10, activation=\"softmax\")\n",
        "])\n",
        "\n",
        "model.compile(optimizer=\"rmsprop\",\n",
        "              loss=\"sparse_categorical_crossentropy\",\n",
        "              metrics=[\"accuracy\"])\n",
        "\n",
        "history = model.fit(train_flat_images, train_labels, epochs=5, batch_size=128)\n",
        "\n",
        "test_loss, test_acc = model.evaluate(test_flat_images, test_labels)\n",
        "print(f\"test_loss:\\t\\t {test_loss:.4f}\")\n",
        "print(f\"test_acc:\\t\\t {test_acc:.4f}\")"
      ],
      "metadata": {
        "id": "axwp6I951mN8",
        "colab": {
          "base_uri": "https://localhost:8080/"
        },
        "outputId": "8f3ac3d3-9a51-44ff-88bf-14907505c7e1"
      },
      "execution_count": 4,
      "outputs": [
        {
          "output_type": "stream",
          "name": "stdout",
          "text": [
            "Epoch 1/5\n",
            "\u001b[1m469/469\u001b[0m \u001b[32m━━━━━━━━━━━━━━━━━━━━\u001b[0m\u001b[37m\u001b[0m \u001b[1m7s\u001b[0m 9ms/step - accuracy: 0.8310 - loss: 17.4345\n",
            "Epoch 2/5\n",
            "\u001b[1m469/469\u001b[0m \u001b[32m━━━━━━━━━━━━━━━━━━━━\u001b[0m\u001b[37m\u001b[0m \u001b[1m3s\u001b[0m 6ms/step - accuracy: 0.9527 - loss: 0.7921\n",
            "Epoch 3/5\n",
            "\u001b[1m469/469\u001b[0m \u001b[32m━━━━━━━━━━━━━━━━━━━━\u001b[0m\u001b[37m\u001b[0m \u001b[1m4s\u001b[0m 2ms/step - accuracy: 0.9663 - loss: 0.4643\n",
            "Epoch 4/5\n",
            "\u001b[1m469/469\u001b[0m \u001b[32m━━━━━━━━━━━━━━━━━━━━\u001b[0m\u001b[37m\u001b[0m \u001b[1m1s\u001b[0m 2ms/step - accuracy: 0.9719 - loss: 0.3735\n",
            "Epoch 5/5\n",
            "\u001b[1m469/469\u001b[0m \u001b[32m━━━━━━━━━━━━━━━━━━━━\u001b[0m\u001b[37m\u001b[0m \u001b[1m1s\u001b[0m 2ms/step - accuracy: 0.9761 - loss: 0.3081\n",
            "\u001b[1m313/313\u001b[0m \u001b[32m━━━━━━━━━━━━━━━━━━━━\u001b[0m\u001b[37m\u001b[0m \u001b[1m1s\u001b[0m 3ms/step - accuracy: 0.9613 - loss: 0.7774\n",
            "test_loss:\t\t 0.6776\n",
            "test_acc:\t\t 0.9653\n"
          ]
        }
      ]
    },
    {
      "cell_type": "markdown",
      "source": [
        "# PyTorch"
      ],
      "metadata": {
        "id": "6rJoGR6VF2xp"
      }
    },
    {
      "cell_type": "code",
      "source": [
        "import torch\n",
        "device = torch.device(\"cuda\" if torch.cuda.is_available() else \"cpu\")\n",
        "print(device)"
      ],
      "metadata": {
        "colab": {
          "base_uri": "https://localhost:8080/"
        },
        "id": "ZScltp-tQVXf",
        "outputId": "d14f949b-e8cf-4cd8-fb21-d9692ea2d39c"
      },
      "execution_count": 5,
      "outputs": [
        {
          "output_type": "stream",
          "name": "stdout",
          "text": [
            "cuda\n"
          ]
        }
      ]
    },
    {
      "cell_type": "code",
      "source": [
        "import torch.nn as nn\n",
        "import torch.optim as optim\n",
        "import torch.nn.functional as F\n",
        "from torch.utils.data import DataLoader, TensorDataset\n",
        "\n",
        "# Converter para tensores do PyTorch\n",
        "train_flat_images_tensor = torch.tensor(train_flat_images, dtype=torch.float32)\n",
        "train_labels_tensor = torch.tensor(train_labels, dtype=torch.long)\n",
        "\n",
        "# Criar dataset e DataLoader\n",
        "train_dataset = TensorDataset(train_flat_images_tensor, train_labels_tensor)\n",
        "train_loader = DataLoader(train_dataset, batch_size=128, shuffle=True)\n",
        "\n",
        "# Definição do modelo\n",
        "class BasicTorchNN(nn.Module):\n",
        "    def __init__(self, num_classes):\n",
        "        super(BasicTorchNN, self).__init__()\n",
        "        self.fc1 = nn.Linear(784, 512)  # Supondo imagens de 28x28 (flattened para 784)\n",
        "        self.fc2 = nn.Linear(512, num_classes)\n",
        "\n",
        "    def forward(self, x):\n",
        "        x = F.relu(self.fc1(x))\n",
        "        x = F.softmax(self.fc2(x), dim=1)\n",
        "        return x\n",
        "\n",
        "# Inicialização do modelo\n",
        "model = BasicTorchNN(len(set(train_labels)))\n",
        "model.to(device)\n",
        "\n",
        "# Definição do otimizador e da função de perda\n",
        "optimizer = optim.RMSprop(model.parameters(), lr=0.0001)\n",
        "criterion = nn.CrossEntropyLoss()\n",
        "\n",
        "# Loop de treinamento\n",
        "epochs = 20\n",
        "batch_size = 128\n",
        "\n",
        "for epoch in range(epochs):\n",
        "    for batch in train_loader:\n",
        "        images, labels = batch\n",
        "        images = images.to(device)\n",
        "        labels = labels.to(device)\n",
        "\n",
        "        optimizer.zero_grad()\n",
        "        output = model(images)\n",
        "        loss = criterion(output, labels)\n",
        "        loss.backward()\n",
        "        optimizer.step()\n",
        "\n",
        "    print(f\"Epoch {epoch+1}/{epochs}, Loss: {loss.item():.4f}\")\n",
        "\n",
        "# Avaliação do modelo\n",
        "correct = 0\n",
        "total = 0\n",
        "criterion = torch.nn.CrossEntropyLoss()\n",
        "test_flat_images_tensor = torch.tensor(test_flat_images, dtype=torch.float32).to(device)\n",
        "test_labels_tensor = torch.tensor(test_labels, dtype=torch.long).to(device)\n",
        "\n",
        "with torch.no_grad():\n",
        "    outputs = model(test_flat_images_tensor)\n",
        "    loss = criterion(outputs, test_labels_tensor)\n",
        "    correct = (outputs.argmax(dim=1) == test_labels_tensor).sum().item()\n",
        "    total = test_labels_tensor.size(0)\n",
        "    test_acc = correct / total\n",
        "\n",
        "print(f\"test_loss: {loss.item():.4f}\")\n",
        "print(f\"test_acc: {test_acc:.4f}\")"
      ],
      "metadata": {
        "colab": {
          "base_uri": "https://localhost:8080/"
        },
        "id": "GhX-EG9uF1N8",
        "outputId": "01cf6792-aa24-481f-b10a-d9187a9205a9"
      },
      "execution_count": 6,
      "outputs": [
        {
          "output_type": "stream",
          "name": "stdout",
          "text": [
            "Epoch 1/20, Loss: 1.9521\n",
            "Epoch 2/20, Loss: 1.7942\n",
            "Epoch 3/20, Loss: 1.7627\n",
            "Epoch 4/20, Loss: 1.7527\n",
            "Epoch 5/20, Loss: 1.7000\n",
            "Epoch 6/20, Loss: 1.7357\n",
            "Epoch 7/20, Loss: 1.6044\n",
            "Epoch 8/20, Loss: 1.6408\n",
            "Epoch 9/20, Loss: 1.6048\n",
            "Epoch 10/20, Loss: 1.6067\n",
            "Epoch 11/20, Loss: 1.5750\n",
            "Epoch 12/20, Loss: 1.5340\n",
            "Epoch 13/20, Loss: 1.4929\n",
            "Epoch 14/20, Loss: 1.4765\n",
            "Epoch 15/20, Loss: 1.4922\n",
            "Epoch 16/20, Loss: 1.4818\n",
            "Epoch 17/20, Loss: 1.4612\n",
            "Epoch 18/20, Loss: 1.4716\n",
            "Epoch 19/20, Loss: 1.4805\n",
            "Epoch 20/20, Loss: 1.4699\n",
            "test_loss: 1.4896\n",
            "test_acc: 0.9714\n"
          ]
        }
      ]
    },
    {
      "cell_type": "markdown",
      "source": [
        "# Keras Wrapped"
      ],
      "metadata": {
        "id": "1-uN905kH3A8"
      }
    },
    {
      "cell_type": "code",
      "source": [
        "from sklearn.base import BaseEstimator, ClassifierMixin\n",
        "from sklearn.metrics import accuracy_score\n",
        "import numpy as np\n",
        "\n",
        "def BasicKerasNN(num_classes):\n",
        "  return keras.Sequential([\n",
        "      layers.Dense(512, activation=\"relu\"),\n",
        "      layers.Dense(num_classes, activation=\"softmax\")\n",
        "  ])\n",
        "\n",
        "class KerasWrappedNN(BaseEstimator, ClassifierMixin):\n",
        "  def __init__(self, epochs=5, batch_size=128):\n",
        "    self.epochs = epochs\n",
        "    self.batch_size = batch_size\n",
        "\n",
        "  def fit(self, X, y):\n",
        "    self.labels, ids = np.unique(y, return_inverse=True)\n",
        "    yhot = keras.utils.to_categorical(ids)\n",
        "    self.model = BasicKerasNN(len(self.labels))\n",
        "    self.model.compile(optimizer=\"rmsprop\",\n",
        "                       loss=\"categorical_crossentropy\",\n",
        "                       metrics=[\"accuracy\"])\n",
        "    self.model.fit(X, yhot, epochs=self.epochs, batch_size=self.batch_size)\n",
        "    return self\n",
        "\n",
        "  def predict(self, X, y=None):\n",
        "    probabilities = self.model.predict(X)\n",
        "    ypred = self.labels[np.argmax(probabilities, axis=1)]\n",
        "    return ypred\n",
        "\n",
        "modelo = KerasWrappedNN()\n",
        "modelo.fit(train_flat_images, train_labels)\n",
        "ypred = modelo.predict(test_flat_images)\n",
        "accuracy_score(test_labels, ypred)"
      ],
      "metadata": {
        "colab": {
          "base_uri": "https://localhost:8080/"
        },
        "id": "K33l4yED9Rzt",
        "outputId": "345fde51-6d97-4de7-c4d0-1e5308e01a2e"
      },
      "execution_count": 7,
      "outputs": [
        {
          "output_type": "stream",
          "name": "stdout",
          "text": [
            "Epoch 1/5\n",
            "\u001b[1m469/469\u001b[0m \u001b[32m━━━━━━━━━━━━━━━━━━━━\u001b[0m\u001b[37m\u001b[0m \u001b[1m2s\u001b[0m 3ms/step - accuracy: 0.8341 - loss: 17.8728\n",
            "Epoch 2/5\n",
            "\u001b[1m469/469\u001b[0m \u001b[32m━━━━━━━━━━━━━━━━━━━━\u001b[0m\u001b[37m\u001b[0m \u001b[1m2s\u001b[0m 2ms/step - accuracy: 0.9511 - loss: 0.7123\n",
            "Epoch 3/5\n",
            "\u001b[1m469/469\u001b[0m \u001b[32m━━━━━━━━━━━━━━━━━━━━\u001b[0m\u001b[37m\u001b[0m \u001b[1m1s\u001b[0m 2ms/step - accuracy: 0.9648 - loss: 0.4423\n",
            "Epoch 4/5\n",
            "\u001b[1m469/469\u001b[0m \u001b[32m━━━━━━━━━━━━━━━━━━━━\u001b[0m\u001b[37m\u001b[0m \u001b[1m1s\u001b[0m 2ms/step - accuracy: 0.9725 - loss: 0.3040\n",
            "Epoch 5/5\n",
            "\u001b[1m469/469\u001b[0m \u001b[32m━━━━━━━━━━━━━━━━━━━━\u001b[0m\u001b[37m\u001b[0m \u001b[1m2s\u001b[0m 4ms/step - accuracy: 0.9760 - loss: 0.2881\n",
            "\u001b[1m313/313\u001b[0m \u001b[32m━━━━━━━━━━━━━━━━━━━━\u001b[0m\u001b[37m\u001b[0m \u001b[1m2s\u001b[0m 4ms/step\n"
          ]
        },
        {
          "output_type": "execute_result",
          "data": {
            "text/plain": [
              "0.9681"
            ]
          },
          "metadata": {},
          "execution_count": 7
        }
      ]
    },
    {
      "cell_type": "markdown",
      "source": [
        "# PyTorch Wrapped"
      ],
      "metadata": {
        "id": "_RTINRO8IOMT"
      }
    },
    {
      "cell_type": "code",
      "source": [
        "# Wrapper similar ao Scikit-Learn\n",
        "class TorchWrappedNN:\n",
        "    def __init__(self, epochs=20, batch_size=128):\n",
        "        self.epochs = epochs\n",
        "        self.batch_size = batch_size\n",
        "        self.model = None\n",
        "        self.labels = None\n",
        "        self.optimizer = None\n",
        "        self.verbose = 1\n",
        "        self.criterion = nn.CrossEntropyLoss()\n",
        "\n",
        "    def fit(self, X, y):\n",
        "        X = torch.from_numpy(X).float()\n",
        "        self.labels, ids = np.unique(y, return_inverse=True)\n",
        "        y_tensor = torch.tensor(ids, dtype=torch.long)  # Sem one-hot encoding\n",
        "\n",
        "        num_classes = len(self.labels)\n",
        "        self.model = BasicTorchNN(num_classes)\n",
        "        self.model.to(device)\n",
        "        self.optimizer = optim.RMSprop(self.model.parameters(), lr=0.0001)\n",
        "\n",
        "        dataset = torch.utils.data.TensorDataset(X, y_tensor)\n",
        "        dataloader = torch.utils.data.DataLoader(dataset, batch_size=self.batch_size, shuffle=True)\n",
        "\n",
        "        for epoch in range(self.epochs):\n",
        "            for images, labels in dataloader:\n",
        "                images = images.to(device)\n",
        "                labels = labels.to(device)\n",
        "                images = images.view(images.size(0), -1)\n",
        "\n",
        "                self.optimizer.zero_grad()\n",
        "                output = self.model(images)\n",
        "                loss = self.criterion(output, labels)\n",
        "                loss.backward()\n",
        "                self.optimizer.step()\n",
        "\n",
        "            if self.verbose > 0:\n",
        "                print(f\"Epoch {epoch+1}/{self.epochs}, Loss: {loss.item():.4f}\")\n",
        "\n",
        "    def predict(self, X):\n",
        "        with torch.no_grad():\n",
        "            X_tensor = torch.from_numpy(X).float().to(device)\n",
        "            output = self.model(X_tensor).cpu().numpy()\n",
        "            ypred = self.labels[output.argmax(axis=1)]\n",
        "            return ypred\n",
        "\n",
        "# Treinamento e avaliação\n",
        "modelo = TorchWrappedNN()\n",
        "modelo.fit(train_flat_images, train_labels)\n",
        "ypred = modelo.predict(test_flat_images)\n",
        "\n",
        "# Calcular acurácia\n",
        "accuracy = accuracy_score(test_labels, ypred)\n",
        "print(f\"Acurácia do modelo: {accuracy:.4f}\")\n"
      ],
      "metadata": {
        "colab": {
          "base_uri": "https://localhost:8080/"
        },
        "id": "YJVdBTEZM5DP",
        "outputId": "cef4a965-f50f-4737-9818-456cff5bf7c1"
      },
      "execution_count": 8,
      "outputs": [
        {
          "output_type": "stream",
          "name": "stdout",
          "text": [
            "Epoch 1/20, Loss: 2.2320\n",
            "Epoch 2/20, Loss: 2.0858\n",
            "Epoch 3/20, Loss: 2.0946\n",
            "Epoch 4/20, Loss: 1.8354\n",
            "Epoch 5/20, Loss: 1.8258\n",
            "Epoch 6/20, Loss: 1.7722\n",
            "Epoch 7/20, Loss: 1.8975\n",
            "Epoch 8/20, Loss: 1.7933\n",
            "Epoch 9/20, Loss: 1.8237\n",
            "Epoch 10/20, Loss: 1.7723\n",
            "Epoch 11/20, Loss: 1.7519\n",
            "Epoch 12/20, Loss: 1.8664\n",
            "Epoch 13/20, Loss: 1.7413\n",
            "Epoch 14/20, Loss: 1.6997\n",
            "Epoch 15/20, Loss: 1.7075\n",
            "Epoch 16/20, Loss: 1.6807\n",
            "Epoch 17/20, Loss: 1.7104\n",
            "Epoch 18/20, Loss: 1.7607\n",
            "Epoch 19/20, Loss: 1.7323\n",
            "Epoch 20/20, Loss: 1.6370\n",
            "Acurácia do modelo: 0.7626\n"
          ]
        }
      ]
    },
    {
      "cell_type": "markdown",
      "source": [
        "# Keras Pipeline"
      ],
      "metadata": {
        "id": "kbmdL3XB6vZx"
      }
    },
    {
      "cell_type": "code",
      "source": [
        "from sklearn.pipeline import Pipeline\n",
        "from sklearn.preprocessing import MinMaxScaler\n",
        "\n",
        "keraspipe = Pipeline([\n",
        "    (\"scaler\", MinMaxScaler()),\n",
        "    (\"ann\", KerasWrappedNN())\n",
        "])\n",
        "\n",
        "keraspipe.fit(train_flat_images, train_labels)\n",
        "ypred = keraspipe.predict(test_flat_images)\n",
        "accuracy_score(test_labels, ypred)"
      ],
      "metadata": {
        "colab": {
          "base_uri": "https://localhost:8080/"
        },
        "id": "Sa9poZAM-adt",
        "outputId": "99449136-1cf4-4110-a58b-10e90702f8f8"
      },
      "execution_count": 9,
      "outputs": [
        {
          "output_type": "stream",
          "name": "stdout",
          "text": [
            "Epoch 1/5\n",
            "\u001b[1m469/469\u001b[0m \u001b[32m━━━━━━━━━━━━━━━━━━━━\u001b[0m\u001b[37m\u001b[0m \u001b[1m3s\u001b[0m 3ms/step - accuracy: 0.8730 - loss: 0.4398\n",
            "Epoch 2/5\n",
            "\u001b[1m469/469\u001b[0m \u001b[32m━━━━━━━━━━━━━━━━━━━━\u001b[0m\u001b[37m\u001b[0m \u001b[1m1s\u001b[0m 2ms/step - accuracy: 0.9668 - loss: 0.1166\n",
            "Epoch 3/5\n",
            "\u001b[1m469/469\u001b[0m \u001b[32m━━━━━━━━━━━━━━━━━━━━\u001b[0m\u001b[37m\u001b[0m \u001b[1m1s\u001b[0m 2ms/step - accuracy: 0.9788 - loss: 0.0718\n",
            "Epoch 4/5\n",
            "\u001b[1m469/469\u001b[0m \u001b[32m━━━━━━━━━━━━━━━━━━━━\u001b[0m\u001b[37m\u001b[0m \u001b[1m1s\u001b[0m 2ms/step - accuracy: 0.9853 - loss: 0.0515\n",
            "Epoch 5/5\n",
            "\u001b[1m469/469\u001b[0m \u001b[32m━━━━━━━━━━━━━━━━━━━━\u001b[0m\u001b[37m\u001b[0m \u001b[1m1s\u001b[0m 2ms/step - accuracy: 0.9892 - loss: 0.0388\n",
            "\u001b[1m313/313\u001b[0m \u001b[32m━━━━━━━━━━━━━━━━━━━━\u001b[0m\u001b[37m\u001b[0m \u001b[1m1s\u001b[0m 2ms/step\n"
          ]
        },
        {
          "output_type": "stream",
          "name": "stderr",
          "text": [
            "/usr/local/lib/python3.11/dist-packages/sklearn/pipeline.py:62: FutureWarning: This Pipeline instance is not fitted yet. Call 'fit' with appropriate arguments before using other methods such as transform, predict, etc. This will raise an error in 1.8 instead of the current warning.\n",
            "  warnings.warn(\n"
          ]
        },
        {
          "output_type": "execute_result",
          "data": {
            "text/plain": [
              "0.9786"
            ]
          },
          "metadata": {},
          "execution_count": 9
        }
      ]
    },
    {
      "cell_type": "code",
      "source": [
        "torchpipe = Pipeline([\n",
        "    (\"scaler\", MinMaxScaler()),\n",
        "    (\"ann\", TorchWrappedNN())\n",
        "])\n",
        "\n",
        "torchpipe.fit(train_flat_images, train_labels)\n",
        "ypred = torchpipe.predict(test_flat_images)\n",
        "accuracy_score(test_labels, ypred)"
      ],
      "metadata": {
        "colab": {
          "base_uri": "https://localhost:8080/"
        },
        "id": "R1TPxPE4w1Yz",
        "outputId": "2d9f8d8e-7f4a-4398-b866-95d1fab36c05"
      },
      "execution_count": 10,
      "outputs": [
        {
          "output_type": "stream",
          "name": "stdout",
          "text": [
            "Epoch 1/20, Loss: 1.6190\n",
            "Epoch 2/20, Loss: 1.5682\n",
            "Epoch 3/20, Loss: 1.5591\n",
            "Epoch 4/20, Loss: 1.5445\n",
            "Epoch 5/20, Loss: 1.5304\n",
            "Epoch 6/20, Loss: 1.5384\n",
            "Epoch 7/20, Loss: 1.5227\n",
            "Epoch 8/20, Loss: 1.5044\n",
            "Epoch 9/20, Loss: 1.5307\n",
            "Epoch 10/20, Loss: 1.4992\n",
            "Epoch 11/20, Loss: 1.4807\n",
            "Epoch 12/20, Loss: 1.5245\n",
            "Epoch 13/20, Loss: 1.5145\n",
            "Epoch 14/20, Loss: 1.5193\n",
            "Epoch 15/20, Loss: 1.4792\n",
            "Epoch 16/20, Loss: 1.5169\n",
            "Epoch 17/20, Loss: 1.5048\n",
            "Epoch 18/20, Loss: 1.4934\n",
            "Epoch 19/20, Loss: 1.4745\n",
            "Epoch 20/20, Loss: 1.5178\n"
          ]
        },
        {
          "output_type": "stream",
          "name": "stderr",
          "text": [
            "/usr/local/lib/python3.11/dist-packages/sklearn/pipeline.py:62: FutureWarning: This Pipeline instance is not fitted yet. Call 'fit' with appropriate arguments before using other methods such as transform, predict, etc. This will raise an error in 1.8 instead of the current warning.\n",
            "  warnings.warn(\n"
          ]
        },
        {
          "output_type": "execute_result",
          "data": {
            "text/plain": [
              "0.9605"
            ]
          },
          "metadata": {},
          "execution_count": 10
        }
      ]
    },
    {
      "cell_type": "code",
      "source": [
        "from sklearn.base import BaseEstimator, TransformerMixin\n",
        "\n",
        "class DividePor255(BaseEstimator, TransformerMixin):\n",
        "  def fit(self, X, y):\n",
        "    return self\n",
        "  def transform(self, X, y=None):\n",
        "    return X.astype(\"float32\") / 255\n",
        "\n",
        "modelo = Pipeline([\n",
        "    (\"scaler\", DividePor255()),\n",
        "    (\"ann\", KerasWrappedNN())\n",
        "])\n",
        "\n",
        "modelo.fit(train_flat_images, train_labels)\n",
        "ypred = modelo.predict(test_flat_images)\n",
        "accuracy_score(test_labels, ypred)"
      ],
      "metadata": {
        "colab": {
          "base_uri": "https://localhost:8080/"
        },
        "id": "QQs8DcyH_pcM",
        "outputId": "95356269-ba39-4b9a-c2e5-5253b757bc4a"
      },
      "execution_count": 11,
      "outputs": [
        {
          "output_type": "stream",
          "name": "stdout",
          "text": [
            "Epoch 1/5\n",
            "\u001b[1m469/469\u001b[0m \u001b[32m━━━━━━━━━━━━━━━━━━━━\u001b[0m\u001b[37m\u001b[0m \u001b[1m3s\u001b[0m 3ms/step - accuracy: 0.8705 - loss: 0.4443\n",
            "Epoch 2/5\n",
            "\u001b[1m469/469\u001b[0m \u001b[32m━━━━━━━━━━━━━━━━━━━━\u001b[0m\u001b[37m\u001b[0m \u001b[1m2s\u001b[0m 2ms/step - accuracy: 0.9662 - loss: 0.1140\n",
            "Epoch 3/5\n",
            "\u001b[1m469/469\u001b[0m \u001b[32m━━━━━━━━━━━━━━━━━━━━\u001b[0m\u001b[37m\u001b[0m \u001b[1m1s\u001b[0m 2ms/step - accuracy: 0.9780 - loss: 0.0755\n",
            "Epoch 4/5\n",
            "\u001b[1m469/469\u001b[0m \u001b[32m━━━━━━━━━━━━━━━━━━━━\u001b[0m\u001b[37m\u001b[0m \u001b[1m1s\u001b[0m 2ms/step - accuracy: 0.9852 - loss: 0.0501\n",
            "Epoch 5/5\n",
            "\u001b[1m469/469\u001b[0m \u001b[32m━━━━━━━━━━━━━━━━━━━━\u001b[0m\u001b[37m\u001b[0m \u001b[1m1s\u001b[0m 2ms/step - accuracy: 0.9896 - loss: 0.0368\n",
            "\u001b[1m313/313\u001b[0m \u001b[32m━━━━━━━━━━━━━━━━━━━━\u001b[0m\u001b[37m\u001b[0m \u001b[1m1s\u001b[0m 2ms/step\n"
          ]
        },
        {
          "output_type": "stream",
          "name": "stderr",
          "text": [
            "/usr/local/lib/python3.11/dist-packages/sklearn/pipeline.py:62: FutureWarning: This Pipeline instance is not fitted yet. Call 'fit' with appropriate arguments before using other methods such as transform, predict, etc. This will raise an error in 1.8 instead of the current warning.\n",
            "  warnings.warn(\n"
          ]
        },
        {
          "output_type": "execute_result",
          "data": {
            "text/plain": [
              "0.9799"
            ]
          },
          "metadata": {},
          "execution_count": 11
        }
      ]
    },
    {
      "cell_type": "code",
      "source": [
        "modelo = Pipeline([\n",
        "    (\"scaler\", DividePor255()),\n",
        "    (\"ann\", TorchWrappedNN())\n",
        "])\n",
        "\n",
        "modelo.fit(train_flat_images, train_labels)\n",
        "ypred = modelo.predict(test_flat_images)\n",
        "accuracy_score(test_labels, ypred)"
      ],
      "metadata": {
        "colab": {
          "base_uri": "https://localhost:8080/"
        },
        "id": "mdUkEbTu_7dd",
        "outputId": "be0876ce-b5b9-4f97-e3d3-c76cc0f4c940"
      },
      "execution_count": 12,
      "outputs": [
        {
          "output_type": "stream",
          "name": "stdout",
          "text": [
            "Epoch 1/20, Loss: 1.5948\n",
            "Epoch 2/20, Loss: 1.5991\n",
            "Epoch 3/20, Loss: 1.5432\n",
            "Epoch 4/20, Loss: 1.5803\n",
            "Epoch 5/20, Loss: 1.5827\n",
            "Epoch 6/20, Loss: 1.5489\n",
            "Epoch 7/20, Loss: 1.5029\n",
            "Epoch 8/20, Loss: 1.5399\n",
            "Epoch 9/20, Loss: 1.5748\n",
            "Epoch 10/20, Loss: 1.4922\n",
            "Epoch 11/20, Loss: 1.4950\n",
            "Epoch 12/20, Loss: 1.5487\n",
            "Epoch 13/20, Loss: 1.4954\n",
            "Epoch 14/20, Loss: 1.5336\n",
            "Epoch 15/20, Loss: 1.4992\n",
            "Epoch 16/20, Loss: 1.4979\n",
            "Epoch 17/20, Loss: 1.4738\n",
            "Epoch 18/20, Loss: 1.5120\n",
            "Epoch 19/20, Loss: 1.5048\n",
            "Epoch 20/20, Loss: 1.4921\n"
          ]
        },
        {
          "output_type": "stream",
          "name": "stderr",
          "text": [
            "/usr/local/lib/python3.11/dist-packages/sklearn/pipeline.py:62: FutureWarning: This Pipeline instance is not fitted yet. Call 'fit' with appropriate arguments before using other methods such as transform, predict, etc. This will raise an error in 1.8 instead of the current warning.\n",
            "  warnings.warn(\n"
          ]
        },
        {
          "output_type": "execute_result",
          "data": {
            "text/plain": [
              "0.9603"
            ]
          },
          "metadata": {},
          "execution_count": 12
        }
      ]
    },
    {
      "cell_type": "code",
      "source": [
        "class Shape2Flat(BaseEstimator, TransformerMixin):\n",
        "  def fit(self, X, y):\n",
        "    return self\n",
        "  def transform(self, X, y=None):\n",
        "    return X.reshape((-1, 28 * 28))\n",
        "\n",
        "modelo = Pipeline([\n",
        "    (\"scaler\", DividePor255()),\n",
        "    (\"reshape\", Shape2Flat()),\n",
        "    (\"ann\", KerasWrappedNN())\n",
        "])\n",
        "\n",
        "modelo.fit(train_images, train_labels)\n",
        "ypred = modelo.predict(test_images)\n",
        "accuracy_score(test_labels, ypred)"
      ],
      "metadata": {
        "colab": {
          "base_uri": "https://localhost:8080/"
        },
        "id": "ZYD2OlqoAmfj",
        "outputId": "f2eb149c-874f-41ff-bad3-5798d8aaf8e5"
      },
      "execution_count": 13,
      "outputs": [
        {
          "output_type": "stream",
          "name": "stdout",
          "text": [
            "Epoch 1/5\n",
            "\u001b[1m469/469\u001b[0m \u001b[32m━━━━━━━━━━━━━━━━━━━━\u001b[0m\u001b[37m\u001b[0m \u001b[1m3s\u001b[0m 4ms/step - accuracy: 0.8770 - loss: 0.4334\n",
            "Epoch 2/5\n",
            "\u001b[1m469/469\u001b[0m \u001b[32m━━━━━━━━━━━━━━━━━━━━\u001b[0m\u001b[37m\u001b[0m \u001b[1m2s\u001b[0m 3ms/step - accuracy: 0.9658 - loss: 0.1170\n",
            "Epoch 3/5\n",
            "\u001b[1m469/469\u001b[0m \u001b[32m━━━━━━━━━━━━━━━━━━━━\u001b[0m\u001b[37m\u001b[0m \u001b[1m2s\u001b[0m 3ms/step - accuracy: 0.9800 - loss: 0.0716\n",
            "Epoch 4/5\n",
            "\u001b[1m469/469\u001b[0m \u001b[32m━━━━━━━━━━━━━━━━━━━━\u001b[0m\u001b[37m\u001b[0m \u001b[1m1s\u001b[0m 3ms/step - accuracy: 0.9856 - loss: 0.0483\n",
            "Epoch 5/5\n",
            "\u001b[1m469/469\u001b[0m \u001b[32m━━━━━━━━━━━━━━━━━━━━\u001b[0m\u001b[37m\u001b[0m \u001b[1m1s\u001b[0m 2ms/step - accuracy: 0.9892 - loss: 0.0382\n",
            "\u001b[1m313/313\u001b[0m \u001b[32m━━━━━━━━━━━━━━━━━━━━\u001b[0m\u001b[37m\u001b[0m \u001b[1m1s\u001b[0m 2ms/step\n"
          ]
        },
        {
          "output_type": "stream",
          "name": "stderr",
          "text": [
            "/usr/local/lib/python3.11/dist-packages/sklearn/pipeline.py:62: FutureWarning: This Pipeline instance is not fitted yet. Call 'fit' with appropriate arguments before using other methods such as transform, predict, etc. This will raise an error in 1.8 instead of the current warning.\n",
            "  warnings.warn(\n"
          ]
        },
        {
          "output_type": "execute_result",
          "data": {
            "text/plain": [
              "0.9801"
            ]
          },
          "metadata": {},
          "execution_count": 13
        }
      ]
    },
    {
      "cell_type": "code",
      "source": [
        "modelo = Pipeline([\n",
        "    (\"scaler\", DividePor255()),\n",
        "    (\"reshape\", Shape2Flat()),\n",
        "    (\"ann\", TorchWrappedNN())\n",
        "])\n",
        "\n",
        "modelo.fit(train_images, train_labels)\n",
        "ypred = modelo.predict(test_images)\n",
        "accuracy_score(test_labels, ypred)"
      ],
      "metadata": {
        "colab": {
          "base_uri": "https://localhost:8080/"
        },
        "id": "edznEAAyAM3Y",
        "outputId": "36300ad8-57d3-4553-b69c-ad159eb7b2a0"
      },
      "execution_count": 14,
      "outputs": [
        {
          "output_type": "stream",
          "name": "stdout",
          "text": [
            "Epoch 1/20, Loss: 1.5549\n",
            "Epoch 2/20, Loss: 1.5991\n",
            "Epoch 3/20, Loss: 1.5510\n",
            "Epoch 4/20, Loss: 1.5309\n",
            "Epoch 5/20, Loss: 1.5511\n",
            "Epoch 6/20, Loss: 1.5206\n",
            "Epoch 7/20, Loss: 1.5093\n",
            "Epoch 8/20, Loss: 1.5270\n",
            "Epoch 9/20, Loss: 1.5302\n",
            "Epoch 10/20, Loss: 1.5307\n",
            "Epoch 11/20, Loss: 1.5167\n",
            "Epoch 12/20, Loss: 1.5491\n",
            "Epoch 13/20, Loss: 1.5208\n",
            "Epoch 14/20, Loss: 1.4829\n",
            "Epoch 15/20, Loss: 1.5198\n",
            "Epoch 16/20, Loss: 1.4833\n",
            "Epoch 17/20, Loss: 1.5172\n",
            "Epoch 18/20, Loss: 1.4958\n",
            "Epoch 19/20, Loss: 1.5013\n",
            "Epoch 20/20, Loss: 1.4789\n"
          ]
        },
        {
          "output_type": "stream",
          "name": "stderr",
          "text": [
            "/usr/local/lib/python3.11/dist-packages/sklearn/pipeline.py:62: FutureWarning: This Pipeline instance is not fitted yet. Call 'fit' with appropriate arguments before using other methods such as transform, predict, etc. This will raise an error in 1.8 instead of the current warning.\n",
            "  warnings.warn(\n"
          ]
        },
        {
          "output_type": "execute_result",
          "data": {
            "text/plain": [
              "0.9592"
            ]
          },
          "metadata": {},
          "execution_count": 14
        }
      ]
    },
    {
      "cell_type": "markdown",
      "source": [
        "# Convolutional Neural Networks"
      ],
      "metadata": {
        "id": "muRabTN3BAEk"
      }
    },
    {
      "cell_type": "markdown",
      "source": [
        "![image.png](data:image/png;base64,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)"
      ],
      "metadata": {
        "id": "rys8E5BBCbp5"
      }
    },
    {
      "cell_type": "markdown",
      "source": [
        "![image.png](data:image/png;base64,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)"
      ],
      "metadata": {
        "id": "W5DO07BRDxKX"
      }
    },
    {
      "cell_type": "code",
      "source": [
        "def KerasCNN2D(num_classes):\n",
        "  return keras.Sequential([\n",
        "    layers.Conv2D(4, 4, activation=\"relu\"),\n",
        "    layers.Flatten(),\n",
        "    layers.Dense(512, activation=\"relu\"),\n",
        "    layers.Dense(num_classes, activation=\"softmax\")\n",
        "  ])\n",
        "\n",
        "class KerasWrappedCNN2D(BaseEstimator, ClassifierMixin):\n",
        "  def __init__(self, epochs=5, batch_size=128):\n",
        "    self.epochs = epochs\n",
        "    self.batch_size = batch_size\n",
        "  def fit(self, X, y):\n",
        "    self.labels, ids = np.unique(y, return_inverse=True)\n",
        "    yhot = keras.utils.to_categorical(ids)\n",
        "    self.model = KerasCNN2D(yhot.shape[1])\n",
        "    self.model.compile(optimizer=\"rmsprop\",\n",
        "                       loss=\"categorical_crossentropy\",\n",
        "                       metrics=[\"accuracy\"])\n",
        "    self.model.fit(X, yhot, epochs=self.epochs, batch_size=self.batch_size)\n",
        "    return self\n",
        "  def predict(self, X, y=None):\n",
        "    probabilities = self.model.predict(X)\n",
        "    ypred = self.labels[np.argmax(probabilities, axis=1)]\n",
        "    return ypred\n",
        "\n",
        "class Shape2Keras(BaseEstimator, TransformerMixin):\n",
        "  def fit(self, X, y):\n",
        "    return self\n",
        "  def transform(self, X, y=None):\n",
        "    return X.reshape((-1, 28, 28, 1))\n",
        "\n",
        "modelo = Pipeline([\n",
        "    (\"scaler\", DividePor255()),\n",
        "    (\"reshape\", Shape2Keras()),\n",
        "    (\"ann\", KerasWrappedCNN2D())\n",
        "])\n",
        "\n",
        "modelo.fit(train_images, train_labels)\n",
        "ypred = modelo.predict(test_images)\n",
        "accuracy_score(test_labels, ypred)"
      ],
      "metadata": {
        "colab": {
          "base_uri": "https://localhost:8080/"
        },
        "id": "Y9hz2ax2Fn0y",
        "outputId": "aef1ff42-a6dc-487f-a35e-39b6ba883238"
      },
      "execution_count": 15,
      "outputs": [
        {
          "output_type": "stream",
          "name": "stdout",
          "text": [
            "Epoch 1/5\n",
            "\u001b[1m469/469\u001b[0m \u001b[32m━━━━━━━━━━━━━━━━━━━━\u001b[0m\u001b[37m\u001b[0m \u001b[1m5s\u001b[0m 5ms/step - accuracy: 0.8531 - loss: 0.4684\n",
            "Epoch 2/5\n",
            "\u001b[1m469/469\u001b[0m \u001b[32m━━━━━━━━━━━━━━━━━━━━\u001b[0m\u001b[37m\u001b[0m \u001b[1m2s\u001b[0m 3ms/step - accuracy: 0.9745 - loss: 0.0844\n",
            "Epoch 3/5\n",
            "\u001b[1m469/469\u001b[0m \u001b[32m━━━━━━━━━━━━━━━━━━━━\u001b[0m\u001b[37m\u001b[0m \u001b[1m1s\u001b[0m 3ms/step - accuracy: 0.9854 - loss: 0.0475\n",
            "Epoch 4/5\n",
            "\u001b[1m469/469\u001b[0m \u001b[32m━━━━━━━━━━━━━━━━━━━━\u001b[0m\u001b[37m\u001b[0m \u001b[1m3s\u001b[0m 3ms/step - accuracy: 0.9912 - loss: 0.0313\n",
            "Epoch 5/5\n",
            "\u001b[1m469/469\u001b[0m \u001b[32m━━━━━━━━━━━━━━━━━━━━\u001b[0m\u001b[37m\u001b[0m \u001b[1m1s\u001b[0m 3ms/step - accuracy: 0.9920 - loss: 0.0240\n",
            "\u001b[1m313/313\u001b[0m \u001b[32m━━━━━━━━━━━━━━━━━━━━\u001b[0m\u001b[37m\u001b[0m \u001b[1m1s\u001b[0m 2ms/step\n"
          ]
        },
        {
          "output_type": "stream",
          "name": "stderr",
          "text": [
            "/usr/local/lib/python3.11/dist-packages/sklearn/pipeline.py:62: FutureWarning: This Pipeline instance is not fitted yet. Call 'fit' with appropriate arguments before using other methods such as transform, predict, etc. This will raise an error in 1.8 instead of the current warning.\n",
            "  warnings.warn(\n"
          ]
        },
        {
          "output_type": "execute_result",
          "data": {
            "text/plain": [
              "0.9846"
            ]
          },
          "metadata": {},
          "execution_count": 15
        }
      ]
    },
    {
      "cell_type": "code",
      "source": [
        "# Definição da CNN em PyTorch\n",
        "class TorchCNN2D(nn.Module):\n",
        "    def __init__(self, num_classes):\n",
        "        super(TorchCNN2D, self).__init__()\n",
        "        self.conv1 = nn.Conv2d(in_channels=1, out_channels=4, kernel_size=4, stride=1, padding=0)\n",
        "        self.flatten = nn.Flatten()\n",
        "        self.fc1 = nn.Linear(4 * 25 * 25, 512)  # Ajuste para manter compatibilidade com saída da convolução\n",
        "        self.fc2 = nn.Linear(512, num_classes)\n",
        "\n",
        "    def forward(self, x):\n",
        "        x = F.relu(self.conv1(x))\n",
        "        x = self.flatten(x)\n",
        "        x = F.relu(self.fc1(x))\n",
        "        x = F.softmax(self.fc2(x), dim=1)\n",
        "        return x\n",
        "\n",
        "# Wrapper semelhante ao Scikit-Learn\n",
        "class TorchWrappedCNN2D:\n",
        "    def __init__(self, epochs=5, batch_size=128):\n",
        "        self.epochs = epochs\n",
        "        self.batch_size = batch_size\n",
        "        self.model = None\n",
        "        self.labels = None\n",
        "        self.optimizer = None\n",
        "        self.criterion = nn.CrossEntropyLoss()\n",
        "        self.verbose = 1\n",
        "\n",
        "    def fit(self, X, y):\n",
        "        X = torch.from_numpy(X).float()\n",
        "        self.labels, ids = np.unique(y, return_inverse=True)\n",
        "        y_tensor = torch.tensor(ids, dtype=torch.long)\n",
        "\n",
        "        num_classes = len(self.labels)\n",
        "        self.model = TorchCNN2D(num_classes)\n",
        "        self.model.to(device)\n",
        "        self.optimizer = optim.RMSprop(self.model.parameters(), lr=0.001)\n",
        "\n",
        "        dataset = torch.utils.data.TensorDataset(X, y_tensor)\n",
        "        dataloader = torch.utils.data.DataLoader(dataset, batch_size=self.batch_size, shuffle=True)\n",
        "\n",
        "        for epoch in range(self.epochs):\n",
        "            for images, labels in dataloader:\n",
        "                images = images.to(device)\n",
        "                labels = labels.to(device)\n",
        "                self.optimizer.zero_grad()\n",
        "                output = self.model(images)\n",
        "                loss = self.criterion(output, labels)\n",
        "                loss.backward()\n",
        "                self.optimizer.step()\n",
        "\n",
        "            if self.verbose > 0:\n",
        "                print(f\"Epoch {epoch+1}/{self.epochs}, Loss: {loss.item():.4f}\")\n",
        "\n",
        "\n",
        "    def predict(self, X):\n",
        "        with torch.no_grad():\n",
        "            X_tensor = torch.from_numpy(X).float().to(device)\n",
        "            output = self.model(X_tensor).cpu().numpy()\n",
        "            ypred = self.labels[output.argmax(axis=1)]\n",
        "            return ypred\n",
        "\n",
        "\n",
        "class Shape2Torch(BaseEstimator, TransformerMixin):\n",
        "  def fit(self, X, y):\n",
        "    return self\n",
        "  def transform(self, X, y=None):\n",
        "    return X.reshape((-1, 1, 28, 28))\n",
        "\n",
        "\n",
        "modelo = Pipeline([\n",
        "    (\"scaler\", DividePor255()),\n",
        "    (\"reshape\", Shape2Torch()),\n",
        "    (\"ann\", TorchWrappedCNN2D())\n",
        "])\n",
        "\n",
        "modelo.fit(train_images, train_labels)\n",
        "ypred = modelo.predict(test_images)\n",
        "accuracy_score(test_labels, ypred)\n"
      ],
      "metadata": {
        "colab": {
          "base_uri": "https://localhost:8080/"
        },
        "id": "ziOPPOIGEe1e",
        "outputId": "70133256-c8f7-49aa-ecb2-e5b27736a693"
      },
      "execution_count": 16,
      "outputs": [
        {
          "output_type": "stream",
          "name": "stdout",
          "text": [
            "Epoch 1/5, Loss: 1.5436\n",
            "Epoch 2/5, Loss: 1.5240\n",
            "Epoch 3/5, Loss: 1.4750\n",
            "Epoch 4/5, Loss: 1.4986\n",
            "Epoch 5/5, Loss: 1.4713\n"
          ]
        },
        {
          "output_type": "stream",
          "name": "stderr",
          "text": [
            "/usr/local/lib/python3.11/dist-packages/sklearn/pipeline.py:62: FutureWarning: This Pipeline instance is not fitted yet. Call 'fit' with appropriate arguments before using other methods such as transform, predict, etc. This will raise an error in 1.8 instead of the current warning.\n",
            "  warnings.warn(\n"
          ]
        },
        {
          "output_type": "execute_result",
          "data": {
            "text/plain": [
              "0.9792"
            ]
          },
          "metadata": {},
          "execution_count": 16
        }
      ]
    },
    {
      "cell_type": "code",
      "source": [
        "def KerasCNN2D(input_shape, output_shape):\n",
        "  inputs = keras.Input(shape=input_shape)\n",
        "  x = layers.Conv2D(filters=32, kernel_size=3, activation=\"relu\")(inputs)\n",
        "  x = layers.MaxPooling2D(pool_size=2)(x)\n",
        "  x = layers.Conv2D(filters=64, kernel_size=3, activation=\"relu\")(x)\n",
        "  x = layers.MaxPooling2D(pool_size=2)(x)\n",
        "  x = layers.Conv2D(filters=128, kernel_size=3, activation=\"relu\")(x)\n",
        "  x = layers.Flatten()(x)\n",
        "  outputs = layers.Dense(output_shape, activation=\"softmax\")(x)\n",
        "  return keras.Model(inputs=inputs, outputs=outputs)\n",
        "\n",
        "model = KerasCNN2D((28,28,1), 10)\n",
        "model.summary()"
      ],
      "metadata": {
        "colab": {
          "base_uri": "https://localhost:8080/",
          "height": 385
        },
        "id": "dbe5UoxAIoJs",
        "outputId": "0f0b14c4-b846-4c4e-b5db-25443b56a370"
      },
      "execution_count": 17,
      "outputs": [
        {
          "output_type": "display_data",
          "data": {
            "text/plain": [
              "\u001b[1mModel: \"functional_6\"\u001b[0m\n"
            ],
            "text/html": [
              "<pre style=\"white-space:pre;overflow-x:auto;line-height:normal;font-family:Menlo,'DejaVu Sans Mono',consolas,'Courier New',monospace\"><span style=\"font-weight: bold\">Model: \"functional_6\"</span>\n",
              "</pre>\n"
            ]
          },
          "metadata": {}
        },
        {
          "output_type": "display_data",
          "data": {
            "text/plain": [
              "┏━━━━━━━━━━━━━━━━━━━━━━━━━━━━━━━━━┳━━━━━━━━━━━━━━━━━━━━━━━━┳━━━━━━━━━━━━━━━┓\n",
              "┃\u001b[1m \u001b[0m\u001b[1mLayer (type)                   \u001b[0m\u001b[1m \u001b[0m┃\u001b[1m \u001b[0m\u001b[1mOutput Shape          \u001b[0m\u001b[1m \u001b[0m┃\u001b[1m \u001b[0m\u001b[1m      Param #\u001b[0m\u001b[1m \u001b[0m┃\n",
              "┡━━━━━━━━━━━━━━━━━━━━━━━━━━━━━━━━━╇━━━━━━━━━━━━━━━━━━━━━━━━╇━━━━━━━━━━━━━━━┩\n",
              "│ input_layer_6 (\u001b[38;5;33mInputLayer\u001b[0m)      │ (\u001b[38;5;45mNone\u001b[0m, \u001b[38;5;34m28\u001b[0m, \u001b[38;5;34m28\u001b[0m, \u001b[38;5;34m1\u001b[0m)      │             \u001b[38;5;34m0\u001b[0m │\n",
              "├─────────────────────────────────┼────────────────────────┼───────────────┤\n",
              "│ conv2d_1 (\u001b[38;5;33mConv2D\u001b[0m)               │ (\u001b[38;5;45mNone\u001b[0m, \u001b[38;5;34m26\u001b[0m, \u001b[38;5;34m26\u001b[0m, \u001b[38;5;34m32\u001b[0m)     │           \u001b[38;5;34m320\u001b[0m │\n",
              "├─────────────────────────────────┼────────────────────────┼───────────────┤\n",
              "│ max_pooling2d (\u001b[38;5;33mMaxPooling2D\u001b[0m)    │ (\u001b[38;5;45mNone\u001b[0m, \u001b[38;5;34m13\u001b[0m, \u001b[38;5;34m13\u001b[0m, \u001b[38;5;34m32\u001b[0m)     │             \u001b[38;5;34m0\u001b[0m │\n",
              "├─────────────────────────────────┼────────────────────────┼───────────────┤\n",
              "│ conv2d_2 (\u001b[38;5;33mConv2D\u001b[0m)               │ (\u001b[38;5;45mNone\u001b[0m, \u001b[38;5;34m11\u001b[0m, \u001b[38;5;34m11\u001b[0m, \u001b[38;5;34m64\u001b[0m)     │        \u001b[38;5;34m18,496\u001b[0m │\n",
              "├─────────────────────────────────┼────────────────────────┼───────────────┤\n",
              "│ max_pooling2d_1 (\u001b[38;5;33mMaxPooling2D\u001b[0m)  │ (\u001b[38;5;45mNone\u001b[0m, \u001b[38;5;34m5\u001b[0m, \u001b[38;5;34m5\u001b[0m, \u001b[38;5;34m64\u001b[0m)       │             \u001b[38;5;34m0\u001b[0m │\n",
              "├─────────────────────────────────┼────────────────────────┼───────────────┤\n",
              "│ conv2d_3 (\u001b[38;5;33mConv2D\u001b[0m)               │ (\u001b[38;5;45mNone\u001b[0m, \u001b[38;5;34m3\u001b[0m, \u001b[38;5;34m3\u001b[0m, \u001b[38;5;34m128\u001b[0m)      │        \u001b[38;5;34m73,856\u001b[0m │\n",
              "├─────────────────────────────────┼────────────────────────┼───────────────┤\n",
              "│ flatten_1 (\u001b[38;5;33mFlatten\u001b[0m)             │ (\u001b[38;5;45mNone\u001b[0m, \u001b[38;5;34m1152\u001b[0m)           │             \u001b[38;5;34m0\u001b[0m │\n",
              "├─────────────────────────────────┼────────────────────────┼───────────────┤\n",
              "│ dense_12 (\u001b[38;5;33mDense\u001b[0m)                │ (\u001b[38;5;45mNone\u001b[0m, \u001b[38;5;34m10\u001b[0m)             │        \u001b[38;5;34m11,530\u001b[0m │\n",
              "└─────────────────────────────────┴────────────────────────┴───────────────┘\n"
            ],
            "text/html": [
              "<pre style=\"white-space:pre;overflow-x:auto;line-height:normal;font-family:Menlo,'DejaVu Sans Mono',consolas,'Courier New',monospace\">┏━━━━━━━━━━━━━━━━━━━━━━━━━━━━━━━━━┳━━━━━━━━━━━━━━━━━━━━━━━━┳━━━━━━━━━━━━━━━┓\n",
              "┃<span style=\"font-weight: bold\"> Layer (type)                    </span>┃<span style=\"font-weight: bold\"> Output Shape           </span>┃<span style=\"font-weight: bold\">       Param # </span>┃\n",
              "┡━━━━━━━━━━━━━━━━━━━━━━━━━━━━━━━━━╇━━━━━━━━━━━━━━━━━━━━━━━━╇━━━━━━━━━━━━━━━┩\n",
              "│ input_layer_6 (<span style=\"color: #0087ff; text-decoration-color: #0087ff\">InputLayer</span>)      │ (<span style=\"color: #00d7ff; text-decoration-color: #00d7ff\">None</span>, <span style=\"color: #00af00; text-decoration-color: #00af00\">28</span>, <span style=\"color: #00af00; text-decoration-color: #00af00\">28</span>, <span style=\"color: #00af00; text-decoration-color: #00af00\">1</span>)      │             <span style=\"color: #00af00; text-decoration-color: #00af00\">0</span> │\n",
              "├─────────────────────────────────┼────────────────────────┼───────────────┤\n",
              "│ conv2d_1 (<span style=\"color: #0087ff; text-decoration-color: #0087ff\">Conv2D</span>)               │ (<span style=\"color: #00d7ff; text-decoration-color: #00d7ff\">None</span>, <span style=\"color: #00af00; text-decoration-color: #00af00\">26</span>, <span style=\"color: #00af00; text-decoration-color: #00af00\">26</span>, <span style=\"color: #00af00; text-decoration-color: #00af00\">32</span>)     │           <span style=\"color: #00af00; text-decoration-color: #00af00\">320</span> │\n",
              "├─────────────────────────────────┼────────────────────────┼───────────────┤\n",
              "│ max_pooling2d (<span style=\"color: #0087ff; text-decoration-color: #0087ff\">MaxPooling2D</span>)    │ (<span style=\"color: #00d7ff; text-decoration-color: #00d7ff\">None</span>, <span style=\"color: #00af00; text-decoration-color: #00af00\">13</span>, <span style=\"color: #00af00; text-decoration-color: #00af00\">13</span>, <span style=\"color: #00af00; text-decoration-color: #00af00\">32</span>)     │             <span style=\"color: #00af00; text-decoration-color: #00af00\">0</span> │\n",
              "├─────────────────────────────────┼────────────────────────┼───────────────┤\n",
              "│ conv2d_2 (<span style=\"color: #0087ff; text-decoration-color: #0087ff\">Conv2D</span>)               │ (<span style=\"color: #00d7ff; text-decoration-color: #00d7ff\">None</span>, <span style=\"color: #00af00; text-decoration-color: #00af00\">11</span>, <span style=\"color: #00af00; text-decoration-color: #00af00\">11</span>, <span style=\"color: #00af00; text-decoration-color: #00af00\">64</span>)     │        <span style=\"color: #00af00; text-decoration-color: #00af00\">18,496</span> │\n",
              "├─────────────────────────────────┼────────────────────────┼───────────────┤\n",
              "│ max_pooling2d_1 (<span style=\"color: #0087ff; text-decoration-color: #0087ff\">MaxPooling2D</span>)  │ (<span style=\"color: #00d7ff; text-decoration-color: #00d7ff\">None</span>, <span style=\"color: #00af00; text-decoration-color: #00af00\">5</span>, <span style=\"color: #00af00; text-decoration-color: #00af00\">5</span>, <span style=\"color: #00af00; text-decoration-color: #00af00\">64</span>)       │             <span style=\"color: #00af00; text-decoration-color: #00af00\">0</span> │\n",
              "├─────────────────────────────────┼────────────────────────┼───────────────┤\n",
              "│ conv2d_3 (<span style=\"color: #0087ff; text-decoration-color: #0087ff\">Conv2D</span>)               │ (<span style=\"color: #00d7ff; text-decoration-color: #00d7ff\">None</span>, <span style=\"color: #00af00; text-decoration-color: #00af00\">3</span>, <span style=\"color: #00af00; text-decoration-color: #00af00\">3</span>, <span style=\"color: #00af00; text-decoration-color: #00af00\">128</span>)      │        <span style=\"color: #00af00; text-decoration-color: #00af00\">73,856</span> │\n",
              "├─────────────────────────────────┼────────────────────────┼───────────────┤\n",
              "│ flatten_1 (<span style=\"color: #0087ff; text-decoration-color: #0087ff\">Flatten</span>)             │ (<span style=\"color: #00d7ff; text-decoration-color: #00d7ff\">None</span>, <span style=\"color: #00af00; text-decoration-color: #00af00\">1152</span>)           │             <span style=\"color: #00af00; text-decoration-color: #00af00\">0</span> │\n",
              "├─────────────────────────────────┼────────────────────────┼───────────────┤\n",
              "│ dense_12 (<span style=\"color: #0087ff; text-decoration-color: #0087ff\">Dense</span>)                │ (<span style=\"color: #00d7ff; text-decoration-color: #00d7ff\">None</span>, <span style=\"color: #00af00; text-decoration-color: #00af00\">10</span>)             │        <span style=\"color: #00af00; text-decoration-color: #00af00\">11,530</span> │\n",
              "└─────────────────────────────────┴────────────────────────┴───────────────┘\n",
              "</pre>\n"
            ]
          },
          "metadata": {}
        },
        {
          "output_type": "display_data",
          "data": {
            "text/plain": [
              "\u001b[1m Total params: \u001b[0m\u001b[38;5;34m104,202\u001b[0m (407.04 KB)\n"
            ],
            "text/html": [
              "<pre style=\"white-space:pre;overflow-x:auto;line-height:normal;font-family:Menlo,'DejaVu Sans Mono',consolas,'Courier New',monospace\"><span style=\"font-weight: bold\"> Total params: </span><span style=\"color: #00af00; text-decoration-color: #00af00\">104,202</span> (407.04 KB)\n",
              "</pre>\n"
            ]
          },
          "metadata": {}
        },
        {
          "output_type": "display_data",
          "data": {
            "text/plain": [
              "\u001b[1m Trainable params: \u001b[0m\u001b[38;5;34m104,202\u001b[0m (407.04 KB)\n"
            ],
            "text/html": [
              "<pre style=\"white-space:pre;overflow-x:auto;line-height:normal;font-family:Menlo,'DejaVu Sans Mono',consolas,'Courier New',monospace\"><span style=\"font-weight: bold\"> Trainable params: </span><span style=\"color: #00af00; text-decoration-color: #00af00\">104,202</span> (407.04 KB)\n",
              "</pre>\n"
            ]
          },
          "metadata": {}
        },
        {
          "output_type": "display_data",
          "data": {
            "text/plain": [
              "\u001b[1m Non-trainable params: \u001b[0m\u001b[38;5;34m0\u001b[0m (0.00 B)\n"
            ],
            "text/html": [
              "<pre style=\"white-space:pre;overflow-x:auto;line-height:normal;font-family:Menlo,'DejaVu Sans Mono',consolas,'Courier New',monospace\"><span style=\"font-weight: bold\"> Non-trainable params: </span><span style=\"color: #00af00; text-decoration-color: #00af00\">0</span> (0.00 B)\n",
              "</pre>\n"
            ]
          },
          "metadata": {}
        }
      ]
    },
    {
      "cell_type": "code",
      "source": [
        "class KerasWrappedCNN2D(BaseEstimator, ClassifierMixin):\n",
        "  def __init__(self, epochs=5, batch_size=128, modelFactory=KerasCNN2D):\n",
        "    self.epochs = epochs\n",
        "    self.batch_size = batch_size\n",
        "    self.modelFactory = modelFactory\n",
        "\n",
        "  def fit(self, X, y):\n",
        "    self.labels, ids = np.unique(y, return_inverse=True)\n",
        "    yhot = keras.utils.to_categorical(ids)\n",
        "    self.model = self.modelFactory(X.shape[1:], yhot.shape[1])\n",
        "    self.model.compile(optimizer=\"rmsprop\",\n",
        "                       loss=\"categorical_crossentropy\",\n",
        "                       metrics=[\"accuracy\"])\n",
        "    self.model.fit(X, yhot, epochs=self.epochs, batch_size=self.batch_size)\n",
        "    return self\n",
        "\n",
        "  def predict(self, X, y=None):\n",
        "    probabilities = self.model.predict(X)\n",
        "    ypred = self.labels[np.argmax(probabilities, axis=1)]\n",
        "    return ypred\n",
        "\n",
        "modelo = Pipeline([\n",
        "    (\"scaler\", DividePor255()),\n",
        "    (\"reshape\", Shape2Keras()),\n",
        "    (\"ann\", KerasWrappedCNN2D())\n",
        "])\n",
        "\n",
        "modelo.fit(train_images, train_labels)\n",
        "ypred = modelo.predict(test_images)\n",
        "accuracy_score(test_labels, ypred)"
      ],
      "metadata": {
        "id": "KtpPeRsmME9T",
        "colab": {
          "base_uri": "https://localhost:8080/"
        },
        "outputId": "5677bd4a-062d-4263-a96a-8e3528aa8b87"
      },
      "execution_count": 18,
      "outputs": [
        {
          "output_type": "stream",
          "name": "stdout",
          "text": [
            "Epoch 1/5\n",
            "\u001b[1m469/469\u001b[0m \u001b[32m━━━━━━━━━━━━━━━━━━━━\u001b[0m\u001b[37m\u001b[0m \u001b[1m5s\u001b[0m 6ms/step - accuracy: 0.8493 - loss: 0.4667\n",
            "Epoch 2/5\n",
            "\u001b[1m469/469\u001b[0m \u001b[32m━━━━━━━━━━━━━━━━━━━━\u001b[0m\u001b[37m\u001b[0m \u001b[1m3s\u001b[0m 5ms/step - accuracy: 0.9829 - loss: 0.0570\n",
            "Epoch 3/5\n",
            "\u001b[1m469/469\u001b[0m \u001b[32m━━━━━━━━━━━━━━━━━━━━\u001b[0m\u001b[37m\u001b[0m \u001b[1m2s\u001b[0m 4ms/step - accuracy: 0.9896 - loss: 0.0341\n",
            "Epoch 4/5\n",
            "\u001b[1m469/469\u001b[0m \u001b[32m━━━━━━━━━━━━━━━━━━━━\u001b[0m\u001b[37m\u001b[0m \u001b[1m3s\u001b[0m 4ms/step - accuracy: 0.9918 - loss: 0.0264\n",
            "Epoch 5/5\n",
            "\u001b[1m469/469\u001b[0m \u001b[32m━━━━━━━━━━━━━━━━━━━━\u001b[0m\u001b[37m\u001b[0m \u001b[1m3s\u001b[0m 4ms/step - accuracy: 0.9934 - loss: 0.0207\n",
            "\u001b[1m313/313\u001b[0m \u001b[32m━━━━━━━━━━━━━━━━━━━━\u001b[0m\u001b[37m\u001b[0m \u001b[1m1s\u001b[0m 3ms/step\n"
          ]
        },
        {
          "output_type": "stream",
          "name": "stderr",
          "text": [
            "/usr/local/lib/python3.11/dist-packages/sklearn/pipeline.py:62: FutureWarning: This Pipeline instance is not fitted yet. Call 'fit' with appropriate arguments before using other methods such as transform, predict, etc. This will raise an error in 1.8 instead of the current warning.\n",
            "  warnings.warn(\n"
          ]
        },
        {
          "output_type": "execute_result",
          "data": {
            "text/plain": [
              "0.9899"
            ]
          },
          "metadata": {},
          "execution_count": 18
        }
      ]
    },
    {
      "cell_type": "code",
      "source": [
        "import torch\n",
        "import torch.nn as nn\n",
        "import torch.nn.functional as F\n",
        "\n",
        "# Definição da CNN em PyTorch\n",
        "class TorchCNN2D(nn.Module):\n",
        "    def __init__(self, input_shape, output_shape):\n",
        "        super(TorchCNN2D, self).__init__()\n",
        "        self.conv1 = nn.Conv2d(in_channels=input_shape[0], out_channels=32, kernel_size=3, stride=1, padding=1)\n",
        "        self.pool1 = nn.MaxPool2d(kernel_size=2, stride=2)\n",
        "        self.conv2 = nn.Conv2d(in_channels=32, out_channels=64, kernel_size=3, stride=1, padding=1)\n",
        "        self.pool2 = nn.MaxPool2d(kernel_size=2, stride=2)\n",
        "        self.conv3 = nn.Conv2d(in_channels=64, out_channels=128, kernel_size=3, stride=1, padding=1)\n",
        "        self.flatten = nn.Flatten()\n",
        "        self.fc = nn.Linear(128 * 7 * 7, output_shape)  # Ajuste conforme necessário\n",
        "\n",
        "    def forward(self, x):\n",
        "        x = F.relu(self.conv1(x))\n",
        "        x = self.pool1(x)\n",
        "        x = F.relu(self.conv2(x))\n",
        "        x = self.pool2(x)\n",
        "        x = F.relu(self.conv3(x))\n",
        "        x = self.flatten(x)\n",
        "        x = F.softmax(self.fc(x), dim=1)\n",
        "        return x\n",
        "\n",
        "# Inicializando o modelo\n",
        "input_shape = (1, 28, 28)  # Formato esperado para PyTorch (C, H, W)\n",
        "output_shape = 10\n",
        "model = TorchCNN2D(input_shape, output_shape)\n",
        "\n",
        "# Exibir resumo do modelo\n",
        "print(model)\n"
      ],
      "metadata": {
        "colab": {
          "base_uri": "https://localhost:8080/"
        },
        "id": "jR5pY3GgJhpr",
        "outputId": "83b8a471-6c0a-4a35-f629-2b63015b00ac"
      },
      "execution_count": 19,
      "outputs": [
        {
          "output_type": "stream",
          "name": "stdout",
          "text": [
            "TorchCNN2D(\n",
            "  (conv1): Conv2d(1, 32, kernel_size=(3, 3), stride=(1, 1), padding=(1, 1))\n",
            "  (pool1): MaxPool2d(kernel_size=2, stride=2, padding=0, dilation=1, ceil_mode=False)\n",
            "  (conv2): Conv2d(32, 64, kernel_size=(3, 3), stride=(1, 1), padding=(1, 1))\n",
            "  (pool2): MaxPool2d(kernel_size=2, stride=2, padding=0, dilation=1, ceil_mode=False)\n",
            "  (conv3): Conv2d(64, 128, kernel_size=(3, 3), stride=(1, 1), padding=(1, 1))\n",
            "  (flatten): Flatten(start_dim=1, end_dim=-1)\n",
            "  (fc): Linear(in_features=6272, out_features=10, bias=True)\n",
            ")\n"
          ]
        }
      ]
    },
    {
      "cell_type": "code",
      "source": [
        "# Wrapper semelhante ao Scikit-Learn\n",
        "class TorchWrappedCNN2D:\n",
        "    def __init__(self, epochs=5, batch_size=128, modelFactory=TorchCNN2D):\n",
        "        self.epochs = epochs\n",
        "        self.batch_size = batch_size\n",
        "        self.model = None\n",
        "        self.labels = None\n",
        "        self.optimizer = None\n",
        "        self.criterion = nn.CrossEntropyLoss()\n",
        "        self.verbose = 1\n",
        "        self.modelFactory = modelFactory\n",
        "\n",
        "    def fit(self, X, y):\n",
        "        X = torch.from_numpy(X).float()\n",
        "        self.labels, ids = np.unique(y, return_inverse=True)\n",
        "        y_tensor = torch.tensor(ids, dtype=torch.long)\n",
        "\n",
        "        num_classes = len(self.labels)\n",
        "        self.model = self.modelFactory(X.shape[1:], num_classes)\n",
        "        self.model.to(device)\n",
        "        self.optimizer = optim.RMSprop(self.model.parameters(), lr=0.001)\n",
        "\n",
        "        dataset = torch.utils.data.TensorDataset(X, y_tensor)\n",
        "        dataloader = torch.utils.data.DataLoader(dataset, batch_size=self.batch_size, shuffle=True)\n",
        "\n",
        "        for epoch in range(self.epochs):\n",
        "            for images, labels in dataloader:\n",
        "                images = images.to(device)\n",
        "                labels = labels.to(device)\n",
        "                self.optimizer.zero_grad()\n",
        "                output = self.model(images)\n",
        "                loss = self.criterion(output, labels)\n",
        "                loss.backward()\n",
        "                self.optimizer.step()\n",
        "\n",
        "            if self.verbose > 0:\n",
        "                print(f\"Epoch {epoch+1}/{self.epochs}, Loss: {loss.item():.4f}\")\n",
        "\n",
        "\n",
        "    def predict(self, X):\n",
        "        with torch.no_grad():\n",
        "            X_tensor = torch.from_numpy(X).float().to(device)\n",
        "            output = self.model(X_tensor).cpu().numpy()\n",
        "            ypred = self.labels[output.argmax(axis=1)]\n",
        "            return ypred\n",
        "\n",
        "modelo = Pipeline([\n",
        "    (\"scaler\", DividePor255()),\n",
        "    (\"reshape\", Shape2Torch()),\n",
        "    (\"ann\", TorchWrappedCNN2D())\n",
        "])\n",
        "\n",
        "modelo.fit(train_images, train_labels)\n",
        "ypred = modelo.predict(test_images)\n",
        "accuracy_score(test_labels, ypred)"
      ],
      "metadata": {
        "colab": {
          "base_uri": "https://localhost:8080/"
        },
        "id": "OgMbEYmdJ7dW",
        "outputId": "067d7d31-b740-49ae-af6f-e049b7040d2d"
      },
      "execution_count": 22,
      "outputs": [
        {
          "output_type": "stream",
          "name": "stdout",
          "text": [
            "Epoch 1/5, Loss: 1.6157\n",
            "Epoch 2/5, Loss: 1.5624\n",
            "Epoch 3/5, Loss: 1.5486\n",
            "Epoch 4/5, Loss: 1.5228\n",
            "Epoch 5/5, Loss: 1.4624\n"
          ]
        },
        {
          "output_type": "stream",
          "name": "stderr",
          "text": [
            "/usr/local/lib/python3.11/dist-packages/sklearn/pipeline.py:62: FutureWarning: This Pipeline instance is not fitted yet. Call 'fit' with appropriate arguments before using other methods such as transform, predict, etc. This will raise an error in 1.8 instead of the current warning.\n",
            "  warnings.warn(\n"
          ]
        },
        {
          "output_type": "execute_result",
          "data": {
            "text/plain": [
              "0.9906"
            ]
          },
          "metadata": {},
          "execution_count": 22
        }
      ]
    }
  ]
}