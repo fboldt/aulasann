{
  "nbformat": 4,
  "nbformat_minor": 0,
  "metadata": {
    "colab": {
      "provenance": [],
      "authorship_tag": "ABX9TyO4Y6Nck+zQwgYBoSBq5R1C",
      "include_colab_link": true
    },
    "kernelspec": {
      "name": "python3",
      "display_name": "Python 3"
    },
    "language_info": {
      "name": "python"
    }
  },
  "cells": [
    {
      "cell_type": "markdown",
      "metadata": {
        "id": "view-in-github",
        "colab_type": "text"
      },
      "source": [
        "<a href=\"https://colab.research.google.com/github/fboldt/aulasann/blob/main/aula05c_regularization.ipynb\" target=\"_parent\"><img src=\"https://colab.research.google.com/assets/colab-badge.svg\" alt=\"Open In Colab\"/></a>"
      ]
    },
    {
      "cell_type": "code",
      "execution_count": 226,
      "metadata": {
        "id": "LIGzdrEKThyZ"
      },
      "outputs": [],
      "source": [
        "import matplotlib.pyplot as plt\n",
        "\n",
        "def plotDataset(X, y):\n",
        "  plt.scatter(X[:,0], X[:,1], c=y)\n",
        "  plt.xlim(0, 1)\n",
        "  plt.ylim(0, 1)"
      ]
    },
    {
      "cell_type": "code",
      "source": [
        "import numpy as np\n",
        "\n",
        "def plotHiperplano(vector, intercept=0):\n",
        "  xs = np.array([0, 1])\n",
        "  ys = -(vector[0]*xs+intercept)/vector[1]\n",
        "  plt.plot(xs, ys, 'r-')"
      ],
      "metadata": {
        "id": "BNd8IRdsV5fe"
      },
      "execution_count": 227,
      "outputs": []
    },
    {
      "cell_type": "code",
      "source": [
        "def criaDataset(n=20, slop=[2,1], intercept=-0.4, dummyFeatures=8):\n",
        "  X = np.random.uniform(size=(n,dummyFeatures+2))\n",
        "  AUX = X[:,:2] * np.array(slop) - [0, intercept]\n",
        "  y = np.array(AUX[:,0]>AUX[:,1], dtype=int)*2-1\n",
        "  return X, y"
      ],
      "metadata": {
        "id": "6e20k45SWCwt"
      },
      "execution_count": 230,
      "outputs": []
    },
    {
      "cell_type": "code",
      "source": [
        "X, y = criaDataset()\n",
        "plotDataset(X, y)\n",
        "plotHiperplano([2, -1], -0.4)\n",
        "plt.show()"
      ],
      "metadata": {
        "colab": {
          "base_uri": "https://localhost:8080/",
          "height": 435
        },
        "id": "cHuhjKCcWLW5",
        "outputId": "42eb965c-b141-4749-c8df-0157d2b4a322"
      },
      "execution_count": 234,
      "outputs": [
        {
          "output_type": "display_data",
          "data": {
            "text/plain": [
              "<Figure size 640x480 with 1 Axes>"
            ],
            "image/png": "[encoded data removed]"
          },
          "metadata": {}
        }
      ]
    },
    {
      "cell_type": "code",
      "source": [
        "from sklearn.base import BaseEstimator, ClassifierMixin\n",
        "from sklearn.metrics import accuracy_score\n",
        "\n",
        "def sign(a):\n",
        "  return (a>=0)*2-1\n",
        "\n",
        "def include_bias(X):\n",
        "  bias = np.ones((X.shape[0], 1))\n",
        "  Xb = np.concatenate((bias, X), axis=1)\n",
        "  return Xb"
      ],
      "metadata": {
        "id": "wk9ksFLkXAN8"
      },
      "execution_count": 235,
      "outputs": []
    },
    {
      "cell_type": "code",
      "source": [
        "from abc import ABC, abstractmethod, abstractstaticmethod\n",
        "\n",
        "class Cost(ABC):\n",
        "  @abstractstaticmethod\n",
        "  def getCost(y, ypred):\n",
        "    pass\n",
        "  @abstractstaticmethod\n",
        "  def getGradient(y, ypred):\n",
        "    pass\n",
        "\n",
        "class WidrowHoff(Cost):\n",
        "  @staticmethod\n",
        "  def getCost(y, ypred):\n",
        "    return 0.5 * (y - ypred) ** 2\n",
        "  @staticmethod\n",
        "  def getGradient(y, ypred, X):\n",
        "    return X.T @ (y - ypred)\n",
        "\n",
        "class SmoothedSurrogate(Cost):\n",
        "  @staticmethod\n",
        "  def getCost(y, ypred):\n",
        "    return np.sum(np.maximum(np.zeros(y.shape), -y * ypred))\n",
        "  @staticmethod\n",
        "  def getGradient(y, ypred, X):\n",
        "    return X.T @ (y - sign(ypred))\n",
        "\n",
        "class HingeLoss(Cost):\n",
        "  @staticmethod\n",
        "  def getCost(y, ypred):\n",
        "    return np.sum(np.maximum(np.zeros(y.shape), 1 - y*ypred))\n",
        "  @staticmethod\n",
        "  def getGradient(y, ypred, X):\n",
        "    marginalserrors = (y * ypred) < 1\n",
        "    marginal_ys = np.copy(y)\n",
        "    marginal_ys[~marginalserrors] = 0\n",
        "    return X.T @ marginal_ys\n",
        "\n",
        "class LogLikehood(Cost):\n",
        "  @staticmethod\n",
        "  def getCost(y, ypred):\n",
        "    return np.sum(np.maximum(np.zeros(y.shape), 1 - y * ypred))\n",
        "  @staticmethod\n",
        "  def getGradient(y, ypred, X):\n",
        "    return X.T @ (y - np.tanh(ypred))\n"
      ],
      "metadata": {
        "id": "OLg-pcM2f-yH"
      },
      "execution_count": 236,
      "outputs": []
    },
    {
      "cell_type": "code",
      "source": [
        "class TrainingAlgorithm(ABC):\n",
        "  @abstractmethod\n",
        "  def getW(self, X, y):\n",
        "    pass\n",
        "\n",
        "class GradientDescent(TrainingAlgorithm):\n",
        "  def __init__(self, learning_rate=0.05, n_iter=100,\n",
        "               regularization=0,\n",
        "               cost=WidrowHoff()):\n",
        "    self.learning_rate = learning_rate\n",
        "    self.n_iter = n_iter\n",
        "    self.regularization = regularization\n",
        "    self.cost = cost\n",
        "\n",
        "  def getW(self, X, y):\n",
        "    w = np.random.uniform(size=X.shape[1])*2-1\n",
        "    for _ in range(self.n_iter):\n",
        "      ypred = X @ w\n",
        "      error = y-ypred\n",
        "      w *= 1 - self.learning_rate * self.regularization\n",
        "      w += self.learning_rate * self.cost.getGradient(y, ypred, X)\n",
        "    return w"
      ],
      "metadata": {
        "id": "16myPgwfX3Uf"
      },
      "execution_count": 237,
      "outputs": []
    },
    {
      "cell_type": "code",
      "source": [
        "class Perceptron(BaseEstimator, ClassifierMixin):\n",
        "  def __init__(self, trainingAlgorithm=GradientDescent()):\n",
        "    self.trainingAlgorithm = trainingAlgorithm\n",
        "\n",
        "  def fit(self, X, y):\n",
        "    Xb = include_bias(X)\n",
        "    self.w = self.trainingAlgorithm.getW(Xb, y)\n",
        "    return self\n",
        "\n",
        "  def predict(self, X):\n",
        "    Xb = include_bias(X)\n",
        "    return sign(Xb @ (self.w))\n"
      ],
      "metadata": {
        "id": "n0h-Qz8yXmA5"
      },
      "execution_count": 238,
      "outputs": []
    },
    {
      "cell_type": "code",
      "source": [
        "Xtest, ytest = criaDataset(1000)"
      ],
      "metadata": {
        "id": "oBGf0S1LxLto"
      },
      "execution_count": 239,
      "outputs": []
    },
    {
      "cell_type": "code",
      "source": [
        "for c in [0, 0.5, 1, 10, 100]:\n",
        "  model = Perceptron(GradientDescent(regularization=c, cost=WidrowHoff()))\n",
        "  model.fit(X, y)\n",
        "  ypred = model.predict(Xtest)\n",
        "  print(f\"{model.trainingAlgorithm.cost.__class__} , c={c}\\t\", accuracy_score(ytest, ypred))"
      ],
      "metadata": {
        "colab": {
          "base_uri": "https://localhost:8080/"
        },
        "id": "jA8XUNKfwxr4",
        "outputId": "be706bfc-f988-433c-872b-608409d8d599"
      },
      "execution_count": 274,
      "outputs": [
        {
          "output_type": "stream",
          "name": "stdout",
          "text": [
            "<class '__main__.WidrowHoff'> , c=0\t 0.539\n",
            "<class '__main__.WidrowHoff'> , c=0.5\t 0.461\n",
            "<class '__main__.WidrowHoff'> , c=1\t 0.539\n",
            "<class '__main__.WidrowHoff'> , c=10\t 0.539\n",
            "<class '__main__.WidrowHoff'> , c=100\t 0.461\n"
          ]
        }
      ]
    },
    {
      "cell_type": "code",
      "source": [
        "for c in [0, 0.5, 1, 10, 100]:\n",
        "  model = Perceptron(GradientDescent(regularization=c, cost=SmoothedSurrogate()))\n",
        "  model.fit(X, y)\n",
        "  ypred = model.predict(Xtest)\n",
        "  print(f\"{model.trainingAlgorithm.cost.__class__} , c={c}\\t\", accuracy_score(ytest, ypred))"
      ],
      "metadata": {
        "colab": {
          "base_uri": "https://localhost:8080/"
        },
        "id": "iME9CjWgxwNw",
        "outputId": "f57c783b-8bbd-49ce-df6b-b0930637ce3a"
      },
      "execution_count": 254,
      "outputs": [
        {
          "output_type": "stream",
          "name": "stdout",
          "text": [
            "<class '__main__.SmoothedSurrogate'> , c=0\t 0.827\n",
            "<class '__main__.SmoothedSurrogate'> , c=0.5\t 0.874\n",
            "<class '__main__.SmoothedSurrogate'> , c=1\t 0.868\n",
            "<class '__main__.SmoothedSurrogate'> , c=10\t 0.539\n",
            "<class '__main__.SmoothedSurrogate'> , c=100\t 0.537\n"
          ]
        }
      ]
    },
    {
      "cell_type": "code",
      "source": [
        "for c in [0, 0.5, 1, 10, 100]:\n",
        "  model = Perceptron(GradientDescent(regularization=c, cost=HingeLoss()))\n",
        "  model.fit(X, y)\n",
        "  ypred = model.predict(Xtest)\n",
        "  print(f\"{model.trainingAlgorithm.cost.__class__} , c={c}\\t\", accuracy_score(ytest, ypred))"
      ],
      "metadata": {
        "colab": {
          "base_uri": "https://localhost:8080/"
        },
        "id": "UBxAW1X0x2J5",
        "outputId": "79d412a7-ab7f-4221-97b7-8c2b3d0e2e2c"
      },
      "execution_count": 261,
      "outputs": [
        {
          "output_type": "stream",
          "name": "stdout",
          "text": [
            "<class '__main__.HingeLoss'> , c=0\t 0.882\n",
            "<class '__main__.HingeLoss'> , c=0.5\t 0.606\n",
            "<class '__main__.HingeLoss'> , c=1\t 0.823\n",
            "<class '__main__.HingeLoss'> , c=10\t 0.461\n",
            "<class '__main__.HingeLoss'> , c=100\t 0.39\n"
          ]
        }
      ]
    },
    {
      "cell_type": "code",
      "source": [
        "for c in [0, 0.5, 1, 10, 100]:\n",
        "  model = Perceptron(GradientDescent(regularization=c, cost=LogLikehood()))\n",
        "  model.fit(X, y)\n",
        "  ypred = model.predict(Xtest)\n",
        "  print(f\"{model.trainingAlgorithm.cost.__class__} , c={c}\\t\", accuracy_score(ytest, ypred))"
      ],
      "metadata": {
        "colab": {
          "base_uri": "https://localhost:8080/"
        },
        "id": "UpSDmJXIx8nw",
        "outputId": "4d189c50-e0b5-4bd8-f307-fdcd659c4c95"
      },
      "execution_count": 266,
      "outputs": [
        {
          "output_type": "stream",
          "name": "stdout",
          "text": [
            "<class '__main__.LogLikehood'> , c=0\t 0.885\n",
            "<class '__main__.LogLikehood'> , c=0.5\t 0.89\n",
            "<class '__main__.LogLikehood'> , c=1\t 0.783\n",
            "<class '__main__.LogLikehood'> , c=10\t 0.461\n",
            "<class '__main__.LogLikehood'> , c=100\t 0.461\n"
          ]
        }
      ]
    },
    {
      "cell_type": "code",
      "source": [
        "costs = [WidrowHoff(), SmoothedSurrogate(), HingeLoss(), LogLikehood()]\n",
        "\n",
        "for cost in costs:\n",
        "  model = Perceptron(GradientDescent(cost=cost))\n",
        "  model.fit(X, y)\n",
        "  ypred = model.predict(Xtest)\n",
        "  print(f\"{model.trainingAlgorithm.cost.__class__}\\t\", accuracy_score(ytest, ypred))"
      ],
      "metadata": {
        "colab": {
          "base_uri": "https://localhost:8080/"
        },
        "id": "2IPecQJ1yHR8",
        "outputId": "182eb848-5ae9-47f9-8375-90d646d682ff"
      },
      "execution_count": 286,
      "outputs": [
        {
          "output_type": "stream",
          "name": "stdout",
          "text": [
            "<class '__main__.WidrowHoff'>\t 0.539\n",
            "<class '__main__.SmoothedSurrogate'>\t 0.846\n",
            "<class '__main__.HingeLoss'>\t 0.882\n",
            "<class '__main__.LogLikehood'>\t 0.9\n"
          ]
        }
      ]
    }
  ]
}
